{
 "cells": [
  {
   "cell_type": "markdown",
   "id": "f6547e0b",
   "metadata": {},
   "source": [
    "<table width=\"100%\">\n",
    "    <td style=\"font-size:40px;font-family:Helvetica;text-align:left;background-color:rgba(81, 209, 246, 1);\">\n",
    "<b>Circuitos de un qúbit y HardWare real</b>\n",
    "</table> \n",
    "$\\newcommand{\\ket}[1]{|#1\\rangle}$"
   ]
  },
  {
   "cell_type": "markdown",
   "id": "8dcdddf0",
   "metadata": {},
   "source": [
    "- **[1 - Creación y medición de circuitos de 1 qúbit con Qiskit](#1)**\n",
    "    - **[1.1 - Sin puertas](#1.1)**\n",
    "    - **[1.2 - Puerta $X$](#1.2)**\n",
    "    - **[1.3 - Puerta H](#1.3)**\n",
    "    - **[1.4 - Inicializar el circuito a partir de un vector de estado](#1.4)**\n",
    "- **[2 - Mandar trabajos a un ordenador real de IBM](#2)**\n",
    "    - **[2.1 - Recuperar resultados de trabajos anteriores con el job id](#2.1)**\n",
    "- **[3 - La moneda cuántia](#3)**\n",
    "- **[4 - Valores esperados](#4)**\n",
    "    - **[4.1  Valor esperado de un observable arbitrario (operador hermítico).](#4.1)**\n",
    "        - **[4.1.1  Inicializando estado $| \\Psi \\rangle $](#4.1.1)**\n",
    "        - **[4.1.2  Midiendo $\\langle Z \\rangle$](#4.1.2)**\n",
    "        - **[4.1.3  Midiendo $\\langle X \\rangle$](#4.1.3)**\n",
    "        - **[4.1.4  Midiendo $\\langle Y \\rangle$](#4.1.4)**\n",
    "    - **[4.2  Valor esperado de un operador unitario (no necesariamente hermítico)](#4.2)**"
   ]
  },
  {
   "cell_type": "code",
   "execution_count": 2,
   "id": "84487d05",
   "metadata": {},
   "outputs": [],
   "source": [
    "# Importamos las librerías y clases necesarias\n",
    "import numpy as np\n",
    "from qiskit.circuit import QuantumRegister, ClassicalRegister,QuantumCircuit\n",
    "from qiskit_aer import AerSimulator\n",
    "from qiskit import transpile\n",
    "from qiskit.quantum_info import Statevector\n",
    "\n",
    "# Import para visualización\n",
    "from qiskit.visualization import plot_histogram, plot_bloch_multivector, array_to_latex"
   ]
  },
  {
   "cell_type": "code",
   "execution_count": 3,
   "id": "4d0a5b16",
   "metadata": {},
   "outputs": [],
   "source": [
    "# Definimos un registro cuántico con un qúbit\n",
    "quantum_reg = QuantumRegister(1) \n",
    "\n",
    "# Definimos un registro clásico con un bit\n",
    "classic_reg = ClassicalRegister(1)"
   ]
  },
  {
   "cell_type": "markdown",
   "id": "a8b4b54a",
   "metadata": {},
   "source": [
    "En Qiskit no es necesario definir los registros, pero cuando veamos algoritmo más complejos veremos lo útil que es tener los qúbits separados en registros. "
   ]
  },
  {
   "cell_type": "markdown",
   "id": "187fd56e",
   "metadata": {},
   "source": [
    "Importemos el simulador que vamos a usar en este notebook:"
   ]
  },
  {
   "cell_type": "code",
   "execution_count": 4,
   "id": "d9869e9b",
   "metadata": {},
   "outputs": [],
   "source": [
    "# Importamos el simulador. Con \"method\" le especificamos el método de simulación\n",
    "simulador = AerSimulator(method = 'statevector')"
   ]
  },
  {
   "cell_type": "markdown",
   "id": "598f2a0d",
   "metadata": {},
   "source": [
    "También podemos llamar primero a la clase del simulador sin pasarle argumentos y después añadir las opciones:"
   ]
  },
  {
   "cell_type": "code",
   "execution_count": 34,
   "id": "456f386d",
   "metadata": {},
   "outputs": [],
   "source": [
    "#simulador = AerSimulator()\n",
    "#sim.set_options(method = 'statevector')"
   ]
  },
  {
   "cell_type": "markdown",
   "id": "99ae445c",
   "metadata": {},
   "source": [
    "<a id=\"1\"></a>\n",
    "<table width=\"100%\">\n",
    "    <td style=\"font-size:25px;font-family:Helvetica;text-align:left;background-color:rgba(33, 252, 255, 0.4);\">\n",
    "<b>1 - Creación y medición de circuitos de 1 qúbit con Qiskit </b>\n",
    "</table>  "
   ]
  },
  {
   "cell_type": "markdown",
   "id": "fb038735",
   "metadata": {},
   "source": [
    "<a id=\"1.1\"></a>\n",
    "### 1.1 - Sin puertas"
   ]
  },
  {
   "cell_type": "markdown",
   "id": "e80b9f5a",
   "metadata": {},
   "source": [
    "Creamos un primer circuito. En este solo vamos a poner un medidor. De esta forma vamos a verificar que por defecto Qiskit (y la mayoría de libreas de quantum) inicializan los estados en $| 0 \\rangle$"
   ]
  },
  {
   "cell_type": "code",
   "execution_count": 3,
   "id": "56d58d3f",
   "metadata": {},
   "outputs": [
    {
     "data": {
      "image/png": "[encoded data removed]",
      "text/plain": [
       "<Figure size 203.481x200.667 with 1 Axes>"
      ]
     },
     "execution_count": 3,
     "metadata": {},
     "output_type": "execute_result"
    }
   ],
   "source": [
    "# Creamos el circuito pasandole los registros. \n",
    "circuit = QuantumCircuit(quantum_reg, classic_reg)\n",
    "\n",
    "# Añadimos el medidor\n",
    "circuit.measure(quantum_reg, classic_reg)\n",
    "# Lo que le estamos diciendo es que medida los qúbits del \"quantum_reg\"\n",
    "# y almacene los resultados de la medida en los bits del \"classic_reg\"\n",
    "\n",
    "\n",
    "# Dibujamos el circuito\n",
    "circuit.draw(output='mpl') # mpl es de Matplolib"
   ]
  },
  {
   "cell_type": "markdown",
   "id": "5e45faf6",
   "metadata": {},
   "source": [
    "El método `circuit.draw('mpl')` genera una figura de Matplotlib, así que podemos almacenarla en una variable y usar los métodos típicos de Matplotlib como el `savefig()`"
   ]
  },
  {
   "cell_type": "code",
   "execution_count": 4,
   "id": "ab57ecd3",
   "metadata": {},
   "outputs": [],
   "source": [
    "Fig = circuit.draw(output='mpl')\n",
    "Fig.savefig(\"Fig_circuit_1\")\n",
    "Fig"
   ]
  },
  {
   "cell_type": "markdown",
   "id": "06336867",
   "metadata": {},
   "source": [
    "También se puede dibujar el circuito como texto para imprimirlo por terminal"
   ]
  },
  {
   "cell_type": "code",
   "execution_count": 5,
   "id": "e906a8e5",
   "metadata": {},
   "outputs": [
    {
     "name": "stdout",
     "output_type": "stream",
     "text": [
      "      ┌─┐\n",
      "  q0: ┤M├\n",
      "      └╥┘\n",
      "c0: 1/═╩═\n",
      "       0 \n"
     ]
    }
   ],
   "source": [
    "print(circuit.draw(output='text'))"
   ]
  },
  {
   "cell_type": "markdown",
   "id": "85e6ba4c",
   "metadata": {},
   "source": [
    "Transpilamos el circuito. Veremos más adelante lo que es la transpilación cuando hablemos de sets de puertas universales."
   ]
  },
  {
   "cell_type": "code",
   "execution_count": 8,
   "id": "4a76da9b",
   "metadata": {},
   "outputs": [],
   "source": [
    "# transpilamos\n",
    "t_circuit = transpile(circuit, backend = simulador)"
   ]
  },
  {
   "cell_type": "markdown",
   "id": "4235c7ef",
   "metadata": {},
   "source": [
    "Ahora podemos ejecutar la simulación"
   ]
  },
  {
   "cell_type": "markdown",
   "id": "a3711ce1",
   "metadata": {},
   "source": [
    "Ejecutamos la simulación con 1000 shots (es decir, corremos el circuito 1000 veces)"
   ]
  },
  {
   "cell_type": "code",
   "execution_count": 9,
   "id": "b4eb13dc",
   "metadata": {},
   "outputs": [
    {
     "data": {
      "text/plain": [
       "Result(backend_name='aer_simulator_statevector', backend_version='0.12.2', qobj_id='', job_id='e36aab9f-8d11-4253-bbde-40315ab55c21', success=True, results=[ExperimentResult(shots=1000, success=True, meas_level=2, data=ExperimentResultData(counts={'0x0': 1000}), header=QobjExperimentHeader(creg_sizes=[['c0', 1]], global_phase=0.0, memory_slots=1, n_qubits=1, name='circuit-120', qreg_sizes=[['q0', 1]], metadata={}), status=DONE, seed_simulator=233644065, metadata={'noise': 'ideal', 'batched_shots_optimization': False, 'measure_sampling': True, 'parallel_shots': 1, 'remapped_qubits': False, 'active_input_qubits': [0], 'num_clbits': 1, 'parallel_state_update': 20, 'sample_measure_time': 0.000387975, 'num_qubits': 1, 'device': 'CPU', 'input_qubit_map': [[0, 0]], 'method': 'statevector', 'fusion': {'applied': False, 'max_fused_qubits': 5, 'threshold': 14, 'enabled': True}}, time_taken=0.004128208)], date=2023-09-05T16:35:11.683697, status=COMPLETED, header=None, metadata={'time_taken_execute': 0.004177585, 'mpi_rank': 0, 'num_mpi_processes': 1, 'max_gpu_memory_mb': 0, 'max_memory_mb': 64099, 'parallel_experiments': 1, 'num_processes_per_experiments': 1, 'omp_enabled': True}, time_taken=0.005807161331176758)"
      ]
     },
     "execution_count": 9,
     "metadata": {},
     "output_type": "execute_result"
    }
   ],
   "source": [
    "# Ejecutamos la simulación con 1000 shots \n",
    "result = simulador.run(t_circuit, shots = 1000).result()\n",
    "result"
   ]
  },
  {
   "cell_type": "markdown",
   "id": "d64ff288",
   "metadata": {},
   "source": [
    "Vemos que la salida tiene mucha información. Lo más importante las cuentas, es decir, cuantas veces se ha medido cada solución:"
   ]
  },
  {
   "cell_type": "code",
   "execution_count": 10,
   "id": "449ecdf8",
   "metadata": {
    "scrolled": true
   },
   "outputs": [
    {
     "data": {
      "text/plain": [
       "{'0': 1000}"
      ]
     },
     "execution_count": 10,
     "metadata": {},
     "output_type": "execute_result"
    }
   ],
   "source": [
    "counts = result.get_counts()\n",
    "counts"
   ]
  },
  {
   "cell_type": "markdown",
   "id": "637fb0c0",
   "metadata": {},
   "source": [
    "Vemos que, como era de esperar, las 1000 ejecuciones del circuito nos han dado $| 0 \\rangle$"
   ]
  },
  {
   "cell_type": "markdown",
   "id": "5352220b",
   "metadata": {},
   "source": [
    "Podemos hacer un histograma con las cuentas. \n",
    "\n",
    "Nuevamente, el histograma es una figura de Matplotlib, así que podemos usar `savefig()`"
   ]
  },
  {
   "cell_type": "code",
   "execution_count": 11,
   "id": "769de446",
   "metadata": {
    "scrolled": true
   },
   "outputs": [
    {
     "data": {
      "image/png": "[encoded data removed]",
      "text/plain": [
       "<Figure size 700x500 with 1 Axes>"
      ]
     },
     "execution_count": 11,
     "metadata": {},
     "output_type": "execute_result"
    }
   ],
   "source": [
    "Fig = plot_histogram(counts)\n",
    "Fig.savefig('Fig_circuit_1_hist')\n",
    "Fig"
   ]
  },
  {
   "cell_type": "markdown",
   "id": "5476b379",
   "metadata": {},
   "source": [
    "<a id=\"1.2\"></a>\n",
    "### 1.2 - Puerta $X$"
   ]
  },
  {
   "cell_type": "markdown",
   "id": "4cb220e7",
   "metadata": {},
   "source": [
    "Veamos ahora un ejemplo de un circuito con la puerta $X$ para ver su acción"
   ]
  },
  {
   "cell_type": "code",
   "execution_count": 12,
   "id": "f29c5eb1",
   "metadata": {},
   "outputs": [
    {
     "name": "stdout",
     "output_type": "stream",
     "text": [
      "      ┌───┐┌─┐\n",
      "  q0: ┤ X ├┤M├\n",
      "      └───┘└╥┘\n",
      "c0: 1/══════╩═\n",
      "            0 \n"
     ]
    },
    {
     "data": {
      "image/png": "[encoded data removed]",
      "text/plain": [
       "<Figure size 287.093x200.667 with 1 Axes>"
      ]
     },
     "execution_count": 12,
     "metadata": {},
     "output_type": "execute_result"
    }
   ],
   "source": [
    "# Creamos el circuito pasandole los registros. \n",
    "circuit_X = QuantumCircuit(quantum_reg, classic_reg)\n",
    "\n",
    "# Añadimos la puerta X al primer (y único) qúbit\n",
    "circuit_X.x(0)\n",
    "\n",
    "# Añadimos el medidor\n",
    "circuit_X.measure(quantum_reg, classic_reg)\n",
    "\n",
    "# Podemos dibujarlo en modo texto\n",
    "print(circuit_X.draw(output='text'))\n",
    "\n",
    "# Podemos dibujarlo como figura de matplolib\n",
    "Fig = circuit_X.draw(output='mpl') # mpl es de Matplolib\n",
    "Fig.savefig(\"Fig_circuit_X\")\n",
    "Fig"
   ]
  },
  {
   "cell_type": "markdown",
   "id": "ea3d4f07",
   "metadata": {},
   "source": [
    "Como ya hemos definido el simulador `simulador = AerSimulator(method = \"statevector\")` no hace falta que lo volvamos a hacer"
   ]
  },
  {
   "cell_type": "code",
   "execution_count": 13,
   "id": "85da0417",
   "metadata": {},
   "outputs": [
    {
     "name": "stdout",
     "output_type": "stream",
     "text": [
      "Resultado:  {'1': 1000}\n"
     ]
    },
    {
     "data": {
      "image/png": "[encoded data removed]",
      "text/plain": [
       "<Figure size 700x500 with 1 Axes>"
      ]
     },
     "execution_count": 13,
     "metadata": {},
     "output_type": "execute_result"
    }
   ],
   "source": [
    "# simulador = AerSimulator(method = 'statevector')\n",
    "# transpilamos\n",
    "t_circuit_X = transpile(circuit_X, backend = simulador)\n",
    "\n",
    "# Ejecutamos\n",
    "result_X = simulador.run(t_circuit_X, shots = 1000).result()\n",
    "counts_X = result_X.get_counts()\n",
    "print(\"Resultado: \", counts_X)\n",
    "\n",
    "Fig = plot_histogram(counts_X)\n",
    "Fig.savefig('Fig_circuit_X_hist')\n",
    "Fig"
   ]
  },
  {
   "cell_type": "markdown",
   "id": "ff3e06d2",
   "metadata": {},
   "source": [
    "<a id=\"1.3\"></a>\n",
    "### 1.3 - Puerta H"
   ]
  },
  {
   "cell_type": "markdown",
   "id": "b4ca5602",
   "metadata": {},
   "source": [
    "Veamos ahora un ejemplo de un circuito con la puerta $H$ para ver su acción"
   ]
  },
  {
   "cell_type": "code",
   "execution_count": 14,
   "id": "aa28061e",
   "metadata": {
    "scrolled": false
   },
   "outputs": [
    {
     "data": {
      "image/png": "[encoded data removed]",
      "text/plain": [
       "<Figure size 287.093x200.667 with 1 Axes>"
      ]
     },
     "execution_count": 14,
     "metadata": {},
     "output_type": "execute_result"
    }
   ],
   "source": [
    "# Creamos el circuito pasandole los registros. \n",
    "circuit_H = QuantumCircuit(quantum_reg, classic_reg)\n",
    "\n",
    "# Añadimos la puerta X al primer (y único) qúbit\n",
    "circuit_H.h(0)\n",
    "\n",
    "# Añadimos el medidor\n",
    "circuit_H.measure(quantum_reg, classic_reg)\n",
    "\n",
    "# Podemos dibujarlo en modo texto\n",
    "#print(circuit_H.draw(output='text'))\n",
    "\n",
    "# Podemos dibujarlo como figura de matplolib\n",
    "Fig = circuit_H.draw(output='mpl') # mpl es de Matplolib\n",
    "Fig.savefig(\"Fig_circuit_H\")\n",
    "Fig"
   ]
  },
  {
   "cell_type": "markdown",
   "id": "11d2a324",
   "metadata": {},
   "source": [
    "Como ya hemos definido el simulador `simulador = AerSimulator(method = \"statevector\")` no hace falta que lo volvamos a hacer"
   ]
  },
  {
   "cell_type": "code",
   "execution_count": 15,
   "id": "2779916f",
   "metadata": {},
   "outputs": [
    {
     "name": "stdout",
     "output_type": "stream",
     "text": [
      "Resultado:  {'0': 522, '1': 478}\n"
     ]
    },
    {
     "data": {
      "image/png": "[encoded data removed]",
      "text/plain": [
       "<Figure size 700x500 with 1 Axes>"
      ]
     },
     "execution_count": 15,
     "metadata": {},
     "output_type": "execute_result"
    }
   ],
   "source": [
    "# simulador = AerSimulator(method = 'statevector')\n",
    "# transpilamos\n",
    "t_circuit_H = transpile(circuit_H, backend = simulador)\n",
    "\n",
    "# Ejecutamos\n",
    "result_H = simulador.run(t_circuit_H, shots = 1000).result()\n",
    "counts_H = result_H.get_counts()\n",
    "print(\"Resultado: \", counts_H)\n",
    "\n",
    "Fig = plot_histogram(counts_H)\n",
    "Fig.savefig('Fig_circuit_H_hist')\n",
    "Fig"
   ]
  },
  {
   "cell_type": "markdown",
   "id": "9f1e18a0",
   "metadata": {},
   "source": [
    "Como podemos ver, ahora aproximadamente la mitad de las veces obtenemos $| 0 \\rangle$ y la otra mitad obtenemos $| 1 \\rangle$. Esto es debido a que \n",
    "$$\n",
    "H |0  \\rangle = \\frac{1}{\\sqrt{2}} \\left(| 0 \\rangle + | 1 \\rangle \\right)\n",
    "$$\n",
    "Recordemos que la probabilidad de medir cada estado es igual al módulo cuadrado de su amplitud (del coeficiente que acompaña al estado)"
   ]
  },
  {
   "cell_type": "markdown",
   "id": "2c781c00",
   "metadata": {},
   "source": [
    "<a id=\"1.4\"></a>\n",
    "### 1.4 - Inicializar el circuito a partir de un vector de estado "
   ]
  },
  {
   "cell_type": "code",
   "execution_count": 48,
   "id": "e624d2df",
   "metadata": {
    "scrolled": false
   },
   "outputs": [
    {
     "data": {
      "text/latex": [
       "$$0.9689124217 |0\\rangle+(0.2363540298 + 0.0731128692 i) |1\\rangle$$"
      ],
      "text/plain": [
       "<IPython.core.display.Latex object>"
      ]
     },
     "execution_count": 48,
     "metadata": {},
     "output_type": "execute_result"
    }
   ],
   "source": [
    "circuit_state = QuantumCircuit(quantum_reg, classic_reg)\n",
    "\n",
    "# inicializamos un estado arbitrario en la esfera de Bloch\n",
    "theta = 0.5  #rad\n",
    "phi   = 0.3  #rad\n",
    "psi_state = [np.cos(theta/2),(np.exp(1j*phi))*np.sin(theta/2)]\n",
    "\n",
    "# Veamos el vector de estado\n",
    "statevector_plus = Statevector(psi_state)\n",
    "statevector_plus.draw('latex')"
   ]
  },
  {
   "cell_type": "markdown",
   "id": "8c7461f2",
   "metadata": {},
   "source": [
    "Veamos las probabilidades teóricas"
   ]
  },
  {
   "cell_type": "code",
   "execution_count": 59,
   "id": "d2b33dd4",
   "metadata": {
    "scrolled": true
   },
   "outputs": [
    {
     "name": "stdout",
     "output_type": "stream",
     "text": [
      "p_0= 0.939 , p_1= 0.061\n"
     ]
    }
   ],
   "source": [
    "print('p_0=', np.round(np.abs(psi_state[0])**2,3),', p_1=', np.round(np.abs(psi_state[1])**2,3))"
   ]
  },
  {
   "cell_type": "markdown",
   "id": "fe665a65",
   "metadata": {},
   "source": [
    "Inicializamos el circuito y medimos"
   ]
  },
  {
   "cell_type": "code",
   "execution_count": 51,
   "id": "d3ca201a",
   "metadata": {},
   "outputs": [
    {
     "data": {
      "text/plain": [
       "<qiskit.circuit.instructionset.InstructionSet at 0x7fc2344d5270>"
      ]
     },
     "execution_count": 51,
     "metadata": {},
     "output_type": "execute_result"
    }
   ],
   "source": [
    "# inicializamos el estado de entrada  \n",
    "circuit_state.initialize(psi_state,0)\n",
    "circuit_state.measure(quantum_reg, classic_reg)"
   ]
  },
  {
   "cell_type": "code",
   "execution_count": 55,
   "id": "d1a4c31d",
   "metadata": {
    "scrolled": true
   },
   "outputs": [
    {
     "name": "stdout",
     "output_type": "stream",
     "text": [
      "Resultado:  {'1': 6188, '0': 93812}\n"
     ]
    },
    {
     "data": {
      "image/png": "[encoded data removed]",
      "text/plain": [
       "<Figure size 700x500 with 1 Axes>"
      ]
     },
     "execution_count": 55,
     "metadata": {},
     "output_type": "execute_result"
    }
   ],
   "source": [
    "# simulador = AerSimulator(method = 'statevector')\n",
    "# transpilamos\n",
    "t_circuit_state = transpile(circuit_state, backend = simulador)\n",
    "\n",
    "# Ejecutamos\n",
    "result_state = simulador.run(t_circuit_state, shots = 100000).result()\n",
    "counts_state = result_state.get_counts()\n",
    "print(\"Resultado: \", counts_state)\n",
    "\n",
    "Fig = plot_histogram(counts_state)\n",
    "Fig.savefig('Fig_circuit_state_hist')\n",
    "Fig"
   ]
  },
  {
   "cell_type": "markdown",
   "id": "042bb158",
   "metadata": {},
   "source": [
    "vamos a recuperar las probabilidades haciendo estadística"
   ]
  },
  {
   "cell_type": "code",
   "execution_count": 56,
   "id": "3d46e457",
   "metadata": {},
   "outputs": [
    {
     "name": "stdout",
     "output_type": "stream",
     "text": [
      "probability distribution = {'1': 0.0619, '0': 0.9381}\n"
     ]
    }
   ],
   "source": [
    "def get_prob_dist(counts): # counts es un diccionario \n",
    "    N=sum([n for n in counts.values()]) # numero de shots\n",
    "    prob_dist = {bit:np.round(v/N,4) for bit,v in counts.items()} # this is a modified dictionary\n",
    "    if len(prob_dist) == 1:  # we are two amplitudes (one qubit), so in this case, pad with a 0\n",
    "        prob_dist.append(0)\n",
    "    return prob_dist\n",
    "\n",
    "prob_distr_state = get_prob_dist(counts_state)\n",
    "print(\"probability distribution =\", prob_distr_state)"
   ]
  },
  {
   "cell_type": "markdown",
   "id": "1de7f220",
   "metadata": {},
   "source": [
    "<a id=\"2\"></a>\n",
    "<table width=\"100%\">\n",
    "    <td style=\"font-size:25px;font-family:Helvetica;text-align:left;background-color:rgba(33, 252, 255, 0.4);\">\n",
    "<b>2 - Mandar trabajos a un ordenador real de IBM </b>\n",
    "</table>  "
   ]
  },
  {
   "cell_type": "markdown",
   "id": "14c345db",
   "metadata": {},
   "source": [
    "Para mandar trabajos usaremos la librería `qiskit_ibm_provider`. Hasta hace no mucho se usaba la librería `qiskit_ibmq_provider`, pero esta se ha marcado como deprecated. \n",
    "\n",
    "Para mas información sobre `qiskit_ibm_provider` y las diferencias con la anterior librería, puede consultarse la [documentación de Qiskit](https://qiskit.org/ecosystem/ibm-provider/tutorials/Migration_Guide_from_qiskit-ibmq-provider.html)"
   ]
  },
  {
   "cell_type": "markdown",
   "id": "53784c5f",
   "metadata": {},
   "source": [
    "Para mandar trabajos a los ordenadores cuánticos de IBM, lo primero que necesitamos es una cuenta en [IBMid](https://quantum-computing.ibm.com/). \n",
    "Una vez creada la cuenta, hay que copiar el token que aparece en la página principal. Este lo pegamos en la línea comentada en el siguiente cuadro de código (descomentando la linea)"
   ]
  },
  {
   "cell_type": "code",
   "execution_count": 16,
   "id": "180e0ce1",
   "metadata": {},
   "outputs": [],
   "source": [
    "from qiskit_ibm_provider import IBMProvider\n",
    "from qiskit.providers.ibmq import least_busy\n",
    "from qiskit.tools.monitor import job_monitor\n",
    "\n",
    "\n",
    "# Save account credentials.\n",
    "#IBMProvider.save_account(token=MY_API_TOKEN)\n",
    "\n",
    "# Load a previously saved account.\n",
    "provider = IBMProvider()\n",
    "\n",
    "# Select a different hub/group/project.\n",
    "provider = IBMProvider(instance=\"ibm-q/open/main\")"
   ]
  },
  {
   "cell_type": "markdown",
   "id": "5d22ac23",
   "metadata": {},
   "source": [
    "Vamos a mandar a ejecutar en hardware real el circuito de la puerta H"
   ]
  },
  {
   "cell_type": "code",
   "execution_count": 17,
   "id": "deccb4c2",
   "metadata": {
    "scrolled": false
   },
   "outputs": [
    {
     "name": "stdout",
     "output_type": "stream",
     "text": [
      "cjrjpiq7b8jcak7c10lg\n"
     ]
    }
   ],
   "source": [
    "backend = least_busy(provider.backends(filters=lambda b: b.configuration().n_qubits >= 3 and\n",
    "                                   not b.configuration().simulator and b.status().operational==True))\n",
    "t_circuit_H = transpile(circuit_H, backend, optimization_level=3)\n",
    "job = backend.run(t_circuit_H, shots = 1000)\n",
    "job_id = job.job_id()\n",
    "print(job_id)\n"
   ]
  },
  {
   "cell_type": "markdown",
   "id": "1982fad7",
   "metadata": {},
   "source": [
    "Podemos monitorizar desde el notebook en que estado está nuestro trabajo. Otra obción es hacerlo desde la [web](https://quantum-computing.ibm.com/jobs). La celda siguiente podemos correrla tantas veces como queramos para ver como está nuestro trabajo."
   ]
  },
  {
   "cell_type": "code",
   "execution_count": 18,
   "id": "261fa1c3",
   "metadata": {},
   "outputs": [
    {
     "data": {
      "text/plain": [
       "<JobStatus.QUEUED: 'job is queued'>"
      ]
     },
     "execution_count": 18,
     "metadata": {},
     "output_type": "execute_result"
    }
   ],
   "source": [
    "job.status()"
   ]
  },
  {
   "cell_type": "markdown",
   "id": "97007c41",
   "metadata": {},
   "source": [
    "También podemos usar el job_monitor, que se actualiza solo sin tener que ejecutar varias veces la celda."
   ]
  },
  {
   "cell_type": "code",
   "execution_count": 19,
   "id": "55fa8a49",
   "metadata": {},
   "outputs": [],
   "source": [
    "#job_monitor(job, interval = 1, line_discipline = '\\n') "
   ]
  },
  {
   "cell_type": "markdown",
   "id": "03272cde",
   "metadata": {},
   "source": [
    "Veamos en que ordenador se ha ejecutado"
   ]
  },
  {
   "cell_type": "code",
   "execution_count": 20,
   "id": "a06d6770",
   "metadata": {},
   "outputs": [
    {
     "data": {
      "text/plain": [
       "<IBMBackend('ibmq_jakarta')>"
      ]
     },
     "execution_count": 20,
     "metadata": {},
     "output_type": "execute_result"
    }
   ],
   "source": [
    "backend"
   ]
  },
  {
   "cell_type": "code",
   "execution_count": 25,
   "id": "5ed0cba3",
   "metadata": {},
   "outputs": [
    {
     "data": {
      "text/plain": [
       "{'0': 2029, '1': 1971}"
      ]
     },
     "execution_count": 25,
     "metadata": {},
     "output_type": "execute_result"
    }
   ],
   "source": [
    "result_IBM = job.result()\n",
    "counts_IBM = result_IBM.get_counts()\n",
    "counts_IBM"
   ]
  },
  {
   "cell_type": "markdown",
   "id": "48dd73ee",
   "metadata": {},
   "source": [
    "<a id=\"2.1\"></a>\n",
    "### 2.1 - Recuperar resultados de trabajos anteriores con el job id"
   ]
  },
  {
   "cell_type": "markdown",
   "id": "bb803992",
   "metadata": {},
   "source": [
    "Es importante guardar el Job Id, pues con el podemos recuperar los resultados de un trabajo anterior. Por ejemplo, lo que podemos hacer es ejecutar un circuito y si vemos usando `job.status()` que tarda mucho en entrar en ejecución, podemos anotarnos el id y otro ver los resultado, sin tener que dejar el Notebook abierto."
   ]
  },
  {
   "cell_type": "code",
   "execution_count": 21,
   "id": "febc1b8a",
   "metadata": {},
   "outputs": [
    {
     "data": {
      "text/plain": [
       "<JobStatus.DONE: 'job has successfully run'>"
      ]
     },
     "execution_count": 21,
     "metadata": {},
     "output_type": "execute_result"
    }
   ],
   "source": [
    "job_id=\"cjrjkq4ieg62g9od3jk0\"\n",
    "retrieve_job = provider.retrieve_job(job_id)\n",
    "retrieve_job.status()"
   ]
  },
  {
   "cell_type": "code",
   "execution_count": 22,
   "id": "ba254478",
   "metadata": {},
   "outputs": [
    {
     "data": {
      "text/plain": [
       "{'0': 508, '1': 492}"
      ]
     },
     "execution_count": 22,
     "metadata": {},
     "output_type": "execute_result"
    }
   ],
   "source": [
    "result_ret = retrieve_job.result()\n",
    "counts_ret = result_ret.get_counts()\n",
    "counts_ret"
   ]
  },
  {
   "cell_type": "code",
   "execution_count": 23,
   "id": "d4332c75",
   "metadata": {
    "scrolled": true
   },
   "outputs": [
    {
     "data": {
      "image/png": "[encoded data removed]",
      "text/plain": [
       "<Figure size 700x500 with 1 Axes>"
      ]
     },
     "execution_count": 23,
     "metadata": {},
     "output_type": "execute_result"
    }
   ],
   "source": [
    "Fig = plot_histogram(counts_ret)\n",
    "Fig"
   ]
  },
  {
   "cell_type": "markdown",
   "id": "ea7b4e4e",
   "metadata": {},
   "source": [
    "<a id=\"3\"></a>\n",
    "<table width=\"100%\">\n",
    "    <td style=\"font-size:25px;font-family:Helvetica;text-align:left;background-color:rgba(33, 252, 255, 0.4);\">\n",
    "<b>3 - La moneda cuántica </b>\n",
    "</table>  "
   ]
  },
  {
   "cell_type": "markdown",
   "id": "8eab12df",
   "metadata": {},
   "source": [
    "Vamos a ver aquí a modo de ejemplo un experimento simple: \\textbf{la moneda cuántica.}\n",
    "\n",
    "El resultado de tirar una moneda al aire es una variable aleatoria con dos resultados equiprobables:  cara y cruz.  Es irrelevante si analizamos el resultado cada tirada o cada dos, o tres tiradas. Las frecuencias relativas de caras y cruces, siempre serán próximas a $1/2$. Es decir, podemos tirar la moneda, recogerla sin mirarla, volver a tirar, y las probabilidades no cambian.\n",
    "\n",
    "Podemos imaginar un experimento similar con un qúbit, donde cara $\\to 0$ y cruz $\\to 1$ son los resultados posibles de la medida en la base $Z$. Como al tirar la moneda, mientras esta está en el aire podemos pensar que está en ``una superposición equiprobable del cara y cruz'', el hecho de \\textbf{tirar la moneda} en computación cuántica será aplicar el operador $H$. \n",
    "\n",
    "Haciendo esta consideración, podemos ver que no es lo mismo tirar la moneda 1 vez y mirar \n",
    "$$\n",
    "\\ket{0}~ \\stackrel{\\rm tirar}{\\longrightarrow} ~ H \\ket{0}= \\ket{+} ~ \\stackrel{\\rm medir}{\\longrightarrow} ~p(0) = p(1) = 0.5\n",
    "$$\n",
    "que tirarla dos veces y mirar\n",
    "$$\n",
    "\\ket{0}~ \\stackrel{\\rm tirar}{\\longrightarrow} ~ H \\ket{0}~ \\stackrel{\\rm tirar}{\\longrightarrow} H^2\\ket{0} = \\ket{0} ~ \\stackrel{\\rm medir}{\\longrightarrow} ~p(0) = 1 ~,~p(1) = 0\n",
    "$$\n",
    "El objetivo de este experimento es simplemente ver que ciertas puertas son sus propias inversas y que cuando aplicamos las aplicamos un número par de veces seguidas, es como si no aplicáramos nada. "
   ]
  },
  {
   "cell_type": "markdown",
   "id": "3d5e8e65",
   "metadata": {},
   "source": [
    "Hagamos dos circuitos para hacer dos pruebas. Veamos que pasa si medimos después de la primero $H$ y si no:"
   ]
  },
  {
   "cell_type": "code",
   "execution_count": 26,
   "id": "2b7c127c",
   "metadata": {},
   "outputs": [
    {
     "data": {
      "text/plain": [
       "<qiskit.circuit.instructionset.InstructionSet at 0x7fc2360c4ac0>"
      ]
     },
     "execution_count": 26,
     "metadata": {},
     "output_type": "execute_result"
    }
   ],
   "source": [
    "classic_reg_2_bits = ClassicalRegister(2)\n",
    "\n",
    "circuit_coin_1 = QuantumCircuit(quantum_reg, classic_reg_2_bits)\n",
    "circuit_coin_1.h(0)\n",
    "circuit_coin_1.measure(quantum_reg, classic_reg_2_bits[0]) # Añadimos una medida intermedia.\n",
    "circuit_coin_1.h(0)\n",
    "circuit_coin_1.measure(quantum_reg, classic_reg_2_bits[1])\n",
    "\n",
    "circuit_coin_2 = QuantumCircuit(quantum_reg, classic_reg)\n",
    "circuit_coin_2.h(0)\n",
    "circuit_coin_2.h(0)\n",
    "circuit_coin_2.measure(quantum_reg, classic_reg)\n",
    "\n"
   ]
  },
  {
   "cell_type": "code",
   "execution_count": 27,
   "id": "3ee700d1",
   "metadata": {},
   "outputs": [
    {
     "data": {
      "image/png": "[encoded data removed]",
      "text/plain": [
       "<Figure size 454.315x200.667 with 1 Axes>"
      ]
     },
     "execution_count": 27,
     "metadata": {},
     "output_type": "execute_result"
    }
   ],
   "source": [
    "Fig_coin_1 = circuit_coin_1.draw(output='mpl') # mpl es de Matplolib\n",
    "Fig_coin_1.savefig(\"Fig_circuit_coin_1\")\n",
    "Fig_coin_1"
   ]
  },
  {
   "cell_type": "code",
   "execution_count": 28,
   "id": "1e321a35",
   "metadata": {},
   "outputs": [
    {
     "data": {
      "image/png": "[encoded data removed]",
      "text/plain": [
       "<Figure size 370.704x200.667 with 1 Axes>"
      ]
     },
     "execution_count": 28,
     "metadata": {},
     "output_type": "execute_result"
    }
   ],
   "source": [
    "Fig_coin_2 = circuit_coin_2.draw(output='mpl') # mpl es de Matplolib\n",
    "Fig_coin_2.savefig(\"Fig_circuit_coin_1\")\n",
    "Fig_coin_2"
   ]
  },
  {
   "cell_type": "code",
   "execution_count": 29,
   "id": "cdf2d8de",
   "metadata": {},
   "outputs": [
    {
     "name": "stdout",
     "output_type": "stream",
     "text": [
      "Resultado:  {'11': 238, '00': 251, '10': 261, '01': 250}\n",
      "Resultado:  {'0': 1000}\n"
     ]
    }
   ],
   "source": [
    "# transpilamos\n",
    "t_circuit_coin_1 = transpile(circuit_coin_1, backend = simulador)\n",
    "t_circuit_coin_2 = transpile(circuit_coin_2, backend = simulador)\n",
    "\n",
    "# Ejecutamos\n",
    "result_coin_1 = simulador.run(t_circuit_coin_1, shots = 1000).result()\n",
    "counts_coin_1 = result_coin_1.get_counts()\n",
    "print(\"Resultado: \", counts_coin_1)\n",
    "\n",
    "result_coin_2 = simulador.run(t_circuit_coin_2, shots = 1000).result()\n",
    "counts_coin_2 = result_coin_2.get_counts()\n",
    "print(\"Resultado: \", counts_coin_2)"
   ]
  },
  {
   "cell_type": "code",
   "execution_count": 30,
   "id": "9feecb5b",
   "metadata": {},
   "outputs": [
    {
     "data": {
      "image/png": "[encoded data removed]",
      "text/plain": [
       "<Figure size 700x500 with 1 Axes>"
      ]
     },
     "execution_count": 30,
     "metadata": {},
     "output_type": "execute_result"
    }
   ],
   "source": [
    "Fig = plot_histogram(counts_coin_1)\n",
    "Fig.savefig('Fig_circuit_coin_1_hist')\n",
    "Fig"
   ]
  },
  {
   "cell_type": "markdown",
   "id": "3208448f",
   "metadata": {},
   "source": [
    "Lo resultados $00$ y$11$ son aquellos en los que hemos medido los mismo en los dos medidores, es decir, en los dos tiradas ha salido cara o cruz. \n",
    "En los otros casos, no hemos medido lo mismo, es decir, en una tirada ha salido cara y en la otra cruz."
   ]
  },
  {
   "cell_type": "code",
   "execution_count": 17,
   "id": "6f7c1da7",
   "metadata": {
    "scrolled": true
   },
   "outputs": [
    {
     "data": {
      "image/png": "[encoded data removed]",
      "text/plain": [
       "<Figure size 700x500 with 1 Axes>"
      ]
     },
     "execution_count": 17,
     "metadata": {},
     "output_type": "execute_result"
    }
   ],
   "source": [
    "Fig = plot_histogram(counts_coin_2)\n",
    "Fig.savefig('Fig_circuit_coin_2_hist')\n",
    "Fig"
   ]
  },
  {
   "cell_type": "markdown",
   "id": "4964fe2e",
   "metadata": {},
   "source": [
    "Vemos que **medir altera nuestro resultado**"
   ]
  },
  {
   "cell_type": "markdown",
   "id": "26e25fdf",
   "metadata": {},
   "source": [
    "<a id=\"4\"></a>\n",
    "<table width=\"100%\">\n",
    "    <td style=\"font-size:25px;font-family:Helvetica;text-align:left;background-color:rgba(33, 252, 255, 0.4);\">\n",
    "<b>4 - Valores esperados </b>\n",
    "</table>  "
   ]
  },
  {
   "cell_type": "markdown",
   "id": "e0bc8967",
   "metadata": {},
   "source": [
    "<a id=\"4.1\"></a>\n",
    "### 4.1 - Valor esperado de un observable arbitrario (operador hermítico)."
   ]
  },
  {
   "cell_type": "markdown",
   "id": "6fe8bd25",
   "metadata": {},
   "source": [
    "Vamos a ver como se mide el valor esperado de un observable arbitrario $A$ en un estado arbitrario $\\ket{\\Psi}$. Estos valores esperados se denotan de la siguiente forma: $\\langle Z \\rangle_\\Psi$. \n",
    "\n",
    "Cualquier observable sobre un cúbit cumple $A = A^\\dagger$ (es hermítico) con lo que puede expresarse en la base\n",
    "\t\\begin{equation} \\label{ec_medidas1_expansion_A_en_Paulis}\n",
    "\tA = a I + n_x X + n_y Y  + n_z Z \\, .\n",
    "\t\\end{equation}\n",
    "Los coeficientes se obtienen haciendo uso de las relaciones $\\frac{1}{2}$ tr$ (\\sigma_i \\sigma_j) = \\delta_{ij}$ y de tr$(\\sigma_i)=0$, de las cuales se obtiene\n",
    "\t\\begin{align}\n",
    "\t&\\boxed{a  = \\frac{1}{2} \\text{ tr}(A)},        &         &\\boxed{n_i = \\frac{1}{2} \\text{ tr}  (A \\sigma_i)},\n",
    "\t\\end{align} \n",
    "Entonces, podremos obtener el valor esperado de $A$  si somos capaces de medir los valores esperados de $X,$ $Y$ y $Z$.\n",
    "\t\\begin{equation}\n",
    "\t\\boxed{\\langle A\\rangle_\\Psi = a + n_x \\langle X\\rangle_\\Psi + n_y \\langle Y\\rangle_\\Psi + n_z \\langle Z\\rangle_\\Psi}\n",
    "\t\\end{equation}"
   ]
  },
  {
   "cell_type": "markdown",
   "id": "97d4425e",
   "metadata": {},
   "source": [
    "<a id=\"4.1.1\"></a>\n",
    "#### 4.1.1 - Inicializando estado $| \\Psi \\rangle $"
   ]
  },
  {
   "cell_type": "markdown",
   "id": "18399595",
   "metadata": {},
   "source": [
    "Vamos a usar el resultado del circuito de la [sección 1.1.4](#sec_1.1.4)"
   ]
  },
  {
   "cell_type": "code",
   "execution_count": 61,
   "id": "76c490e6",
   "metadata": {},
   "outputs": [
    {
     "data": {
      "text/latex": [
       "$$0.9689124217 |0\\rangle+(0.2363540298 + 0.0731128692 i) |1\\rangle$$"
      ],
      "text/plain": [
       "<IPython.core.display.Latex object>"
      ]
     },
     "execution_count": 61,
     "metadata": {},
     "output_type": "execute_result"
    }
   ],
   "source": [
    "statevector_plus.draw('latex')"
   ]
  },
  {
   "cell_type": "code",
   "execution_count": 63,
   "id": "911d0661",
   "metadata": {},
   "outputs": [
    {
     "name": "stdout",
     "output_type": "stream",
     "text": [
      "p_0= 0.939 , p_1= 0.061\n",
      "probability distribution = {'1': 0.0619, '0': 0.9381}\n"
     ]
    }
   ],
   "source": [
    "print('p_0=', np.round(np.abs(psi_state[0])**2,3),', p_1=', np.round(np.abs(psi_state[1])**2,3))\n",
    "print(\"probability distribution =\", prob_distr_state)"
   ]
  },
  {
   "cell_type": "markdown",
   "id": "9f882d5d",
   "metadata": {},
   "source": [
    "<a id=\"4.1.2\"></a>\n",
    "#### 4.1.2 - Midiendo $\\langle Z \\rangle$"
   ]
  },
  {
   "cell_type": "code",
   "execution_count": 73,
   "id": "1c5c1033",
   "metadata": {},
   "outputs": [
    {
     "name": "stdout",
     "output_type": "stream",
     "text": [
      "Resultado:  {'1': 6223, '0': 93777}\n",
      "probability distribution = {'1': 0.0622, '0': 0.9378}\n",
      "<Z> = 0.8756\n"
     ]
    }
   ],
   "source": [
    "# Circuito\n",
    "circuit_Z_mean = QuantumCircuit(quantum_reg, classic_reg)\n",
    "circuit_Z_mean.initialize(psi_state,0)\n",
    "circuit_Z_mean.measure(quantum_reg, classic_reg)\n",
    "\n",
    "# Transpilamos\n",
    "t_circuit_Z_mean = transpile(circuit_Z_mean, backend = simulador)\n",
    "\n",
    "# Ejecutamos\n",
    "result_Z_mean = simulador.run(t_circuit_Z_mean, shots = 100000).result()\n",
    "counts_Z_mean = result_Z_mean.get_counts()\n",
    "print(\"Resultado: \", counts_Z_mean)\n",
    "\n",
    "# Distribución de probabilidad\n",
    "prob_distr_Z_mean = get_prob_dist(counts_Z_mean)\n",
    "print(\"probability distribution =\", prob_distr_Z_mean)\n",
    "\n",
    "# Calculamos <Z>\n",
    "mean_Z = 0\n",
    "\n",
    "for bits, probs  in prob_distr_Z_mean.items():\n",
    "    mean_Z += (-1)**(int(bits)) * probs  \n",
    "\n",
    "print('<Z> =',np.round(mean_Z,5))"
   ]
  },
  {
   "cell_type": "markdown",
   "id": "db76e9d2",
   "metadata": {},
   "source": [
    "<a id=\"4.1.3\"></a>\n",
    "#### 4.1.3 - Midiendo $\\langle X \\rangle$"
   ]
  },
  {
   "cell_type": "code",
   "execution_count": 75,
   "id": "49f7e480",
   "metadata": {},
   "outputs": [
    {
     "name": "stdout",
     "output_type": "stream",
     "text": [
      "Resultado:  {'0': 72954, '1': 27046}\n",
      "probability distribution = {'0': 0.7295, '1': 0.2705}\n",
      "<X> = 0.459\n"
     ]
    }
   ],
   "source": [
    "# Circuito\n",
    "circuit_X_mean = QuantumCircuit(quantum_reg, classic_reg)\n",
    "circuit_X_mean.initialize(psi_state,0)\n",
    "circuit_X_mean.h(quantum_reg)\n",
    "circuit_X_mean.measure(quantum_reg, classic_reg)\n",
    "\n",
    "# Transpilamos\n",
    "t_circuit_X_mean = transpile(circuit_X_mean, backend = simulador)\n",
    "\n",
    "# Ejecutamos\n",
    "result_X_mean = simulador.run(t_circuit_X_mean, shots = 100000).result()\n",
    "counts_X_mean = result_X_mean.get_counts()\n",
    "print(\"Resultado: \", counts_X_mean)\n",
    "\n",
    "# Distribución de probabilidad\n",
    "prob_distr_X_mean = get_prob_dist(counts_X_mean)\n",
    "print(\"probability distribution =\", prob_distr_X_mean)\n",
    "\n",
    "# Calculamos <X>\n",
    "mean_X = 0\n",
    "\n",
    "for bits, probs  in prob_distr_X_mean.items():\n",
    "    mean_X += (-1)**(int(bits)) * probs  \n",
    "\n",
    "print('<X> =',np.round(mean_X,5))"
   ]
  },
  {
   "cell_type": "markdown",
   "id": "b6ef154a",
   "metadata": {},
   "source": [
    "<a id=\"4.1.4\"></a>\n",
    "#### 4.1.4 - Midiendo $\\langle Y \\rangle$"
   ]
  },
  {
   "cell_type": "code",
   "execution_count": 77,
   "id": "d927c382",
   "metadata": {},
   "outputs": [
    {
     "name": "stdout",
     "output_type": "stream",
     "text": [
      "Resultado:  {'0': 57025, '1': 42975}\n",
      "probability distribution = {'0': 0.5702, '1': 0.4298}\n",
      "<Y> = 0.1404\n"
     ]
    }
   ],
   "source": [
    "# Circuito\n",
    "circuit_Y_mean = QuantumCircuit(quantum_reg, classic_reg)\n",
    "circuit_Y_mean.initialize(psi_state,0)\n",
    "circuit_Y_mean.sdg(quantum_reg)\n",
    "circuit_Y_mean.h(quantum_reg)\n",
    "circuit_Y_mean.measure(quantum_reg, classic_reg)\n",
    "\n",
    "# Transpilamos\n",
    "t_circuit_Y_mean = transpile(circuit_Y_mean, backend = simulador)\n",
    "\n",
    "# Ejecutamos\n",
    "result_Y_mean = simulador.run(t_circuit_Y_mean, shots = 100000).result()\n",
    "counts_Y_mean = result_Y_mean.get_counts()\n",
    "print(\"Resultado: \", counts_Y_mean)\n",
    "\n",
    "# Distribución de probabilidad\n",
    "prob_distr_Y_mean = get_prob_dist(counts_Y_mean)\n",
    "print(\"probability distribution =\", prob_distr_Y_mean)\n",
    "\n",
    "# Calculamos <Y>\n",
    "mean_Y = 0\n",
    "\n",
    "for bits, probs  in prob_distr_Y_mean.items():\n",
    "    mean_Y += (-1)**(int(bits)) * probs  \n",
    "\n",
    "print('<Y> =',np.round(mean_Y,5))"
   ]
  },
  {
   "cell_type": "markdown",
   "id": "e97c57b6",
   "metadata": {},
   "source": [
    "<a id=\"4.2\"></a>\n",
    "### 4.2 - Valor esperado de un operador unitario (no necesariamente hermítico)"
   ]
  },
  {
   "cell_type": "markdown",
   "id": "b0c2b3a1",
   "metadata": {},
   "source": [
    "Vamos a construir dos operadores U y V y calcular \n",
    "$$\n",
    "\\langle V \\rangle_\\Psi = \\langle \\Psi | V| \\Psi \\rangle = \\langle 0 | U^\\dagger V U |0\\rangle = \\langle 0 | {\\tilde \\Psi} \\rangle\n",
    "$$"
   ]
  },
  {
   "cell_type": "code",
   "execution_count": 110,
   "id": "558c7a2b",
   "metadata": {},
   "outputs": [
    {
     "name": "stdout",
     "output_type": "stream",
     "text": [
      "Resultado:  {'1': 5201, '0': 44799}\n",
      " <V> =  0.89598\n"
     ]
    }
   ],
   "source": [
    "from qiskit.circuit.library import U3Gate\n",
    "\n",
    "circuit_V_mean = QuantumCircuit(quantum_reg, classic_reg)\n",
    "\n",
    "theta_U  = np.pi/6\n",
    "phi_U    = np.pi/2\n",
    "varphi_U = np.pi\n",
    "\n",
    "theta_V  = np.pi/2\n",
    "phi_V    = np.pi/3\n",
    "varphi_V = 2*np.pi/7\n",
    "\n",
    "U        = U3Gate(theta_U, phi_U, varphi_U)\n",
    "U_dagger = U3Gate(theta_U, phi_U, varphi_U).inverse()\n",
    "V        = U3Gate(theta_V, phi_V, varphi_V)\n",
    "\n",
    "circuit_V_mean.append(U, quantum_reg)\n",
    "circuit_V_mean.append(V, quantum_reg)\n",
    "circuit_V_mean.append(U_dagger, quantum_reg)\n",
    "circuit_V_mean.measure(quantum_reg, classic_reg)\n",
    "\n",
    "# Transpilamos\n",
    "t_circuit_V_mean = transpile(circuit_V_mean, backend = simulador)\n",
    "\n",
    "# Ejecutamos\n",
    "shots = 50000\n",
    "result_V_mean = simulador.run(t_circuit_V_mean, shots = shots).result()\n",
    "counts_V_mean = result_V_mean.get_counts()\n",
    "print(\"Resultado: \", counts_V_mean)\n",
    "\n",
    "# Media\n",
    "print(\" <V> = \", counts_V_mean['0']/shots)"
   ]
  }
 ],
 "metadata": {
  "kernelspec": {
   "display_name": "Python 3 (ipykernel)",
   "language": "python",
   "name": "python3"
  },
  "language_info": {
   "codemirror_mode": {
    "name": "ipython",
    "version": 3
   },
   "file_extension": ".py",
   "mimetype": "text/x-python",
   "name": "python",
   "nbconvert_exporter": "python",
   "pygments_lexer": "ipython3",
   "version": "3.10.9"
  },
  "toc": {
   "base_numbering": 1,
   "nav_menu": {},
   "number_sections": false,
   "sideBar": true,
   "skip_h1_title": false,
   "title_cell": "Table of Contents",
   "title_sidebar": "Contents",
   "toc_cell": false,
   "toc_position": {
    "height": "calc(100% - 180px)",
    "left": "10px",
    "top": "150px",
    "width": "259.213px"
   },
   "toc_section_display": true,
   "toc_window_display": false
  }
 },
 "nbformat": 4,
 "nbformat_minor": 5
}
