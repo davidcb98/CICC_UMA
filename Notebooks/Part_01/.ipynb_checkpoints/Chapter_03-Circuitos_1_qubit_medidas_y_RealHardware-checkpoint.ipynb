{
 "cells": [
  {
   "cell_type": "markdown",
   "id": "f6547e0b",
   "metadata": {},
   "source": [
    "<a id='sec_Notebooks_Circ_1_qubit'></a>\n",
    "# Circuitos de un qúbit y HardWare real \n",
    "$\\newcommand{\\ket}[1]{|#1\\rangle}$"
   ]
  },
  {
   "cell_type": "markdown",
   "id": "8dcdddf0",
   "metadata": {},
   "source": [
    "## Índice\n",
    "\n",
    "- **[1 - Creación y medición de circuitos de 1 qúbit con Qiskit](#sec_Notebooks_Circ_1_qubit_1)**\n",
    "    - **[1.1 - Sin puertas](#sec_Notebooks_Circ_1_qubit_1.1)**\n",
    "    - **[1.2 - Puerta $X$](#sec_Notebooks_Circ_1_qubit_1.2)**\n",
    "    - **[1.3 - Puerta H](#sec_Notebooks_Circ_1_qubit_1.3)**\n",
    "    - **[1.4 - Inicializar el circuito a partir de un vector de estado](#sec_Notebooks_Circ_1_qubit_1.4)**\n",
    "- **[2 - Mandar trabajos a un ordenador real de IBM](#sec_Notebooks_Circ_1_qubit_2)**\n",
    "    - **[2.1 - Recuperar resultados de trabajos anteriores con el job id](#sec_Notebooks_Circ_1_qubit_2.1)**\n",
    "- **[3 - La moneda cuántia](#sec_Notebooks_Circ_1_qubit_3)**\n",
    "- **[4 - Valores esperados](#sec_Notebooks_Circ_1_qubit_4)**\n",
    "    - **[4.1  Valor esperado de un observable arbitrario (operador hermítico).](#sec_Notebooks_Circ_1_qubit_4.1)**\n",
    "        - **[4.1.1  Inicializando estado $| \\Psi \\rangle $](#sec_Notebooks_Circ_1_qubit_4.1.1)**\n",
    "        - **[4.1.2  Midiendo $\\langle Z \\rangle$](#sec_Notebooks_Circ_1_qubit_4.1.2)**\n",
    "        - **[4.1.3  Midiendo $\\langle X \\rangle$](#sec_Notebooks_Circ_1_qubit_4.1.3)**\n",
    "        - **[4.1.4  Midiendo $\\langle Y \\rangle$](#sec_Notebooks_Circ_1_qubit_4.1.4)**\n",
    "    - **[4.2  Valor esperado de un operador unitario (no necesariamente hermítico)](#sec_Notebooks_Circ_1_qubit_4.2)**"
   ]
  },
  {
   "cell_type": "code",
   "execution_count": 1,
   "id": "84487d05",
   "metadata": {},
   "outputs": [],
   "source": [
    "# Importamos las librerías y clases necesarias\n",
    "import numpy as np\n",
    "from qiskit.circuit import QuantumRegister, ClassicalRegister,QuantumCircuit\n",
    "from qiskit_aer import AerSimulator\n",
    "from qiskit import transpile\n",
    "from qiskit.quantum_info import Statevector\n",
    "\n",
    "# Import para visualización\n",
    "from qiskit.visualization import plot_histogram, plot_bloch_multivector, array_to_latex"
   ]
  },
  {
   "cell_type": "code",
   "execution_count": 2,
   "id": "4d0a5b16",
   "metadata": {},
   "outputs": [],
   "source": [
    "# Definimos un registro cuántico con un qúbit\n",
    "quantum_reg = QuantumRegister(1) \n",
    "\n",
    "# Definimos un registro clásico con un bit\n",
    "classic_reg = ClassicalRegister(1)"
   ]
  },
  {
   "cell_type": "markdown",
   "id": "a8b4b54a",
   "metadata": {},
   "source": [
    "En Qiskit no es necesario definir los registros, pero cuando veamos algoritmo más complejos veremos lo útil que es tener los qúbits separados en registros. "
   ]
  },
  {
   "cell_type": "markdown",
   "id": "187fd56e",
   "metadata": {},
   "source": [
    "Importemos el simulador que vamos a usar en este notebook:"
   ]
  },
  {
   "cell_type": "code",
   "execution_count": 3,
   "id": "d9869e9b",
   "metadata": {},
   "outputs": [],
   "source": [
    "# Importamos el simulador. Con \"method\" le especificamos el método de simulación\n",
    "simulador = AerSimulator(method = 'statevector')"
   ]
  },
  {
   "cell_type": "markdown",
   "id": "598f2a0d",
   "metadata": {},
   "source": [
    "También podemos llamar primero a la clase del simulador sin pasarle argumentos y después añadir las opciones:"
   ]
  },
  {
   "cell_type": "code",
   "execution_count": 4,
   "id": "456f386d",
   "metadata": {},
   "outputs": [],
   "source": [
    "#simulador = AerSimulator()\n",
    "#sim.set_options(method = 'statevector')"
   ]
  },
  {
   "cell_type": "markdown",
   "id": "99ae445c",
   "metadata": {},
   "source": [
    "<a id='sec_Notebooks_Circ_1_qubit_1'></a>\n",
    "## Creación y medición de circuitos de 1 qúbit con Qiskit"
   ]
  },
  {
   "cell_type": "markdown",
   "id": "fb038735",
   "metadata": {},
   "source": [
    "<a id='sec_Notebooks_Circ_1_qubit_1.1'></a>\n",
    "### Sin puertas"
   ]
  },
  {
   "cell_type": "markdown",
   "id": "e80b9f5a",
   "metadata": {},
   "source": [
    "Creamos un primer circuito. En este solo vamos a poner un medidor. De esta forma vamos a verificar que por defecto Qiskit (y la mayoría de libreas de quantum) inicializan los estados en $| 0 \\rangle$"
   ]
  },
  {
   "cell_type": "code",
   "execution_count": 5,
   "id": "56d58d3f",
   "metadata": {},
   "outputs": [
    {
     "name": "stderr",
     "output_type": "stream",
     "text": [
      "/home/dcb/Programs/miniconda/miniconda3/envs/qiskit_qibo_penny_2/lib/python3.11/site-packages/qiskit/visualization/circuit/matplotlib.py:266: FutureWarning: The default matplotlib drawer scheme will be changed to \"iqp\" in a following release. To silence this warning, specify the current default explicitly as style=\"clifford\", or the new default as style=\"iqp\".\n",
      "  self._style, def_font_ratio = load_style(self._style)\n"
     ]
    },
    {
     "data": {
      "image/png": "[encoded data removed]",
      "text/plain": [
       "<Figure size 203.683x200.667 with 1 Axes>"
      ]
     },
     "execution_count": 5,
     "metadata": {},
     "output_type": "execute_result"
    }
   ],
   "source": [
    "# Creamos el circuito pasandole los registros. \n",
    "circuit = QuantumCircuit(quantum_reg, classic_reg)\n",
    "\n",
    "# Añadimos el medidor\n",
    "circuit.measure(quantum_reg, classic_reg)\n",
    "# Lo que le estamos diciendo es que medida los qúbits del \"quantum_reg\"\n",
    "# y almacene los resultados de la medida en los bits del \"classic_reg\"\n",
    "\n",
    "\n",
    "# Dibujamos el circuito\n",
    "circuit.draw(output='mpl') # mpl es de Matplolib"
   ]
  },
  {
   "cell_type": "markdown",
   "id": "5e45faf6",
   "metadata": {},
   "source": [
    "El método `circuit.draw('mpl')` genera una figura de Matplotlib, así que podemos almacenarla en una variable y usar los métodos típicos de Matplotlib como el `savefig()`"
   ]
  },
  {
   "cell_type": "code",
   "execution_count": 6,
   "id": "ab57ecd3",
   "metadata": {},
   "outputs": [
    {
     "data": {
      "image/png": "[encoded data removed]",
      "text/plain": [
       "<Figure size 203.683x200.667 with 1 Axes>"
      ]
     },
     "execution_count": 6,
     "metadata": {},
     "output_type": "execute_result"
    }
   ],
   "source": [
    "Fig = circuit.draw(output='mpl')\n",
    "Fig.savefig(\"Figuras_Chapter_02-Circuitos_1_qubit_medidas_y_RealHardware/Fig_circuit_1\")\n",
    "Fig"
   ]
  },
  {
   "cell_type": "markdown",
   "id": "06336867",
   "metadata": {},
   "source": [
    "También se puede dibujar el circuito como texto para imprimirlo por terminal"
   ]
  },
  {
   "cell_type": "code",
   "execution_count": 7,
   "id": "e906a8e5",
   "metadata": {},
   "outputs": [
    {
     "name": "stdout",
     "output_type": "stream",
     "text": [
      "      ┌─┐\n",
      "  q1: ┤M├\n",
      "      └╥┘\n",
      "c0: 1/═╩═\n",
      "       0 \n"
     ]
    }
   ],
   "source": [
    "print(circuit.draw(output='text'))"
   ]
  },
  {
   "cell_type": "markdown",
   "id": "85e6ba4c",
   "metadata": {},
   "source": [
    "Transpilamos el circuito. Veremos más adelante lo que es la transpilación cuando hablemos de sets de puertas universales."
   ]
  },
  {
   "cell_type": "code",
   "execution_count": 8,
   "id": "4a76da9b",
   "metadata": {},
   "outputs": [],
   "source": [
    "# transpilamos\n",
    "t_circuit = transpile(circuit, backend = simulador)"
   ]
  },
  {
   "cell_type": "markdown",
   "id": "4235c7ef",
   "metadata": {},
   "source": [
    "Ahora podemos ejecutar la simulación"
   ]
  },
  {
   "cell_type": "markdown",
   "id": "a3711ce1",
   "metadata": {},
   "source": [
    "Ejecutamos la simulación con 1000 shots (es decir, corremos el circuito 1000 veces)"
   ]
  },
  {
   "cell_type": "code",
   "execution_count": 9,
   "id": "b4eb13dc",
   "metadata": {},
   "outputs": [
    {
     "data": {
      "text/plain": [
       "Result(backend_name='aer_simulator', backend_version='0.13.2', qobj_id='', job_id='891d9529-f778-4fd9-b14d-f5a675b50957', success=True, results=[ExperimentResult(shots=1000, success=True, meas_level=2, data=ExperimentResultData(counts={'0x0': 1000}), header=QobjExperimentHeader(creg_sizes=[['c0', 1]], global_phase=0.0, memory_slots=1, n_qubits=1, name='circuit-158', qreg_sizes=[['q1', 1]], metadata={}), status=DONE, seed_simulator=1135787851, metadata={'time_taken': 0.00076453, 'num_bind_params': 1, 'parallel_state_update': 20, 'parallel_shots': 1, 'required_memory_mb': 1, 'input_qubit_map': [[0, 0]], 'method': 'statevector', 'device': 'CPU', 'num_qubits': 1, 'sample_measure_time': 9.6786e-05, 'active_input_qubits': [0], 'num_clbits': 1, 'remapped_qubits': False, 'runtime_parameter_bind': False, 'max_memory_mb': 64112, 'noise': 'ideal', 'measure_sampling': True, 'batched_shots_optimization': False, 'fusion': {'applied': False, 'max_fused_qubits': 5, 'threshold': 14, 'enabled': True}}, time_taken=0.00076453)], date=2024-07-19T16:23:02.277657, status=COMPLETED, header=None, metadata={'time_taken_parameter_binding': 7.352e-06, 'time_taken_execute': 0.000788495, 'omp_enabled': True, 'max_gpu_memory_mb': 0, 'max_memory_mb': 64112, 'parallel_experiments': 1}, time_taken=0.0011005401611328125)"
      ]
     },
     "execution_count": 9,
     "metadata": {},
     "output_type": "execute_result"
    }
   ],
   "source": [
    "# Ejecutamos la simulación con 1000 shots \n",
    "result = simulador.run(t_circuit, shots = 1000).result()\n",
    "result"
   ]
  },
  {
   "cell_type": "markdown",
   "id": "d64ff288",
   "metadata": {},
   "source": [
    "Vemos que la salida tiene mucha información. Lo más importante las cuentas, es decir, cuantas veces se ha medido cada solución:"
   ]
  },
  {
   "cell_type": "code",
   "execution_count": 10,
   "id": "449ecdf8",
   "metadata": {
    "scrolled": true
   },
   "outputs": [
    {
     "data": {
      "text/plain": [
       "{'0': 1000}"
      ]
     },
     "execution_count": 10,
     "metadata": {},
     "output_type": "execute_result"
    }
   ],
   "source": [
    "counts = result.get_counts()\n",
    "counts"
   ]
  },
  {
   "cell_type": "markdown",
   "id": "637fb0c0",
   "metadata": {},
   "source": [
    "Vemos que, como era de esperar, las 1000 ejecuciones del circuito nos han dado $| 0 \\rangle$"
   ]
  },
  {
   "cell_type": "markdown",
   "id": "5352220b",
   "metadata": {},
   "source": [
    "Podemos hacer un histograma con las cuentas. \n",
    "\n",
    "Nuevamente, el histograma es una figura de Matplotlib, así que podemos usar `savefig()`"
   ]
  },
  {
   "cell_type": "code",
   "execution_count": 11,
   "id": "769de446",
   "metadata": {
    "scrolled": true
   },
   "outputs": [
    {
     "data": {
      "image/png": "[encoded data removed]",
      "text/plain": [
       "<Figure size 700x500 with 1 Axes>"
      ]
     },
     "execution_count": 11,
     "metadata": {},
     "output_type": "execute_result"
    }
   ],
   "source": [
    "Fig = plot_histogram(counts)\n",
    "Fig.savefig('Figuras_Chapter_02-Circuitos_1_qubit_medidas_y_RealHardware/Fig_circuit_1_hist')\n",
    "Fig"
   ]
  },
  {
   "cell_type": "markdown",
   "id": "5476b379",
   "metadata": {},
   "source": [
    "<a id='sec_Notebooks_Circ_1_qubit_1.2'></a>\n",
    "### Puerta $X$"
   ]
  },
  {
   "cell_type": "markdown",
   "id": "4cb220e7",
   "metadata": {},
   "source": [
    "Veamos ahora un ejemplo de un circuito con la puerta $X$ para ver su acción"
   ]
  },
  {
   "cell_type": "code",
   "execution_count": 12,
   "id": "f29c5eb1",
   "metadata": {},
   "outputs": [
    {
     "name": "stdout",
     "output_type": "stream",
     "text": [
      "      ┌───┐┌─┐\n",
      "  q1: ┤ X ├┤M├\n",
      "      └───┘└╥┘\n",
      "c0: 1/══════╩═\n",
      "            0 \n"
     ]
    },
    {
     "name": "stderr",
     "output_type": "stream",
     "text": [
      "/home/dcb/Programs/miniconda/miniconda3/envs/qiskit_qibo_penny_2/lib/python3.11/site-packages/qiskit/visualization/circuit/matplotlib.py:266: FutureWarning: The default matplotlib drawer scheme will be changed to \"iqp\" in a following release. To silence this warning, specify the current default explicitly as style=\"clifford\", or the new default as style=\"iqp\".\n",
      "  self._style, def_font_ratio = load_style(self._style)\n"
     ]
    },
    {
     "data": {
      "image/png": "[encoded data removed]",
      "text/plain": [
       "<Figure size 287.294x200.667 with 1 Axes>"
      ]
     },
     "execution_count": 12,
     "metadata": {},
     "output_type": "execute_result"
    }
   ],
   "source": [
    "# Creamos el circuito pasandole los registros. \n",
    "circuit_X = QuantumCircuit(quantum_reg, classic_reg)\n",
    "\n",
    "# Añadimos la puerta X al primer (y único) qúbit\n",
    "circuit_X.x(0)\n",
    "\n",
    "# Añadimos el medidor\n",
    "circuit_X.measure(quantum_reg, classic_reg)\n",
    "\n",
    "# Podemos dibujarlo en modo texto\n",
    "print(circuit_X.draw(output='text'))\n",
    "\n",
    "# Podemos dibujarlo como figura de matplolib\n",
    "Fig = circuit_X.draw(output='mpl') # mpl es de Matplolib\n",
    "Fig.savefig(\"Figuras_Chapter_02-Circuitos_1_qubit_medidas_y_RealHardware/Fig_circuit_X\")\n",
    "Fig"
   ]
  },
  {
   "cell_type": "markdown",
   "id": "ea3d4f07",
   "metadata": {},
   "source": [
    "Como ya hemos definido el simulador `simulador = AerSimulator(method = \"statevector\")` no hace falta que lo volvamos a hacer"
   ]
  },
  {
   "cell_type": "code",
   "execution_count": 13,
   "id": "85da0417",
   "metadata": {},
   "outputs": [
    {
     "name": "stdout",
     "output_type": "stream",
     "text": [
      "Resultado:  {'1': 1000}\n"
     ]
    },
    {
     "data": {
      "image/png": "[encoded data removed]",
      "text/plain": [
       "<Figure size 700x500 with 1 Axes>"
      ]
     },
     "execution_count": 13,
     "metadata": {},
     "output_type": "execute_result"
    }
   ],
   "source": [
    "# simulador = AerSimulator(method = 'statevector')\n",
    "# transpilamos\n",
    "t_circuit_X = transpile(circuit_X, backend = simulador)\n",
    "\n",
    "# Ejecutamos\n",
    "result_X = simulador.run(t_circuit_X, shots = 1000).result()\n",
    "counts_X = result_X.get_counts()\n",
    "print(\"Resultado: \", counts_X)\n",
    "\n",
    "Fig = plot_histogram(counts_X)\n",
    "Fig.savefig('Figuras_Chapter_02-Circuitos_1_qubit_medidas_y_RealHardware/Fig_circuit_X_hist')\n",
    "Fig"
   ]
  },
  {
   "cell_type": "markdown",
   "id": "ff3e06d2",
   "metadata": {},
   "source": [
    "<a id='sec_Notebooks_Circ_1_qubit_1.3'></a>\n",
    "### Puerta H"
   ]
  },
  {
   "cell_type": "markdown",
   "id": "b4ca5602",
   "metadata": {},
   "source": [
    "Veamos ahora un ejemplo de un circuito con la puerta $H$ para ver su acción"
   ]
  },
  {
   "cell_type": "code",
   "execution_count": 14,
   "id": "aa28061e",
   "metadata": {
    "scrolled": false
   },
   "outputs": [
    {
     "name": "stderr",
     "output_type": "stream",
     "text": [
      "/home/dcb/Programs/miniconda/miniconda3/envs/qiskit_qibo_penny_2/lib/python3.11/site-packages/qiskit/visualization/circuit/matplotlib.py:266: FutureWarning: The default matplotlib drawer scheme will be changed to \"iqp\" in a following release. To silence this warning, specify the current default explicitly as style=\"clifford\", or the new default as style=\"iqp\".\n",
      "  self._style, def_font_ratio = load_style(self._style)\n"
     ]
    },
    {
     "data": {
      "image/png": "[encoded data removed]",
      "text/plain": [
       "<Figure size 287.294x200.667 with 1 Axes>"
      ]
     },
     "execution_count": 14,
     "metadata": {},
     "output_type": "execute_result"
    }
   ],
   "source": [
    "# Creamos el circuito pasandole los registros. \n",
    "circuit_H = QuantumCircuit(quantum_reg, classic_reg)\n",
    "\n",
    "# Añadimos la puerta X al primer (y único) qúbit\n",
    "circuit_H.h(0)\n",
    "\n",
    "# Añadimos el medidor\n",
    "circuit_H.measure(quantum_reg, classic_reg)\n",
    "\n",
    "# Podemos dibujarlo en modo texto\n",
    "#print(circuit_H.draw(output='text'))\n",
    "\n",
    "# Podemos dibujarlo como figura de matplolib\n",
    "Fig = circuit_H.draw(output='mpl') # mpl es de Matplolib\n",
    "Fig.savefig(\"Figuras_Chapter_02-Circuitos_1_qubit_medidas_y_RealHardware/Fig_circuit_H\")\n",
    "Fig"
   ]
  },
  {
   "cell_type": "markdown",
   "id": "11d2a324",
   "metadata": {},
   "source": [
    "Como ya hemos definido el simulador `simulador = AerSimulator(method = \"statevector\")` no hace falta que lo volvamos a hacer"
   ]
  },
  {
   "cell_type": "code",
   "execution_count": 15,
   "id": "2779916f",
   "metadata": {},
   "outputs": [
    {
     "name": "stdout",
     "output_type": "stream",
     "text": [
      "Resultado:  {'0': 493, '1': 507}\n"
     ]
    },
    {
     "data": {
      "image/png": "[encoded data removed]",
      "text/plain": [
       "<Figure size 700x500 with 1 Axes>"
      ]
     },
     "execution_count": 15,
     "metadata": {},
     "output_type": "execute_result"
    }
   ],
   "source": [
    "# simulador = AerSimulator(method = 'statevector')\n",
    "# transpilamos\n",
    "t_circuit_H = transpile(circuit_H, backend = simulador)\n",
    "\n",
    "# Ejecutamos\n",
    "result_H = simulador.run(t_circuit_H, shots = 1000).result()\n",
    "counts_H = result_H.get_counts()\n",
    "print(\"Resultado: \", counts_H)\n",
    "\n",
    "Fig = plot_histogram(counts_H)\n",
    "Fig.savefig('Figuras_Chapter_02-Circuitos_1_qubit_medidas_y_RealHardware/Fig_circuit_H_hist')\n",
    "Fig"
   ]
  },
  {
   "cell_type": "markdown",
   "id": "9f1e18a0",
   "metadata": {},
   "source": [
    "Como podemos ver, ahora aproximadamente la mitad de las veces obtenemos $| 0 \\rangle$ y la otra mitad obtenemos $| 1 \\rangle$. Esto es debido a que \n",
    "$$\n",
    "H |0  \\rangle = \\frac{1}{\\sqrt{2}} \\left(| 0 \\rangle + | 1 \\rangle \\right)\n",
    "$$\n",
    "Recordemos que la probabilidad de medir cada estado es igual al módulo cuadrado de su amplitud (del coeficiente que acompaña al estado)"
   ]
  },
  {
   "cell_type": "markdown",
   "id": "2c781c00",
   "metadata": {},
   "source": [
    "<a id='sec_Notebooks_Circ_1_qubit_1.4'></a>\n",
    "### Inicializar el circuito a partir de un vector de estado "
   ]
  },
  {
   "cell_type": "code",
   "execution_count": 16,
   "id": "e624d2df",
   "metadata": {
    "scrolled": false
   },
   "outputs": [
    {
     "data": {
      "text/latex": [
       "$$0.9689124217 |0\\rangle+(0.2363540298 + 0.0731128692 i) |1\\rangle$$"
      ],
      "text/plain": [
       "<IPython.core.display.Latex object>"
      ]
     },
     "execution_count": 16,
     "metadata": {},
     "output_type": "execute_result"
    }
   ],
   "source": [
    "circuit_state = QuantumCircuit(quantum_reg, classic_reg)\n",
    "\n",
    "# inicializamos un estado arbitrario en la esfera de Bloch\n",
    "theta = 0.5  #rad\n",
    "phi   = 0.3  #rad\n",
    "psi_state = [np.cos(theta/2),(np.exp(1j*phi))*np.sin(theta/2)]\n",
    "\n",
    "# Veamos el vector de estado\n",
    "statevector_plus = Statevector(psi_state)\n",
    "statevector_plus.draw('latex')"
   ]
  },
  {
   "cell_type": "markdown",
   "id": "8c7461f2",
   "metadata": {},
   "source": [
    "Veamos las probabilidades teóricas"
   ]
  },
  {
   "cell_type": "code",
   "execution_count": 17,
   "id": "d2b33dd4",
   "metadata": {
    "scrolled": true
   },
   "outputs": [
    {
     "name": "stdout",
     "output_type": "stream",
     "text": [
      "p_0= 0.939 , p_1= 0.061\n"
     ]
    }
   ],
   "source": [
    "print('p_0=', np.round(np.abs(psi_state[0])**2,3),', p_1=', np.round(np.abs(psi_state[1])**2,3))"
   ]
  },
  {
   "cell_type": "markdown",
   "id": "fe665a65",
   "metadata": {},
   "source": [
    "Inicializamos el circuito y medimos"
   ]
  },
  {
   "cell_type": "code",
   "execution_count": 18,
   "id": "d3ca201a",
   "metadata": {},
   "outputs": [
    {
     "data": {
      "text/plain": [
       "<qiskit.circuit.instructionset.InstructionSet at 0x7fa8db5c1330>"
      ]
     },
     "execution_count": 18,
     "metadata": {},
     "output_type": "execute_result"
    }
   ],
   "source": [
    "# inicializamos el estado de entrada  \n",
    "circuit_state.initialize(psi_state,0)\n",
    "circuit_state.measure(quantum_reg, classic_reg)"
   ]
  },
  {
   "cell_type": "code",
   "execution_count": 19,
   "id": "d1a4c31d",
   "metadata": {
    "scrolled": true
   },
   "outputs": [
    {
     "name": "stdout",
     "output_type": "stream",
     "text": [
      "Resultado:  {'1': 5957, '0': 94043}\n"
     ]
    },
    {
     "data": {
      "image/png": "[encoded data removed]",
      "text/plain": [
       "<Figure size 700x500 with 1 Axes>"
      ]
     },
     "execution_count": 19,
     "metadata": {},
     "output_type": "execute_result"
    }
   ],
   "source": [
    "# simulador = AerSimulator(method = 'statevector')\n",
    "# transpilamos\n",
    "t_circuit_state = transpile(circuit_state, backend = simulador)\n",
    "\n",
    "# Ejecutamos\n",
    "result_state = simulador.run(t_circuit_state, shots = 100000).result()\n",
    "counts_state = result_state.get_counts()\n",
    "print(\"Resultado: \", counts_state)\n",
    "\n",
    "Fig = plot_histogram(counts_state)\n",
    "Fig.savefig('Figuras_Chapter_02-Circuitos_1_qubit_medidas_y_RealHardware/Fig_circuit_state_hist')\n",
    "Fig"
   ]
  },
  {
   "cell_type": "markdown",
   "id": "042bb158",
   "metadata": {},
   "source": [
    "vamos a recuperar las probabilidades haciendo estadística"
   ]
  },
  {
   "cell_type": "code",
   "execution_count": 20,
   "id": "3d46e457",
   "metadata": {},
   "outputs": [
    {
     "name": "stdout",
     "output_type": "stream",
     "text": [
      "probability distribution = {'1': 0.0596, '0': 0.9404}\n"
     ]
    }
   ],
   "source": [
    "def get_prob_dist(counts): # counts es un diccionario \n",
    "    N=sum([n for n in counts.values()]) # numero de shots\n",
    "    prob_dist = {bit:np.round(v/N,4) for bit,v in counts.items()} # this is a modified dictionary\n",
    "    if len(prob_dist) == 1:  # we are two amplitudes (one qubit), so in this case, pad with a 0\n",
    "        prob_dist.append(0)\n",
    "    return prob_dist\n",
    "\n",
    "prob_distr_state = get_prob_dist(counts_state)\n",
    "print(\"probability distribution =\", prob_distr_state)"
   ]
  },
  {
   "cell_type": "markdown",
   "id": "1de7f220",
   "metadata": {},
   "source": [
    "<a id='sec_Notebooks_Circ_1_qubit_2'></a>\n",
    "## Mandar trabajos a un ordenador real de IBM   "
   ]
  },
  {
   "cell_type": "markdown",
   "id": "53784c5f",
   "metadata": {},
   "source": [
    "Para mandar trabajos a los ordenadores cuánticos de IBM, lo primero que necesitamos es una cuenta en [IBMid](https://quantum-computing.ibm.com/). \n",
    "Una vez creada la cuenta, hay que copiar el token que aparece en la página principal. Este lo pegamos en la línea comentada en el siguiente cuadro de código (descomentando la linea)"
   ]
  },
  {
   "cell_type": "markdown",
   "id": "b9e9cb0d",
   "metadata": {},
   "source": [
    "Vamos a usar `qiskit_ibm_runtime` para mandar trabajos y vamos a usar la primitive sampler.\n",
    "- Mas información sobre como guardar la cuenta: https://docs.quantum.ibm.com/guides/setup-channel\n",
    "- Más información sobre las primitives: https://docs.quantum.ibm.com/guides/get-started-with-primitives"
   ]
  },
  {
   "cell_type": "markdown",
   "id": "e828693a",
   "metadata": {},
   "source": [
    "### Inicializamos la cuenta"
   ]
  },
  {
   "cell_type": "markdown",
   "id": "cb43c1b4",
   "metadata": {},
   "source": [
    "Dado que Qiskit Runtime `Sampler` es un servicio gestionado, primero debe inicializar su cuenta. A continuación, puede seleccionar el simulador o el sistema real que desea utilizar para calcular el valor esperado"
   ]
  },
  {
   "cell_type": "code",
   "execution_count": 21,
   "id": "1c3c42b7",
   "metadata": {},
   "outputs": [],
   "source": [
    "from qiskit_ibm_runtime import QiskitRuntimeService\n",
    "\n",
    "# Save an IBM Quantum account and set it as your default account.\n",
    "#MY_API_TOKEN=\"...\"\n",
    "#QiskitRuntimeService.save_account(\n",
    "#    channel=\"ibm_quantum\",\n",
    "#    token=MY_API_TOKEN,\n",
    "#    set_as_default=True,\n",
    "    # Use `overwrite=True` if you're updating your token.\n",
    "#    overwrite=True,\n",
    "#)\n",
    "\n",
    "service = QiskitRuntimeService()\n",
    "backend = service.least_busy(operational=True, simulator=False, min_num_qubits=5)"
   ]
  },
  {
   "cell_type": "markdown",
   "id": "3f71e849",
   "metadata": {},
   "source": [
    "Veamos el backend (ordenador) escogido:"
   ]
  },
  {
   "cell_type": "code",
   "execution_count": 22,
   "id": "c9412a44",
   "metadata": {
    "scrolled": true
   },
   "outputs": [
    {
     "name": "stdout",
     "output_type": "stream",
     "text": [
      "<IBMBackend('ibm_osaka')>\n"
     ]
    }
   ],
   "source": [
    "print(backend)"
   ]
  },
  {
   "cell_type": "markdown",
   "id": "8e2df1bc",
   "metadata": {},
   "source": [
    "### Preparamos el circuito"
   ]
  },
  {
   "cell_type": "markdown",
   "id": "5d22ac23",
   "metadata": {},
   "source": [
    "Vamos a mandar a ejecutar en hardware real el circuito de la puerta H.\n",
    "\n",
    "Para ello, primero tenemos que generarl el ISA circuit"
   ]
  },
  {
   "cell_type": "code",
   "execution_count": 23,
   "id": "deccb4c2",
   "metadata": {
    "scrolled": false
   },
   "outputs": [],
   "source": [
    "from qiskit.transpiler.preset_passmanagers import generate_preset_pass_manager\n",
    "\n",
    "pm = generate_preset_pass_manager(optimization_level=1, backend=backend)\n",
    "isa_circuit_H = pm.run(circuit_H)"
   ]
  },
  {
   "cell_type": "markdown",
   "id": "3dbd95e1",
   "metadata": {},
   "source": [
    "### Inicializamos el Qiskit Runtime Sampler"
   ]
  },
  {
   "cell_type": "markdown",
   "id": "31dc5252",
   "metadata": {},
   "source": [
    "Al inicializar el `Sampler`, utilice el parámetro `mode` para especificar el modo en el que desea que se ejecute. "
   ]
  },
  {
   "cell_type": "code",
   "execution_count": 24,
   "id": "829adfc0",
   "metadata": {},
   "outputs": [],
   "source": [
    "from qiskit_ibm_runtime import Sampler\n",
    "sampler = Sampler(backend=backend)\n",
    "\n",
    "#Para versiones modernas de Qiskit\n",
    "#from qiskit_ibm_runtime import SamplerV2 as Sampler  \n",
    "#sampler = Sampler(mode=backend)"
   ]
  },
  {
   "cell_type": "markdown",
   "id": "60c90f59",
   "metadata": {},
   "source": [
    "### Invocamos el sampler y obtenemos los resultados"
   ]
  },
  {
   "cell_type": "code",
   "execution_count": 25,
   "id": "3c8c42c8",
   "metadata": {},
   "outputs": [
    {
     "name": "stdout",
     "output_type": "stream",
     "text": [
      ">>> Job ID: ctd7dp61zwrg008cbs9g\n",
      ">>> Job Status: JobStatus.QUEUED\n"
     ]
    }
   ],
   "source": [
    "job = sampler.run(isa_circuit_H)\n",
    "print(f\">>> Job ID: {job.job_id()}\")\n",
    "print(f\">>> Job Status: {job.status()}\")"
   ]
  },
  {
   "cell_type": "markdown",
   "id": "1982fad7",
   "metadata": {},
   "source": [
    "Podemos monitorizar desde el notebook en que estado está nuestro trabajo. Otra obción es hacerlo desde la [web](https://quantum-computing.ibm.com/jobs). La celda siguiente podemos correrla tantas veces como queramos para ver como está nuestro trabajo."
   ]
  },
  {
   "cell_type": "code",
   "execution_count": 26,
   "id": "261fa1c3",
   "metadata": {
    "scrolled": true
   },
   "outputs": [
    {
     "data": {
      "text/plain": [
       "<JobStatus.QUEUED: 'job is queued'>"
      ]
     },
     "execution_count": 26,
     "metadata": {},
     "output_type": "execute_result"
    }
   ],
   "source": [
    "job.status()"
   ]
  },
  {
   "cell_type": "code",
   "execution_count": 27,
   "id": "aa24a77e",
   "metadata": {},
   "outputs": [],
   "source": [
    "import time\n",
    "time.sleep(30)"
   ]
  },
  {
   "cell_type": "code",
   "execution_count": 28,
   "id": "6f42fb97",
   "metadata": {},
   "outputs": [
    {
     "data": {
      "text/plain": [
       "<JobStatus.RUNNING: 'job is actively running'>"
      ]
     },
     "execution_count": 28,
     "metadata": {},
     "output_type": "execute_result"
    }
   ],
   "source": [
    "job.status()"
   ]
  },
  {
   "cell_type": "markdown",
   "id": "97007c41",
   "metadata": {},
   "source": [
    "También podemos usar el job_monitor, que se actualiza solo sin tener que ejecutar varias veces la celda."
   ]
  },
  {
   "cell_type": "code",
   "execution_count": 29,
   "id": "55fa8a49",
   "metadata": {},
   "outputs": [],
   "source": [
    "#job_monitor(job, interval = 1, line_discipline = '\\n') "
   ]
  },
  {
   "cell_type": "code",
   "execution_count": 30,
   "id": "0eb60b99",
   "metadata": {},
   "outputs": [
    {
     "name": "stdout",
     "output_type": "stream",
     "text": [
      ">>> SamplerResult(quasi_dists=[{0: 0.500267918381344, 1: 0.499732081618656}], metadata=[{'shots': 4000, 'circuit_metadata': {}, 'readout_mitigation_overhead': 1.2231631780385783, 'readout_mitigation_time': 0.10465091606602073, 'warning': 'Optimization level clipped from 3 to 1\\nOptimization level clipped from 3 to 1'}])\n",
      "\n",
      "  > Quasi-probability distribution: {0: 0.500267918381344, 1: 0.499732081618656}\n",
      "\n",
      "  > Metadata: {'shots': 4000, 'circuit_metadata': {}, 'readout_mitigation_overhead': 1.2231631780385783, 'readout_mitigation_time': 0.10465091606602073, 'warning': 'Optimization level clipped from 3 to 1\\nOptimization level clipped from 3 to 1'}\n",
      "\n"
     ]
    }
   ],
   "source": [
    "result_IBM = job.result()\n",
    "print(f\">>> {result_IBM}\\n\")\n",
    "print(f\"  > Quasi-probability distribution: {result_IBM.quasi_dists[0]}\\n\")\n",
    "print(f\"  > Metadata: {result_IBM.metadata[0]}\\n\")"
   ]
  },
  {
   "cell_type": "markdown",
   "id": "48dd73ee",
   "metadata": {},
   "source": [
    "<a id='sec_Notebooks_Circ_1_qubit_2.1'></a>\n",
    "### Recuperar resultados de trabajos anteriores con el job id"
   ]
  },
  {
   "cell_type": "markdown",
   "id": "bb803992",
   "metadata": {},
   "source": [
    "Es importante guardar el Job Id, pues con el podemos recuperar los resultados de un trabajo anterior. Por ejemplo, lo que podemos hacer es ejecutar un circuito y si vemos usando `job.status()` que tarda mucho en entrar en ejecución, podemos anotarnos el id y otro ver los resultado, sin tener que dejar el Notebook abierto."
   ]
  },
  {
   "cell_type": "code",
   "execution_count": 31,
   "id": "febc1b8a",
   "metadata": {},
   "outputs": [],
   "source": [
    "#job_id=\"cjrjkq4ieg62g9od3jk0\"\n",
    "#retrieve_job = provider.retrieve_job(job_id)\n",
    "#retrieve_job.status()"
   ]
  },
  {
   "cell_type": "code",
   "execution_count": 32,
   "id": "ba254478",
   "metadata": {},
   "outputs": [],
   "source": [
    "#result_ret = retrieve_job.result()\n",
    "#counts_ret = result_ret.get_counts()\n",
    "#counts_ret"
   ]
  },
  {
   "cell_type": "code",
   "execution_count": 33,
   "id": "d4332c75",
   "metadata": {
    "scrolled": true
   },
   "outputs": [],
   "source": [
    "#Fig = plot_histogram(counts_ret)\n",
    "#Fig"
   ]
  },
  {
   "cell_type": "markdown",
   "id": "ea7b4e4e",
   "metadata": {},
   "source": [
    "<a id='sec_Notebooks_Circ_1_qubit_3'></a>\n",
    "## La moneda cuántica   "
   ]
  },
  {
   "cell_type": "markdown",
   "id": "8eab12df",
   "metadata": {},
   "source": [
    "Vamos a ver aquí a modo de ejemplo un experimento simple: \\textbf{la moneda cuántica.}\n",
    "\n",
    "El resultado de tirar una moneda al aire es una variable aleatoria con dos resultados equiprobables:  cara y cruz.  Es irrelevante si analizamos el resultado cada tirada o cada dos, o tres tiradas. Las frecuencias relativas de caras y cruces, siempre serán próximas a $1/2$. Es decir, podemos tirar la moneda, recogerla sin mirarla, volver a tirar, y las probabilidades no cambian.\n",
    "\n",
    "Podemos imaginar un experimento similar con un qúbit, donde cara $\\to 0$ y cruz $\\to 1$ son los resultados posibles de la medida en la base $Z$. Como al tirar la moneda, mientras esta está en el aire podemos pensar que está en ``una superposición equiprobable del cara y cruz'', el hecho de \\textbf{tirar la moneda} en computación cuántica será aplicar el operador $H$. \n",
    "\n",
    "Haciendo esta consideración, podemos ver que no es lo mismo tirar la moneda 1 vez y mirar \n",
    "\n",
    "$$\n",
    "\\ket{0}~ \\stackrel{\\rm tirar}{\\longrightarrow} ~ H \\ket{0}= \\ket{+} ~ \\stackrel{\\rm medir}{\\longrightarrow} ~p(0) = p(1) = 0.5\n",
    "$$\n",
    "\n",
    "que tirarla dos veces y mirar\n",
    "\n",
    "$$\n",
    "\\ket{0}~ \\stackrel{\\rm tirar}{\\longrightarrow} ~ H \\ket{0}~ \\stackrel{\\rm tirar}{\\longrightarrow} H^2\\ket{0} = \\ket{0} ~ \\stackrel{\\rm medir}{\\longrightarrow} ~p(0) = 1 ~,~p(1) = 0\n",
    "$$\n",
    "\n",
    "El objetivo de este experimento es simplemente ver que ciertas puertas son sus propias inversas y que cuando aplicamos las aplicamos un número par de veces seguidas, es como si no aplicáramos nada. "
   ]
  },
  {
   "cell_type": "markdown",
   "id": "3d5e8e65",
   "metadata": {},
   "source": [
    "Hagamos dos circuitos para hacer dos pruebas. Veamos que pasa si medimos después de la primero $H$ y si no:"
   ]
  },
  {
   "cell_type": "code",
   "execution_count": 34,
   "id": "2b7c127c",
   "metadata": {},
   "outputs": [
    {
     "data": {
      "text/plain": [
       "<qiskit.circuit.instructionset.InstructionSet at 0x7fa858289450>"
      ]
     },
     "execution_count": 34,
     "metadata": {},
     "output_type": "execute_result"
    }
   ],
   "source": [
    "classic_reg_2_bits = ClassicalRegister(2)\n",
    "\n",
    "circuit_coin_1 = QuantumCircuit(quantum_reg, classic_reg_2_bits)\n",
    "circuit_coin_1.h(0)\n",
    "circuit_coin_1.measure(quantum_reg, classic_reg_2_bits[0]) # Añadimos una medida intermedia.\n",
    "circuit_coin_1.h(0)\n",
    "circuit_coin_1.measure(quantum_reg, classic_reg_2_bits[1])\n",
    "\n",
    "circuit_coin_2 = QuantumCircuit(quantum_reg, classic_reg)\n",
    "circuit_coin_2.h(0)\n",
    "circuit_coin_2.h(0)\n",
    "circuit_coin_2.measure(quantum_reg, classic_reg)\n",
    "\n"
   ]
  },
  {
   "cell_type": "code",
   "execution_count": 35,
   "id": "3ee700d1",
   "metadata": {},
   "outputs": [
    {
     "name": "stderr",
     "output_type": "stream",
     "text": [
      "/home/dcb/Programs/miniconda/miniconda3/envs/qiskit_qibo_penny_2/lib/python3.11/site-packages/qiskit/visualization/circuit/matplotlib.py:266: FutureWarning: The default matplotlib drawer scheme will be changed to \"iqp\" in a following release. To silence this warning, specify the current default explicitly as style=\"clifford\", or the new default as style=\"iqp\".\n",
      "  self._style, def_font_ratio = load_style(self._style)\n"
     ]
    },
    {
     "data": {
      "image/png": "[encoded data removed]",
      "text/plain": [
       "<Figure size 454.517x200.667 with 1 Axes>"
      ]
     },
     "execution_count": 35,
     "metadata": {},
     "output_type": "execute_result"
    }
   ],
   "source": [
    "Fig_coin_1 = circuit_coin_1.draw(output='mpl') # mpl es de Matplolib\n",
    "Fig_coin_1.savefig(\"Figuras_Chapter_02-Circuitos_1_qubit_medidas_y_RealHardware/Fig_circuit_coin_1\")\n",
    "Fig_coin_1"
   ]
  },
  {
   "cell_type": "code",
   "execution_count": 36,
   "id": "1e321a35",
   "metadata": {},
   "outputs": [
    {
     "data": {
      "image/png": "[encoded data removed]",
      "text/plain": [
       "<Figure size 370.906x200.667 with 1 Axes>"
      ]
     },
     "execution_count": 36,
     "metadata": {},
     "output_type": "execute_result"
    }
   ],
   "source": [
    "Fig_coin_2 = circuit_coin_2.draw(output='mpl') # mpl es de Matplolib\n",
    "Fig_coin_2.savefig(\"Figuras_Chapter_02-Circuitos_1_qubit_medidas_y_RealHardware/Fig_circuit_coin_1\")\n",
    "Fig_coin_2"
   ]
  },
  {
   "cell_type": "code",
   "execution_count": 37,
   "id": "cdf2d8de",
   "metadata": {},
   "outputs": [
    {
     "name": "stdout",
     "output_type": "stream",
     "text": [
      "Resultado:  {'11': 250, '01': 232, '10': 255, '00': 263}\n",
      "Resultado:  {'0': 1000}\n"
     ]
    }
   ],
   "source": [
    "# transpilamos\n",
    "t_circuit_coin_1 = transpile(circuit_coin_1, backend = simulador)\n",
    "t_circuit_coin_2 = transpile(circuit_coin_2, backend = simulador)\n",
    "\n",
    "# Ejecutamos\n",
    "result_coin_1 = simulador.run(t_circuit_coin_1, shots = 1000).result()\n",
    "counts_coin_1 = result_coin_1.get_counts()\n",
    "print(\"Resultado: \", counts_coin_1)\n",
    "\n",
    "result_coin_2 = simulador.run(t_circuit_coin_2, shots = 1000).result()\n",
    "counts_coin_2 = result_coin_2.get_counts()\n",
    "print(\"Resultado: \", counts_coin_2)"
   ]
  },
  {
   "cell_type": "code",
   "execution_count": 38,
   "id": "9feecb5b",
   "metadata": {},
   "outputs": [
    {
     "data": {
      "image/png": "[encoded data removed]",
      "text/plain": [
       "<Figure size 700x500 with 1 Axes>"
      ]
     },
     "execution_count": 38,
     "metadata": {},
     "output_type": "execute_result"
    }
   ],
   "source": [
    "Fig = plot_histogram(counts_coin_1)\n",
    "Fig.savefig('Figuras_Chapter_02-Circuitos_1_qubit_medidas_y_RealHardware/Fig_circuit_coin_1_hist')\n",
    "Fig"
   ]
  },
  {
   "cell_type": "markdown",
   "id": "3208448f",
   "metadata": {},
   "source": [
    "Lo resultados $00$ y$11$ son aquellos en los que hemos medido los mismo en los dos medidores, es decir, en los dos tiradas ha salido cara o cruz. \n",
    "En los otros casos, no hemos medido lo mismo, es decir, en una tirada ha salido cara y en la otra cruz."
   ]
  },
  {
   "cell_type": "code",
   "execution_count": 39,
   "id": "6f7c1da7",
   "metadata": {
    "scrolled": true
   },
   "outputs": [
    {
     "data": {
      "image/png": "[encoded data removed]",
      "text/plain": [
       "<Figure size 700x500 with 1 Axes>"
      ]
     },
     "execution_count": 39,
     "metadata": {},
     "output_type": "execute_result"
    }
   ],
   "source": [
    "Fig = plot_histogram(counts_coin_2)\n",
    "Fig.savefig('Figuras_Chapter_02-Circuitos_1_qubit_medidas_y_RealHardware/Fig_circuit_coin_2_hist')\n",
    "Fig"
   ]
  },
  {
   "cell_type": "markdown",
   "id": "4964fe2e",
   "metadata": {},
   "source": [
    "Vemos que **medir altera nuestro resultado**"
   ]
  },
  {
   "cell_type": "markdown",
   "id": "26e25fdf",
   "metadata": {},
   "source": [
    "<a id='sec_Notebooks_Circ_1_qubit_4'></a>\n",
    "## Valores esperados  "
   ]
  },
  {
   "cell_type": "markdown",
   "id": "e0bc8967",
   "metadata": {},
   "source": [
    "<a id='sec_Notebooks_Circ_1_qubit_4.1'></a>\n",
    "### Valor esperado de un observable arbitrario (operador hermítico)."
   ]
  },
  {
   "cell_type": "markdown",
   "id": "6fe8bd25",
   "metadata": {},
   "source": [
    "Vamos a ver como se mide el valor esperado de un observable arbitrario $A$ en un estado arbitrario $\\ket{\\Psi}$. Estos valores esperados se denotan de la siguiente forma: $\\langle Z \\rangle_\\Psi$. \n",
    "\n",
    "Cualquier observable sobre un cúbit cumple $A = A^\\dagger$ (es hermítico) con lo que puede expresarse en la base\n",
    "\t\\begin{equation} \\label{ec_medidas1_expansion_A_en_Paulis}\n",
    "\tA = a I + n_x X + n_y Y  + n_z Z \\, .\n",
    "\t\\end{equation}\n",
    "Los coeficientes se obtienen haciendo uso de las relaciones $\\frac{1}{2}$ tr$ (\\sigma_i \\sigma_j) = \\delta_{ij}$ y de tr$(\\sigma_i)=0$, de las cuales se obtiene\n",
    "\t\\begin{align}\n",
    "\t&\\boxed{a  = \\frac{1}{2} \\text{ tr}(A)},        &         &\\boxed{n_i = \\frac{1}{2} \\text{ tr}  (A \\sigma_i)},\n",
    "\t\\end{align} \n",
    "Entonces, podremos obtener el valor esperado de $A$  si somos capaces de medir los valores esperados de $X,$ $Y$ y $Z$.\n",
    "\t\\begin{equation}\n",
    "\t\\boxed{\\langle A\\rangle_\\Psi = a + n_x \\langle X\\rangle_\\Psi + n_y \\langle Y\\rangle_\\Psi + n_z \\langle Z\\rangle_\\Psi}\n",
    "\t\\end{equation}"
   ]
  },
  {
   "cell_type": "markdown",
   "id": "97d4425e",
   "metadata": {},
   "source": [
    "<a id='sec_Notebooks_Circ_1_qubit_4.1.1'></a>\n",
    "#### Inicializando estado $| \\Psi \\rangle $"
   ]
  },
  {
   "cell_type": "markdown",
   "id": "18399595",
   "metadata": {},
   "source": [
    "Vamos a usar el resultado del circuito de la [sección 1.1.4](#sec_1.1.4)"
   ]
  },
  {
   "cell_type": "code",
   "execution_count": 40,
   "id": "76c490e6",
   "metadata": {},
   "outputs": [
    {
     "data": {
      "text/latex": [
       "$$0.9689124217 |0\\rangle+(0.2363540298 + 0.0731128692 i) |1\\rangle$$"
      ],
      "text/plain": [
       "<IPython.core.display.Latex object>"
      ]
     },
     "execution_count": 40,
     "metadata": {},
     "output_type": "execute_result"
    }
   ],
   "source": [
    "statevector_plus.draw('latex')"
   ]
  },
  {
   "cell_type": "code",
   "execution_count": 41,
   "id": "911d0661",
   "metadata": {},
   "outputs": [
    {
     "name": "stdout",
     "output_type": "stream",
     "text": [
      "p_0= 0.939 , p_1= 0.061\n",
      "probability distribution = {'1': 0.0596, '0': 0.9404}\n"
     ]
    }
   ],
   "source": [
    "print('p_0=', np.round(np.abs(psi_state[0])**2,3),', p_1=', np.round(np.abs(psi_state[1])**2,3))\n",
    "print(\"probability distribution =\", prob_distr_state)"
   ]
  },
  {
   "cell_type": "markdown",
   "id": "9f882d5d",
   "metadata": {},
   "source": [
    "<a id='sec_Notebooks_Circ_1_qubit_4.1.2'></a>\n",
    "#### Midiendo $\\langle Z \\rangle$"
   ]
  },
  {
   "cell_type": "code",
   "execution_count": 42,
   "id": "1c5c1033",
   "metadata": {},
   "outputs": [
    {
     "name": "stdout",
     "output_type": "stream",
     "text": [
      "Resultado:  {'1': 6039, '0': 93961}\n",
      "probability distribution = {'1': 0.0604, '0': 0.9396}\n",
      "<Z> = 0.8792\n"
     ]
    }
   ],
   "source": [
    "# Circuito\n",
    "circuit_Z_mean = QuantumCircuit(quantum_reg, classic_reg)\n",
    "circuit_Z_mean.initialize(psi_state,0)\n",
    "circuit_Z_mean.measure(quantum_reg, classic_reg)\n",
    "\n",
    "# Transpilamos\n",
    "t_circuit_Z_mean = transpile(circuit_Z_mean, backend = simulador)\n",
    "\n",
    "# Ejecutamos\n",
    "result_Z_mean = simulador.run(t_circuit_Z_mean, shots = 100000).result()\n",
    "counts_Z_mean = result_Z_mean.get_counts()\n",
    "print(\"Resultado: \", counts_Z_mean)\n",
    "\n",
    "# Distribución de probabilidad\n",
    "prob_distr_Z_mean = get_prob_dist(counts_Z_mean)\n",
    "print(\"probability distribution =\", prob_distr_Z_mean)\n",
    "\n",
    "# Calculamos <Z>\n",
    "mean_Z = 0\n",
    "\n",
    "for bits, probs  in prob_distr_Z_mean.items():\n",
    "    mean_Z += (-1)**(int(bits)) * probs  \n",
    "\n",
    "print('<Z> =',np.round(mean_Z,5))"
   ]
  },
  {
   "cell_type": "markdown",
   "id": "db76e9d2",
   "metadata": {},
   "source": [
    "<a id='sec_Notebooks_Circ_1_qubit_4.1.3'></a>\n",
    "#### Midiendo $\\langle X \\rangle$"
   ]
  },
  {
   "cell_type": "code",
   "execution_count": 43,
   "id": "49f7e480",
   "metadata": {},
   "outputs": [
    {
     "name": "stdout",
     "output_type": "stream",
     "text": [
      "Resultado:  {'1': 26867, '0': 73133}\n",
      "probability distribution = {'1': 0.2687, '0': 0.7313}\n",
      "<X> = 0.4626\n"
     ]
    }
   ],
   "source": [
    "# Circuito\n",
    "circuit_X_mean = QuantumCircuit(quantum_reg, classic_reg)\n",
    "circuit_X_mean.initialize(psi_state,0)\n",
    "circuit_X_mean.h(quantum_reg)\n",
    "circuit_X_mean.measure(quantum_reg, classic_reg)\n",
    "\n",
    "# Transpilamos\n",
    "t_circuit_X_mean = transpile(circuit_X_mean, backend = simulador)\n",
    "\n",
    "# Ejecutamos\n",
    "result_X_mean = simulador.run(t_circuit_X_mean, shots = 100000).result()\n",
    "counts_X_mean = result_X_mean.get_counts()\n",
    "print(\"Resultado: \", counts_X_mean)\n",
    "\n",
    "# Distribución de probabilidad\n",
    "prob_distr_X_mean = get_prob_dist(counts_X_mean)\n",
    "print(\"probability distribution =\", prob_distr_X_mean)\n",
    "\n",
    "# Calculamos <X>\n",
    "mean_X = 0\n",
    "\n",
    "for bits, probs  in prob_distr_X_mean.items():\n",
    "    mean_X += (-1)**(int(bits)) * probs  \n",
    "\n",
    "print('<X> =',np.round(mean_X,5))"
   ]
  },
  {
   "cell_type": "markdown",
   "id": "b6ef154a",
   "metadata": {},
   "source": [
    "<a id='sec_Notebooks_Circ_1_qubit_4.1.4'></a>\n",
    "#### Midiendo $\\langle Y \\rangle$"
   ]
  },
  {
   "cell_type": "code",
   "execution_count": 44,
   "id": "d927c382",
   "metadata": {},
   "outputs": [
    {
     "name": "stdout",
     "output_type": "stream",
     "text": [
      "Resultado:  {'0': 57251, '1': 42749}\n",
      "probability distribution = {'0': 0.5725, '1': 0.4275}\n",
      "<Y> = 0.145\n"
     ]
    }
   ],
   "source": [
    "# Circuito\n",
    "circuit_Y_mean = QuantumCircuit(quantum_reg, classic_reg)\n",
    "circuit_Y_mean.initialize(psi_state,0)\n",
    "circuit_Y_mean.sdg(quantum_reg)\n",
    "circuit_Y_mean.h(quantum_reg)\n",
    "circuit_Y_mean.measure(quantum_reg, classic_reg)\n",
    "\n",
    "# Transpilamos\n",
    "t_circuit_Y_mean = transpile(circuit_Y_mean, backend = simulador)\n",
    "\n",
    "# Ejecutamos\n",
    "result_Y_mean = simulador.run(t_circuit_Y_mean, shots = 100000).result()\n",
    "counts_Y_mean = result_Y_mean.get_counts()\n",
    "print(\"Resultado: \", counts_Y_mean)\n",
    "\n",
    "# Distribución de probabilidad\n",
    "prob_distr_Y_mean = get_prob_dist(counts_Y_mean)\n",
    "print(\"probability distribution =\", prob_distr_Y_mean)\n",
    "\n",
    "# Calculamos <Y>\n",
    "mean_Y = 0\n",
    "\n",
    "for bits, probs  in prob_distr_Y_mean.items():\n",
    "    mean_Y += (-1)**(int(bits)) * probs  \n",
    "\n",
    "print('<Y> =',np.round(mean_Y,5))"
   ]
  },
  {
   "cell_type": "markdown",
   "id": "e97c57b6",
   "metadata": {},
   "source": [
    "<a id='sec_Notebooks_Circ_1_qubit_4.2'></a>\n",
    "### Valor esperado de un operador unitario (no necesariamente hermítico)"
   ]
  },
  {
   "cell_type": "markdown",
   "id": "b0c2b3a1",
   "metadata": {},
   "source": [
    "Vamos a construir dos operadores U y V y calcular \n",
    "$$\n",
    "\\langle V \\rangle_\\Psi = \\langle \\Psi | V| \\Psi \\rangle = \\langle 0 | U^\\dagger V U |0\\rangle = \\langle 0 | {\\tilde \\Psi} \\rangle\n",
    "$$"
   ]
  },
  {
   "cell_type": "code",
   "execution_count": 45,
   "id": "558c7a2b",
   "metadata": {},
   "outputs": [
    {
     "name": "stdout",
     "output_type": "stream",
     "text": [
      "Resultado:  {'1': 5128, '0': 44872}\n",
      " <V> =  0.89744\n"
     ]
    }
   ],
   "source": [
    "from qiskit.circuit.library import U3Gate\n",
    "\n",
    "circuit_V_mean = QuantumCircuit(quantum_reg, classic_reg)\n",
    "\n",
    "theta_U  = np.pi/6\n",
    "phi_U    = np.pi/2\n",
    "varphi_U = np.pi\n",
    "\n",
    "theta_V  = np.pi/2\n",
    "phi_V    = np.pi/3\n",
    "varphi_V = 2*np.pi/7\n",
    "\n",
    "U        = U3Gate(theta_U, phi_U, varphi_U)\n",
    "U_dagger = U3Gate(theta_U, phi_U, varphi_U).inverse()\n",
    "V        = U3Gate(theta_V, phi_V, varphi_V)\n",
    "\n",
    "circuit_V_mean.append(U, quantum_reg)\n",
    "circuit_V_mean.append(V, quantum_reg)\n",
    "circuit_V_mean.append(U_dagger, quantum_reg)\n",
    "circuit_V_mean.measure(quantum_reg, classic_reg)\n",
    "\n",
    "# Transpilamos\n",
    "t_circuit_V_mean = transpile(circuit_V_mean, backend = simulador)\n",
    "\n",
    "# Ejecutamos\n",
    "shots = 50000\n",
    "result_V_mean = simulador.run(t_circuit_V_mean, shots = shots).result()\n",
    "counts_V_mean = result_V_mean.get_counts()\n",
    "print(\"Resultado: \", counts_V_mean)\n",
    "\n",
    "# Media\n",
    "print(\" <V> = \", counts_V_mean['0']/shots)"
   ]
  },
  {
   "cell_type": "code",
   "execution_count": 46,
   "id": "39317d55",
   "metadata": {},
   "outputs": [
    {
     "data": {
      "text/html": [
       "<h3>Version Information</h3><table><tr><th>Software</th><th>Version</th></tr><tr><td><code>qiskit</code></td><td>0.45.2</td></tr><tr><td><code>qiskit_aer</code></td><td>0.13.2</td></tr><tr><td><code>qiskit_ibm_provider</code></td><td>0.8.0</td></tr><tr><td><code>qiskit_ibm_runtime</code></td><td>0.20.0</td></tr><tr><th colspan='2'>System information</th></tr><tr><td>Python version</td><td>3.11.7</td></tr><tr><td>Python compiler</td><td>GCC 11.2.0</td></tr><tr><td>Python build</td><td>main, Dec 15 2023 18:12:31</td></tr><tr><td>OS</td><td>Linux</td></tr><tr><td>CPUs</td><td>12</td></tr><tr><td>Memory (Gb)</td><td>62.61029815673828</td></tr><tr><td colspan='2'>Fri Jul 19 16:24:05 2024 CEST</td></tr></table>"
      ],
      "text/plain": [
       "<IPython.core.display.HTML object>"
      ]
     },
     "metadata": {},
     "output_type": "display_data"
    }
   ],
   "source": [
    "import qiskit.tools.jupyter\n",
    "%qiskit_version_table"
   ]
  }
 ],
 "metadata": {
  "kernelspec": {
   "display_name": "Python 3 (ipykernel)",
   "language": "python",
   "name": "python3"
  },
  "language_info": {
   "codemirror_mode": {
    "name": "ipython",
    "version": 3
   },
   "file_extension": ".py",
   "mimetype": "text/x-python",
   "name": "python",
   "nbconvert_exporter": "python",
   "pygments_lexer": "ipython3",
   "version": "3.11.7"
  },
  "toc": {
   "base_numbering": 1,
   "nav_menu": {},
   "number_sections": false,
   "sideBar": true,
   "skip_h1_title": false,
   "title_cell": "Table of Contents",
   "title_sidebar": "Contents",
   "toc_cell": false,
   "toc_position": {
    "height": "calc(100% - 180px)",
    "left": "10px",
    "top": "150px",
    "width": "259.213px"
   },
   "toc_section_display": true,
   "toc_window_display": false
  }
 },
 "nbformat": 4,
 "nbformat_minor": 5
}
