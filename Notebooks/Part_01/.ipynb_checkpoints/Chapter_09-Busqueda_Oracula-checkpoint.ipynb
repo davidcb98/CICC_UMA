{
 "cells": [
  {
   "cell_type": "markdown",
   "id": "93f94a38",
   "metadata": {},
   "source": [
    "<a id='sec_Notebooks_algoritmos_oraculo'></a> \n",
    "# Algoritmos del Oráculo\n",
    "\n",
    "$ \\newcommand{\\bra}[1]{\\langle #1|} $\n",
    "$ \\newcommand{\\ket}[1]{|#1\\rangle} $\n",
    "$ \\newcommand{\\braket}[2]{\\langle #1|#2\\rangle} $\n",
    "$ \\newcommand{\\i}{{\\color{blue} i}} $ \n",
    "$ \\newcommand{\\Hil}{{\\cal H}} $\n",
    "$ \\newcommand{\\cg}[1]{{\\rm C}#1} $"
   ]
  },
  {
   "cell_type": "markdown",
   "id": "4171f68d",
   "metadata": {},
   "source": [
    "## Índice\n",
    "\n",
    "- **[1 - El problema de Bernstein-Vazirani](#sec_Notebooks_algoritmos_oraculo_1)**\n",
    "    - **[1.1 - Problema](#sec_Notebooks_algoritmos_oraculo_1.1)**\n",
    "    - **[1.2 - Implementación](#sec_Notebooks_algoritmos_oraculo_1.2)**\n",
    "- **[2 - El problema de Simon](#sec_Notebooks_algoritmos_oraculo_2)**\n",
    "    - **[2.1 - Problema](#sec_Notebooks_algoritmos_oraculo_2.1)**\n",
    "    - **[2.2 - Implementación](#sec_Notebooks_algoritmos_oraculo_2.2)**"
   ]
  },
  {
   "cell_type": "code",
   "execution_count": 1,
   "id": "75821298",
   "metadata": {},
   "outputs": [
    {
     "name": "stdout",
     "output_type": "stream",
     "text": [
      "NOT in colab\n"
     ]
    }
   ],
   "source": [
    "# No olvidar que en \"Google colab\" hay que instalar qiskit\n",
    "\n",
    "########################\n",
    "# Instala versión 0.45.2\n",
    "########################\n",
    "# Importante, poner qiskit-aer en la misma linea de \"pip install\" para que coja la versión adecuada\n",
    "try:\n",
    "    import google.colab\n",
    "    print(\"In colab, let's install things...\")\n",
    "    #\n",
    "    !pip install qiskit[visualization]==0.45.2 qiskit-aer qiskit-ibm-runtime ipywidgets\n",
    "except ImportError:\n",
    "    print(\"NOT in colab\")"
   ]
  },
  {
   "cell_type": "code",
   "execution_count": 2,
   "id": "d02721e9",
   "metadata": {},
   "outputs": [],
   "source": [
    "# Importamos las librerías y clases necesarias\n",
    "import numpy as np\n",
    "from qiskit.circuit import QuantumRegister, ClassicalRegister,QuantumCircuit\n",
    "from qiskit_aer import AerSimulator\n",
    "from qiskit import transpile\n",
    "from qiskit.quantum_info import Statevector\n",
    "\n",
    "# Import para visualización\n",
    "from qiskit.visualization import plot_histogram, plot_bloch_multivector, array_to_latex"
   ]
  },
  {
   "cell_type": "code",
   "execution_count": 3,
   "id": "6761017b",
   "metadata": {},
   "outputs": [],
   "source": [
    "# Importamos el simulador. Con \"method\" le especificamos el método de simulación\n",
    "simulador = AerSimulator(method = 'statevector')"
   ]
  },
  {
   "cell_type": "markdown",
   "id": "a8bb5f37",
   "metadata": {},
   "source": [
    "<a id='sec_Notebooks_algoritmos_oraculo_1'></a>\n",
    "## El problema de Bernstein-Vazirani"
   ]
  },
  {
   "cell_type": "markdown",
   "id": "0a6fad55",
   "metadata": {},
   "source": [
    "<a id='sec_Notebooks_algoritmos_oraculo_1.1'></a>\n",
    "### Problema"
   ]
  },
  {
   "cell_type": "markdown",
   "id": "65900802",
   "metadata": {},
   "source": [
    "-  **Promesa**: $f$ es una *función lineal*, definida por una cadena de bits $a \\in \\{0,1\\}^n$\n",
    "<br>\n",
    "$$f(x) = a\\cdot x  = a_{n-1} x_{n-1} \\oplus ....\\oplus a_0 x_0$$\n",
    "<br>\n",
    "\n",
    "- **Problema**: hallar $a = a_{n-1} \\ldots a_0$ \n",
    "\n",
    "- **Solución**: correr el circuito una vez y medir el estado final\n",
    "\n",
    "\\begin{eqnarray}\n",
    "\\ket{\\Phi} &=& \\frac{1}{2^n} \\sum_{x,y=0}^{2^n-1}(-1)^{f(x)+ y \\cdot x}\\ket{y}\n",
    "=  \n",
    "\\frac{1}{2^n}\\sum_{y=0}^{2^n-1} \\left(\\sum_{x=0}^{2^n-1}(-1)^{(a+y)\\cdot x}\\right)\\ket{y} ~\\nonumber\\\\  \\rule{0mm}{10mm}\n",
    "&=&  \n",
    "\\frac{1}{2^n}\\sum_{y=0}^{2^n-1} \\left(\\sum_{x=0}^{2^n-1}(-1)^{(-a+y)\\cdot x}\\right)\\ket{y}\\nonumber\\\\ \\rule{0mm}{10mm}\n",
    " &=&  \\frac{1}{2^n} \\sum_{y=0}^{2^n-1} 2^n \\delta_{(-a+y),0} \\ket{y} \\nonumber\\\\ \\rule{0mm}{10mm}\n",
    "&=& \\rule{0mm}{5mm} \\ket{a_0a_1\\cdots a_{n-1}} \\nonumber \n",
    "\\end{eqnarray}\n",
    "\n",
    "¡ Una **única**  medida del estado final da $a$ !"
   ]
  },
  {
   "cell_type": "markdown",
   "id": "2e9b8c82",
   "metadata": {},
   "source": [
    "<a id='sec_Notebooks_algoritmos_oraculo_1.2'></a>\n",
    "### Implementación"
   ]
  },
  {
   "cell_type": "markdown",
   "id": "fae135e1",
   "metadata": {},
   "source": [
    "En primer lugar generamos un oráculo lineal $f(x)=x\\cdot a$ con una cadena $a=(a_{n-1},\\ldots a_0)$ oculta de longitud $n$"
   ]
  },
  {
   "cell_type": "code",
   "execution_count": 8,
   "id": "ceb7e4aa",
   "metadata": {},
   "outputs": [
    {
     "name": "stdout",
     "output_type": "stream",
     "text": [
      "cadena oculta= 1100\n"
     ]
    },
    {
     "data": {
      "text/html": [
       "<pre style=\"word-wrap: normal;white-space: pre;background: #fff0;line-height: 1.1;font-family: &quot;Courier New&quot;,Courier,monospace\">               \n",
       "q_0: ──────────\n",
       "               \n",
       "q_1: ──────────\n",
       "               \n",
       "q_2: ──■───────\n",
       "       │       \n",
       "q_3: ──┼────■──\n",
       "     ┌─┴─┐┌─┴─┐\n",
       "q_4: ┤ X ├┤ X ├\n",
       "     └───┘└───┘</pre>"
      ],
      "text/plain": [
       "               \n",
       "q_0: ──────────\n",
       "               \n",
       "q_1: ──────────\n",
       "               \n",
       "q_2: ──■───────\n",
       "       │       \n",
       "q_3: ──┼────■──\n",
       "     ┌─┴─┐┌─┴─┐\n",
       "q_4: ┤ X ├┤ X ├\n",
       "     └───┘└───┘"
      ]
     },
     "execution_count": 8,
     "metadata": {},
     "output_type": "execute_result"
    }
   ],
   "source": [
    "def random_linear_oracle(n):  #n es la longitud de la cadena a oculta\n",
    "\n",
    "    import random, string\n",
    "    a = ''.join(random.choices(['0','1'], k=n))\n",
    "    print('cadena oculta=',a)  \n",
    "    qc = QuantumCircuit(n+1) # el ultimo registro es la salida |f(x)> = |a.x>\n",
    "\n",
    "    \n",
    "    for i, ai in enumerate(reversed(a)):  # ponemos reversed para usar el convenio de qiskit\n",
    "        if ai == '1':\n",
    "            qc.cx(i,n)    \n",
    "    return qc\n",
    "\n",
    "random_linear_oracle(4).draw()"
   ]
  },
  {
   "cell_type": "markdown",
   "id": "58a96e72",
   "metadata": {},
   "source": [
    "Ahora implementamos el oráculo en el algoritmo de BV"
   ]
  },
  {
   "cell_type": "code",
   "execution_count": 9,
   "id": "4619ccd3",
   "metadata": {},
   "outputs": [],
   "source": [
    "def BV_circuit(linear_oracle,n):\n",
    "    #n: número de bits\n",
    "    #a: coeficiente oculto\n",
    "    #return: circuito\n",
    "\n",
    "    qreg = QuantumRegister(n+1)\n",
    "    creg = ClassicalRegister(n)\n",
    "    qc = QuantumCircuit(qreg,creg)\n",
    "\n",
    "    #Hacemos máxima superposición\n",
    "    qc.h(qreg)\n",
    "\n",
    "    #Ponemos el último qubit en el estado |->\n",
    "    qc.z(qreg[-1])\n",
    "\n",
    "    qc.barrier()\n",
    "    \n",
    "    # añadimos el oráculo lineal con la cadena oculta\n",
    "    qc.append(linear_oracle.to_gate(),qreg[:])\n",
    "    \n",
    "    qc.barrier()\n",
    "    \n",
    "\n",
    "    #Aplicamos Hadamard de nuevo\n",
    "\n",
    "    qc.h(qreg[0:-1])\n",
    "\n",
    "    qc.measure(qreg[0:-1],creg)\n",
    "\n",
    "    return qc"
   ]
  },
  {
   "cell_type": "markdown",
   "id": "37915f6b",
   "metadata": {},
   "source": [
    "Vamos a correr un ejemplo concreto "
   ]
  },
  {
   "cell_type": "code",
   "execution_count": 10,
   "id": "50b34327",
   "metadata": {
    "scrolled": true
   },
   "outputs": [
    {
     "name": "stdout",
     "output_type": "stream",
     "text": [
      "cadena oculta= 0101\n"
     ]
    },
    {
     "name": "stderr",
     "output_type": "stream",
     "text": [
      "/home/dcb/Programs/miniconda/miniconda3/envs/qiskit_qibo_penny_2/lib/python3.11/site-packages/qiskit/visualization/circuit/matplotlib.py:266: FutureWarning: The default matplotlib drawer scheme will be changed to \"iqp\" in a following release. To silence this warning, specify the current default explicitly as style=\"clifford\", or the new default as style=\"iqp\".\n",
      "  self._style, def_font_ratio = load_style(self._style)\n"
     ]
    },
    {
     "data": {
      "image/png": "[encoded data removed]",
      "text/plain": [
       "<Figure size 1058.23x535.111 with 1 Axes>"
      ]
     },
     "execution_count": 10,
     "metadata": {},
     "output_type": "execute_result"
    }
   ],
   "source": [
    "n = 4\n",
    "linear_oracle = random_linear_oracle(n)\n",
    "\n",
    "circuito = BV_circuit(linear_oracle,n)\n",
    "\n",
    "circuito.draw(output = 'mpl')"
   ]
  },
  {
   "cell_type": "markdown",
   "id": "8ad4ea66",
   "metadata": {},
   "source": [
    "Ahora podemos extraer la cadena $a$ en *una sóla invocación* del oráculo"
   ]
  },
  {
   "cell_type": "code",
   "execution_count": 11,
   "id": "4a15b1e5",
   "metadata": {},
   "outputs": [],
   "source": [
    "# transpilamos\n",
    "t_circuit = transpile(circuito, backend = simulador)"
   ]
  },
  {
   "cell_type": "code",
   "execution_count": 12,
   "id": "5cda2fde",
   "metadata": {},
   "outputs": [
    {
     "data": {
      "text/plain": [
       "{'0101': 1000}"
      ]
     },
     "execution_count": 12,
     "metadata": {},
     "output_type": "execute_result"
    }
   ],
   "source": [
    "# Ejecutamos la simulación con 1000 shots \n",
    "result = simulador.run(t_circuit, shots = 1000).result()\n",
    "counts = result.get_counts()\n",
    "counts"
   ]
  },
  {
   "cell_type": "markdown",
   "id": "105df4f0",
   "metadata": {},
   "source": [
    "<a id='sec_Notebooks_algoritmos_oraculo_2'></a>\n",
    "## El problema de Simon   "
   ]
  },
  {
   "cell_type": "markdown",
   "id": "f71c6a19",
   "metadata": {},
   "source": [
    "<a id='sec_Notebooks_algoritmos_oraculo_2.1'></a>\n",
    "### Problema"
   ]
  },
  {
   "cell_type": "markdown",
   "id": "d712f9d0",
   "metadata": {},
   "source": [
    "- **Promesa:** Consideremos ahora una función $f:\\{0,1\\}^n \\to \\{0,1\\}^n$ con la siguiente propiedad: la función $f$ puede ser de dos tipos:\n",
    "    - **Uno-a-uno**: asigna una salida única para cada entrada. Un ejemplo sería el siguiente:\n",
    "        <br>\n",
    "        $$\t\n",
    "        f(00) \\rightarrow 01 ~~~~\n",
    "        f(01) \\rightarrow 11 ~~~~\n",
    "        f(10) \\rightarrow 00 ~~~~\n",
    "        f(11) \\rightarrow 10 \n",
    "        $$\n",
    "\n",
    "    - **Dos-a-uno**: asigna exactamente dos entradas a cada salida única. Este mapeo dos-a-dos es de acuerdo con una cadena de bits oculta $a$, donde\n",
    "\t\n",
    "        $$\n",
    "\t\t\\text{dados } x_1, x_2 \\text{ tal que } f(x_1) = f(x_2), \\text{ es seguro que } x_1 \\oplus x_2 = a\n",
    "\t\t$$\n",
    "\t\t\n",
    "        Equivalentemente, podemos escribir: \n",
    "\t\t\n",
    "        $$ \n",
    "\t\tf(x_1 \\oplus a ) = f(x_2).\n",
    "\t\t$$\n",
    "\t\t\n",
    "        Un ejemplo con una función que toma 4 entradas es\n",
    "\t\t<br>\n",
    "        $$\n",
    "\t\tf(00) \\rightarrow 01 ~~~~\n",
    "\t\tf(01) \\rightarrow 11 ~~~~\n",
    "\t\tf(10) \\rightarrow 01 ~~~~\n",
    "\t\tf(11) \\rightarrow 11 \n",
    "\t\t$$\n",
    "\t\t\n",
    "        Donde $00 \\oplus 10 =  10$ y $01 \\oplus 11 = 10$, con lo cual $s =10$"
   ]
  },
  {
   "cell_type": "markdown",
   "id": "42f73106",
   "metadata": {},
   "source": [
    " - **Problema:** Dada esta caja negra $f$, como de rápido podemos determinar si $f$ es uno-a-uno o dos-a-uno? Entonces, si $f$ resulta ser dos-a-uno, como de rápido podemos determinar $a$? En realidad los dos casos consisten en encontrar $a$, pues el caso uno-a-uno corresponde con $a=00\\dots$. (Clásicamente, si queremos conocer $s$ con 100\\% de certeza, tenemos que verificar hasta $2(n-1) +1$ entradas, donde $n$ es el número de bits de la entrada. Es decir, necesitamos verificar la mitad de casos.)\n",
    "\t\t\n",
    " - **Solución:** El circuito será el de la Fig:\n",
    "\t\n",
    "\n",
    "<figure><center>\n",
    "<img src=\"./Figuras/Fig_algoritmos_SimonCircuit.png\" align=center alt=\"\" width='500px'/>\n",
    "</center></figure>"
   ]
  },
  {
   "cell_type": "markdown",
   "id": "4662e9e5",
   "metadata": {},
   "source": [
    "<a id='sec_Notebooks_algoritmos_oraculo_2.2'></a>\n",
    "### Implementación"
   ]
  },
  {
   "cell_type": "code",
   "execution_count": 13,
   "id": "3cb5050b",
   "metadata": {},
   "outputs": [],
   "source": [
    "def binary_function(f_outputs): \n",
    " \n",
    "    from qiskit import QuantumRegister, ClassicalRegister, QuantumCircuit\n",
    "    from qiskit.circuit.library import MCXGate\n",
    "\n",
    "    #claramente el número de n-bits de entrada tiene que ser tal que 2^n acomode el número de salidas de f\n",
    "    n = int(np.ceil(np.log2(len(f_outputs))))\n",
    "    \n",
    "    #sin embargo los outputs pueden tener longitud arbitraria\n",
    "    m = len(f_outputs[0])\n",
    "    \n",
    "    #generamos todos los posibles inputs en binario, completando con ceros hasta tener strings de n bits\n",
    "    inputs = [format(i, 'b').zfill(n) for i in range(2**n)]\n",
    "    # verificamos que hay tantos outputs como posibles inputs \n",
    "    # assert len(inputs) == len(f_outputs)\n",
    "\n",
    "    qr_input = QuantumRegister(n)\n",
    "    qr_output = QuantumRegister(m)\n",
    "    qc = QuantumCircuit(qr_input, qr_output)\n",
    "\n",
    "\n",
    "    # Hacemos un bucle sobre los inputs\n",
    "    for i,input_str in enumerate(inputs[:len(f_outputs)]):\n",
    "        ctrl_state= int(input_str[::],2)\n",
    "\n",
    "        # Para cada input, i, hacemos un bucle sobre cada  cúbit del output     \n",
    "        for j,output_bit in enumerate(f_outputs[i]):\n",
    "            if output_bit =='1':\n",
    "                qc.append(MCXGate(len(input_str), ctrl_state=ctrl_state),qr_input[:]+[qr_output[n-j-1]])\n",
    "\n",
    "\n",
    "    return qc"
   ]
  },
  {
   "cell_type": "code",
   "execution_count": 14,
   "id": "3c263549",
   "metadata": {},
   "outputs": [],
   "source": [
    "# promesa: esta función contiene un periodo binario\n",
    "f_outputs = ['1111', '1011', '0011', '1000', '0101', '0100', \n",
    "               '0000', '1110', '0101', '0100', '0000', '1110', \n",
    "               '1111', '1011', '0011', '1000']\n",
    "\n",
    "# creamos el oráculo y lo transformamos en una puerta \n",
    "simon_oracle_gate = binary_function(f_outputs).to_gate()\n",
    "\n",
    "# verificamos que se trata de una función de n en n bits\n",
    "n_input = int(np.log2(len(f_outputs))) #número de outputs\n",
    "m_output =len(f_outputs[0])            #longitud de cada output\n",
    "assert(n_input == m_output)"
   ]
  },
  {
   "cell_type": "markdown",
   "id": "00075056",
   "metadata": {},
   "source": [
    "<div class=\"alert alert-block alert-success\">\n",
    "<p style=\"color: DarkGreen;\">\n",
    "<b>Ejercicio</b>:\n",
    "<br>        \n",
    "Completa la  construcción del algoritmo de Simon \n",
    "<br> \n",
    "</p>\n",
    "<details><summary> >> <i>Solución</i> </summary>\n",
    "\n",
    "    \n",
    "    # Aplica la puerta de Walsh-Hadamard al primer registro\n",
    "    qc.h(qr_in)\n",
    "    qc.barrier()\n",
    "    \n",
    "    # Aplicamos el oráculo\n",
    "    qc.append(simon_oracle_gate,qr_in[:]+qr_out[:])    \n",
    "    qc.barrier()\n",
    "    \n",
    "    # Medimos el registro de los cúbits de |f(x)>\n",
    "    qc.measure(qr_out, cr)\n",
    "    qc.barrier()\n",
    "\n",
    "\n",
    "    # Volvemos a aplicar la puerta de Walsh-Hadamard al primer registro\n",
    "    qc.h(qr_in)\n",
    "    qc.barrier()\n",
    "    \n",
    "    # Finalmente medimos el registro de los inputs |x>\n",
    "\n",
    "    qc.measure(qr_in, cr)\n",
    "    \n",
    "</details>\n",
    "</div>"
   ]
  },
  {
   "cell_type": "code",
   "execution_count": 15,
   "id": "58b0cb2e",
   "metadata": {
    "tags": [
     "skip_execution"
    ]
   },
   "outputs": [
    {
     "name": "stderr",
     "output_type": "stream",
     "text": [
      "/home/dcb/Programs/miniconda/miniconda3/envs/qiskit_qibo_penny_2/lib/python3.11/site-packages/qiskit/visualization/circuit/matplotlib.py:266: FutureWarning: The default matplotlib drawer scheme will be changed to \"iqp\" in a following release. To silence this warning, specify the current default explicitly as style=\"clifford\", or the new default as style=\"iqp\".\n",
      "  self._style, def_font_ratio = load_style(self._style)\n"
     ]
    },
    {
     "data": {
      "image/png": "[encoded data removed]",
      "text/plain": [
       "<Figure size 1500.11x785.944 with 1 Axes>"
      ]
     },
     "execution_count": 15,
     "metadata": {},
     "output_type": "execute_result"
    }
   ],
   "source": [
    "n=n_input\n",
    "\n",
    "qr_in = QuantumRegister(n, name='x')\n",
    "qr_out = QuantumRegister(n, name='f(x)')\n",
    "cr = ClassicalRegister(n, name='meas')\n",
    "    \n",
    "# Construimos el circuito\n",
    "qc = QuantumCircuit(qr_in, qr_out, cr, name='q')\n",
    "    \n",
    "#========Escribe tu código aquí========\n",
    "\n",
    "\n",
    "#======================================\n",
    "    \n",
    "qc.draw('mpl')"
   ]
  },
  {
   "cell_type": "code",
   "execution_count": 16,
   "id": "0f39734e",
   "metadata": {
    "tags": [
     "skip_execution"
    ]
   },
   "outputs": [
    {
     "data": {
      "image/png": "[encoded data removed]",
      "text/plain": [
       "<Figure size 700x500 with 1 Axes>"
      ]
     },
     "execution_count": 16,
     "metadata": {},
     "output_type": "execute_result"
    }
   ],
   "source": [
    "from qiskit import Aer, execute\n",
    "\n",
    "shots_exe = 1000\n",
    "\n",
    "backend = Aer.get_backend('qasm_simulator')\n",
    "job     = execute(qc, backend, shots = shots_exe)\n",
    "result  = job.result()\n",
    "counts  = result.get_counts()\n",
    "\n",
    "from qiskit.tools.visualization import plot_histogram\n",
    "\n",
    "plot_histogram(counts)"
   ]
  },
  {
   "cell_type": "code",
   "execution_count": 1,
   "id": "e4b22429",
   "metadata": {},
   "outputs": [
    {
     "data": {
      "text/html": [
       "<h3>Version Information</h3><table><tr><th>Software</th><th>Version</th></tr><tr><td><code>qiskit</code></td><td>0.45.2</td></tr><tr><th colspan='2'>System information</th></tr><tr><td>Python version</td><td>3.11.7</td></tr><tr><td>Python compiler</td><td>GCC 11.2.0</td></tr><tr><td>Python build</td><td>main, Dec 15 2023 18:12:31</td></tr><tr><td>OS</td><td>Linux</td></tr><tr><td>CPUs</td><td>12</td></tr><tr><td>Memory (Gb)</td><td>62.61029815673828</td></tr><tr><td colspan='2'>Fri Jul 19 16:30:20 2024 CEST</td></tr></table>"
      ],
      "text/plain": [
       "<IPython.core.display.HTML object>"
      ]
     },
     "metadata": {},
     "output_type": "display_data"
    }
   ],
   "source": [
    "import qiskit.tools.jupyter\n",
    "%qiskit_version_table"
   ]
  }
 ],
 "metadata": {
  "celltoolbar": "Tags",
  "kernelspec": {
   "display_name": "Python 3 (ipykernel)",
   "language": "python",
   "name": "python3"
  },
  "language_info": {
   "codemirror_mode": {
    "name": "ipython",
    "version": 3
   },
   "file_extension": ".py",
   "mimetype": "text/x-python",
   "name": "python",
   "nbconvert_exporter": "python",
   "pygments_lexer": "ipython3",
   "version": "3.11.7"
  },
  "nbTranslate": {
   "displayLangs": [
    "*"
   ],
   "hotkey": "alt-t",
   "langInMainMenu": true,
   "sourceLang": "es",
   "targetLang": "en",
   "useGoogleTranslate": true
  },
  "toc": {
   "base_numbering": 1,
   "nav_menu": {},
   "number_sections": false,
   "sideBar": true,
   "skip_h1_title": true,
   "title_cell": "Table of Contents",
   "title_sidebar": "Contents",
   "toc_cell": false,
   "toc_position": {
    "height": "calc(100% - 180px)",
    "left": "10px",
    "top": "150px",
    "width": "188.454px"
   },
   "toc_section_display": true,
   "toc_window_display": false
  }
 },
 "nbformat": 4,
 "nbformat_minor": 5
}
