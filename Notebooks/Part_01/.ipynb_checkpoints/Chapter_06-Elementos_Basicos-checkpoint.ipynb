{
 "cells": [
  {
   "cell_type": "markdown",
   "id": "d6a7c342",
   "metadata": {},
   "source": [
    "<a id='sec_Notebooks_Elementos'></a> \n",
    "# Elementos básicos de los algoritmos cuánticos"
   ]
  },
  {
   "cell_type": "markdown",
   "id": "dcf5b2c0",
   "metadata": {},
   "source": [
    "## Índice\n",
    "\n",
    "- **[1 - SWAP a partir de CNOTs](#sec_Notebooks_Elementos_1)**\n",
    "- **[2 - Medidas de calidad de un circuito](#sec_Notebooks_Elementos_2)**"
   ]
  },
  {
   "cell_type": "code",
   "execution_count": 1,
   "id": "4bb23cfe",
   "metadata": {},
   "outputs": [],
   "source": [
    "from qiskit import Aer, QuantumCircuit, execute, transpile\n",
    "from qiskit.quantum_info import Statevector\n",
    "from qiskit.tools.visualization import array_to_latex"
   ]
  },
  {
   "cell_type": "markdown",
   "id": "414a446f",
   "metadata": {},
   "source": [
    "<a id='sec_Notebooks_Elementos_1'></a>\n",
    "## SWAP a partir de CNOTs "
   ]
  },
  {
   "cell_type": "markdown",
   "id": "ed1ee3b7",
   "metadata": {},
   "source": [
    "<figure><center>\n",
    "<img src=\"Figuras/Fig_elementos_Equiv_CNOTs\" align=center alt=\"\" width='500px'/>\n",
    "</center></figure>"
   ]
  },
  {
   "cell_type": "markdown",
   "id": "7f2ba8e7",
   "metadata": {},
   "source": [
    "Para verificar esta identidad podemos construir los dos circuitos y verificar las matrices unitarias que implementan son iguales."
   ]
  },
  {
   "cell_type": "code",
   "execution_count": 2,
   "id": "b361427c",
   "metadata": {},
   "outputs": [
    {
     "name": "stdout",
     "output_type": "stream",
     "text": [
      "          ┌───┐     \n",
      "q_0: ──■──┤ X ├──■──\n",
      "     ┌─┴─┐└─┬─┘┌─┴─┐\n",
      "q_1: ┤ X ├──■──┤ X ├\n",
      "     └───┘     └───┘\n",
      "        \n",
      "q_0: ─X─\n",
      "      │ \n",
      "q_1: ─X─\n",
      "        \n"
     ]
    }
   ],
   "source": [
    "U_simulator = Aer.get_backend('unitary_simulator')\n",
    "\n",
    "qc_left= QuantumCircuit(2)\n",
    "qc_right= QuantumCircuit(2)\n",
    "\n",
    "qc_left.cx(0,1)\n",
    "qc_left.cx(1,0)\n",
    "qc_left.cx(0,1)\n",
    "qc_right.swap(1,0)\n",
    " \n",
    "print(qc_left)\n",
    "print(qc_right)\n",
    "\n",
    "U_left = execute(qc_left, backend = U_simulator).result().get_unitary()\n",
    "U_right = execute(qc_right, backend = U_simulator).result().get_unitary()"
   ]
  },
  {
   "cell_type": "code",
   "execution_count": 3,
   "id": "6ae2c1d3",
   "metadata": {},
   "outputs": [
    {
     "data": {
      "text/latex": [
       "$$\n",
       "\\text{U_left = }\n",
       "\n",
       "\\begin{bmatrix}\n",
       "1 & 0 & 0 & 0  \\\\\n",
       " 0 & 0 & 1 & 0  \\\\\n",
       " 0 & 1 & 0 & 0  \\\\\n",
       " 0 & 0 & 0 & 1  \\\\\n",
       " \\end{bmatrix}\n",
       "$$"
      ],
      "text/plain": [
       "<IPython.core.display.Latex object>"
      ]
     },
     "execution_count": 3,
     "metadata": {},
     "output_type": "execute_result"
    }
   ],
   "source": [
    "array_to_latex(U_left, prefix=\"\\\\text{U_left = }\\n\")"
   ]
  },
  {
   "cell_type": "code",
   "execution_count": 4,
   "id": "0e49b722",
   "metadata": {},
   "outputs": [
    {
     "data": {
      "text/latex": [
       "$$\n",
       "\\text{U_right = }\n",
       "\n",
       "\\begin{bmatrix}\n",
       "1 & 0 & 0 & 0  \\\\\n",
       " 0 & 0 & 1 & 0  \\\\\n",
       " 0 & 1 & 0 & 0  \\\\\n",
       " 0 & 0 & 0 & 1  \\\\\n",
       " \\end{bmatrix}\n",
       "$$"
      ],
      "text/plain": [
       "<IPython.core.display.Latex object>"
      ]
     },
     "execution_count": 4,
     "metadata": {},
     "output_type": "execute_result"
    }
   ],
   "source": [
    "array_to_latex(U_right, prefix=\"\\\\text{U_right = }\\n\")"
   ]
  },
  {
   "cell_type": "markdown",
   "id": "c5af8875",
   "metadata": {},
   "source": [
    "<a id='sec_Notebooks_Elementos_2'></a>\n",
    "## Medidas de calidad de un circuito "
   ]
  },
  {
   "cell_type": "markdown",
   "id": "27347f8d",
   "metadata": {},
   "source": [
    "Alguna medidas cuantitativas  permiten comparar la calidad de distintos circuitos que efectúan la misma tarea. \n",
    "\n",
    "- **Anchura:** es el número total de cúbits  que necesita.  El uso de ancillas incrementa la anchura de un circuito, y por tanto, reduce su calidad en comparación con otro circuito que tenga menor anchura. \n",
    "\n",
    "- **Coste:** el número de puertas presentes en el mismo. \n",
    "\n",
    "- **Complejidad:** es una medida estandarizada asociada al número de *puertas elementales* en las que puede descomponerse un circuito.  Es un número a reducir. Sin embargo no es una medida inambigua ya que depende de la librería utilizada. Por ejemplo, si ésta es la NCT, entonces el coste del [circuito](#Toffolidecomposition) es 1. Sin embargo, si la librería es la tomada por $ \\{ H, S, T, \\hbox{CNOT}\\} $\n",
    "entonces el coste sube hasta 7. Por ello, a la hora de comparar circuitos es importante definirlos en la misma base. \n",
    "\n",
    "- **Profundidad:** para evaluar la *profundidad*  es necesario agrupar todas las puertas  que se puedan realizar en paralelo en cortes temporales de duración $\\Delta$ (pulso). En particular puertas que actúen sobre registros diferentes no interferirán y se podrán paralelizar.  Por ejemplo, el [circuito que descompone $U$](#CUdecomposition)   tiene un coste igual a 6, pero una profundidad igual a 5. "
   ]
  },
  {
   "cell_type": "code",
   "execution_count": 5,
   "id": "e87805e5",
   "metadata": {},
   "outputs": [
    {
     "data": {
      "image/png": "[encoded data removed]",
      "text/plain": [
       "<Figure size 454.719x284.278 with 1 Axes>"
      ]
     },
     "execution_count": 5,
     "metadata": {},
     "output_type": "execute_result"
    }
   ],
   "source": [
    "qc = QuantumCircuit(3)\n",
    "qc.h(0)\n",
    "qc.swap(2,1)\n",
    "qc.h(2)\n",
    "qc.cx(2,0)\n",
    "qc.h([0,2])\n",
    "qc.draw('mpl')"
   ]
  },
  {
   "cell_type": "code",
   "execution_count": 6,
   "id": "8c866802",
   "metadata": {
    "scrolled": true
   },
   "outputs": [
    {
     "name": "stdout",
     "output_type": "stream",
     "text": [
      "tamaño= 6\n",
      "puertas no locales= 2\n",
      "anchura= 3\n",
      "profundidad= 4\n"
     ]
    }
   ],
   "source": [
    "print('tamaño=',qc.size())\n",
    "print('puertas no locales=', qc.num_nonlocal_gates())\n",
    "print('anchura=', qc.num_qubits)\n",
    "print('profundidad=', qc.depth())"
   ]
  },
  {
   "cell_type": "markdown",
   "id": "3ab67cd7",
   "metadata": {},
   "source": [
    "Decomponemos el circuito en las puertas básicas del simulados."
   ]
  },
  {
   "cell_type": "code",
   "execution_count": 7,
   "id": "0ecc7a49",
   "metadata": {
    "scrolled": true
   },
   "outputs": [
    {
     "data": {
      "image/png": "[encoded data removed]",
      "text/plain": [
       "<Figure size 621.941x284.278 with 1 Axes>"
      ]
     },
     "execution_count": 7,
     "metadata": {},
     "output_type": "execute_result"
    }
   ],
   "source": [
    "qc_dec=qc.decompose()\n",
    "qc_dec.draw('mpl')"
   ]
  },
  {
   "cell_type": "code",
   "execution_count": 8,
   "id": "f82f09fd",
   "metadata": {},
   "outputs": [
    {
     "name": "stdout",
     "output_type": "stream",
     "text": [
      "complejidad= 8\n",
      "puertas no locales= 4\n",
      "anchura= 3\n",
      "profundidad= 6\n"
     ]
    }
   ],
   "source": [
    "print('complejidad=', qc_dec.size())\n",
    "print('puertas no locales=', qc_dec.num_nonlocal_gates())\n",
    "print('anchura=', qc_dec.num_qubits)\n",
    "print('profundidad=', qc_dec.depth())"
   ]
  },
  {
   "cell_type": "markdown",
   "id": "8a9cfb9e",
   "metadata": {},
   "source": [
    "Descompongamos el circito en las puertas básicas de un ordenador real de IBM"
   ]
  },
  {
   "cell_type": "code",
   "execution_count": 9,
   "id": "5065b4ee",
   "metadata": {},
   "outputs": [],
   "source": [
    "from qiskit_ibm_provider import IBMProvider, least_busy\n",
    "\n",
    "# Load a previously saved account.\n",
    "provider = IBMProvider()\n",
    "\n",
    "# Select a different hub/group/project.\n",
    "provider = IBMProvider(instance=\"ibm-q/open/main\")"
   ]
  },
  {
   "cell_type": "code",
   "execution_count": 10,
   "id": "26350d0b",
   "metadata": {},
   "outputs": [
    {
     "data": {
      "text/plain": [
       "['cx', 'id', 'rz', 'sx', 'x']"
      ]
     },
     "execution_count": 10,
     "metadata": {},
     "output_type": "execute_result"
    }
   ],
   "source": [
    "backend = least_busy(provider.backends(filters=lambda b: b.configuration().n_qubits >= 3 and\n",
    "                                   not b.configuration().simulator and b.status().operational==True))\n",
    "backend.configuration().basis_gates"
   ]
  },
  {
   "cell_type": "code",
   "execution_count": 11,
   "id": "72d74c0a",
   "metadata": {},
   "outputs": [
    {
     "data": {
      "image/png": "[encoded data removed]",
      "text/plain": [
       "<Figure size 1085.18x618.722 with 1 Axes>"
      ]
     },
     "execution_count": 11,
     "metadata": {},
     "output_type": "execute_result"
    }
   ],
   "source": [
    "t_qc = transpile(qc, backend, optimization_level=3)\n",
    "t_qc.draw('mpl')"
   ]
  },
  {
   "cell_type": "code",
   "execution_count": 12,
   "id": "fb97e385",
   "metadata": {},
   "outputs": [
    {
     "name": "stdout",
     "output_type": "stream",
     "text": [
      "complejidad= 15\n",
      "puertas no locales= 4\n",
      "anchura= 7\n",
      "profundidad= 10\n"
     ]
    }
   ],
   "source": [
    "print('complejidad=', t_qc.size())\n",
    "print('puertas no locales=', t_qc.num_nonlocal_gates())\n",
    "print('anchura=', t_qc.num_qubits)\n",
    "print('profundidad=', t_qc.depth())"
   ]
  }
 ],
 "metadata": {
  "kernelspec": {
   "display_name": "Python 3 (ipykernel)",
   "language": "python",
   "name": "python3"
  },
  "language_info": {
   "codemirror_mode": {
    "name": "ipython",
    "version": 3
   },
   "file_extension": ".py",
   "mimetype": "text/x-python",
   "name": "python",
   "nbconvert_exporter": "python",
   "pygments_lexer": "ipython3",
   "version": "3.11.7"
  },
  "toc": {
   "base_numbering": 1,
   "nav_menu": {},
   "number_sections": false,
   "sideBar": true,
   "skip_h1_title": true,
   "title_cell": "Table of Contents",
   "title_sidebar": "Contents",
   "toc_cell": false,
   "toc_position": {
    "height": "calc(100% - 180px)",
    "left": "10px",
    "top": "150px",
    "width": "303.639px"
   },
   "toc_section_display": true,
   "toc_window_display": false
  }
 },
 "nbformat": 4,
 "nbformat_minor": 5
}
