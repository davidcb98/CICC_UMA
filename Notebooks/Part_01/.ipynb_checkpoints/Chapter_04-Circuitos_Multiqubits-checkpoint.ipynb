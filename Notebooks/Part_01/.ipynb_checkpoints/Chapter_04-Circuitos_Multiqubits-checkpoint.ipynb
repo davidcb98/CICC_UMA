{
 "cells": [
  {
   "cell_type": "markdown",
   "id": "c0c190b4",
   "metadata": {},
   "source": [
    "<a id='sec_Notebooks_Circ_multiqubit'></a>\n",
    "# Circuitos multiqúbit "
   ]
  },
  {
   "cell_type": "markdown",
   "id": "915f83ae",
   "metadata": {},
   "source": [
    "## Índice\n",
    "\n",
    "- **[1 - Circuitos de dos qúbits con una CNOT](#sec_Notebooks_Circ_multiqubit_1)**\n",
    "    - **[1.1 - CNOT con el control abajo](#sec_Notebooks_Circ_multiqubit_1.1)**\n",
    "    - **[1.2 - Con el control arriba](#sec_Notebooks_Circ_multiqubit_1.2)**\n",
    "    - **[1.3 - CNOT en acción. Ejemplos](#sec_Notebooks_Circ_multiqubit_1.3)**\n",
    "- **[2 - Entrelazamiento: Crear estados entrelazados con la CNOT y la $H$](#sec_Notebooks_Circ_multiqubit_2)**\n",
    "- **[3 - Puerta Swap](#sec_Notebooks_Circ_multiqubit_3)**\n",
    "- **[4 - Puerta CSWAP](#sec_Notebooks_Circ_multiqubit_4)**\n",
    "- **[5 - CCNOT o Toffoli](#sec_Notebooks_Circ_multiqubit_5)**\n",
    "- **[6 - Puerta MCX (multicontrolada X)](#sec_Notebooks_Circ_multiqubit_6)**"
   ]
  },
  {
   "cell_type": "code",
   "execution_count": null,
   "id": "7fd637b1",
   "metadata": {},
   "outputs": [],
   "source": [
    "# No olvidar que en \"Google colab\" hay que instalar qiskit\n",
    "\n",
    "########################\n",
    "# Instala versión 0.45.2\n",
    "########################\n",
    "# Importante, poner qiskit-aer en la misma linea de \"pip install\" para que coja la versión adecuada\n",
    "try:\n",
    "    import google.colab\n",
    "    print(\"In colab, let's install things...\")\n",
    "    #\n",
    "    !pip install qiskit[visualization]==0.45.2 qiskit-aer qiskit-ibm-runtime ipywidgets\n",
    "except ImportError:\n",
    "    print(\"NOT in colab\")"
   ]
  },
  {
   "cell_type": "code",
   "execution_count": 1,
   "id": "fecee052",
   "metadata": {},
   "outputs": [],
   "source": [
    "# Importamos las librerías y clases necesarias\n",
    "import numpy as np\n",
    "from qiskit.circuit import QuantumRegister, ClassicalRegister,QuantumCircuit\n",
    "from qiskit_aer import AerSimulator\n",
    "from qiskit import transpile\n",
    "from qiskit.quantum_info import Statevector\n",
    "\n",
    "# Import para visualización\n",
    "from qiskit.visualization import plot_histogram, plot_bloch_multivector, array_to_latex"
   ]
  },
  {
   "cell_type": "markdown",
   "id": "290deb08",
   "metadata": {},
   "source": [
    "Importemos el simulador que vamos a usar en este notebook:"
   ]
  },
  {
   "cell_type": "code",
   "execution_count": 2,
   "id": "a8626391",
   "metadata": {},
   "outputs": [],
   "source": [
    "# Importamos los simuladores. Con \"method\" le especificamos el método de simulación\n",
    "simulador = AerSimulator(method = 'statevector')\n",
    "\n",
    "from qiskit import Aer\n",
    "U_simulator = Aer.get_backend('unitary_simulator')"
   ]
  },
  {
   "cell_type": "markdown",
   "id": "41528d31",
   "metadata": {},
   "source": [
    "<a id='sec_Notebooks_Circ_multiqubit_1'></a>\n",
    "## Circuitos de dos qúbits con una CNOT  "
   ]
  },
  {
   "cell_type": "markdown",
   "id": "d4e916b8",
   "metadata": {},
   "source": [
    "Primero vamos a ver las matrices para la CNOT con el control abajo y arriba (en Qiskit). Después veremos varias ejecucciones de circuitos con CNOTs"
   ]
  },
  {
   "cell_type": "markdown",
   "id": "68e74f85",
   "metadata": {},
   "source": [
    "<a id='sec_Notebooks_Circ_multiqubit_1.1'></a>\n",
    "### CNOT con el control abajo"
   ]
  },
  {
   "cell_type": "code",
   "execution_count": 3,
   "id": "523a036e",
   "metadata": {
    "scrolled": true
   },
   "outputs": [
    {
     "name": "stderr",
     "output_type": "stream",
     "text": [
      "/home/dcb/Programs/miniconda/miniconda3/envs/qiskit_qibo_penny_2/lib/python3.11/site-packages/qiskit/visualization/circuit/matplotlib.py:266: FutureWarning: The default matplotlib drawer scheme will be changed to \"iqp\" in a following release. To silence this warning, specify the current default explicitly as style=\"clifford\", or the new default as style=\"iqp\".\n",
      "  self._style, def_font_ratio = load_style(self._style)\n"
     ]
    },
    {
     "data": {
      "image/png": "[encoded data removed]",
      "text/plain": [
       "<Figure size 221.914x200.667 with 1 Axes>"
      ]
     },
     "execution_count": 3,
     "metadata": {},
     "output_type": "execute_result"
    }
   ],
   "source": [
    "# Registros\n",
    "quantum_reg_2_qubits = QuantumRegister(2) \n",
    "\n",
    "# Circuito\n",
    "circuit_CNOT = QuantumCircuit(quantum_reg_2_qubits)#, classic_reg_2_bits)\n",
    "# Añadimos la CNOT\n",
    "circuit_CNOT.cx(1,0) #(control, target)\n",
    "circuit_CNOT.draw('mpl')"
   ]
  },
  {
   "cell_type": "code",
   "execution_count": 4,
   "id": "236662ed",
   "metadata": {},
   "outputs": [
    {
     "data": {
      "text/latex": [
       "$$\n",
       "\\text{CNOT = }\n",
       "\n",
       "\\begin{bmatrix}\n",
       "1 & 0 & 0 & 0  \\\\\n",
       " 0 & 1 & 0 & 0  \\\\\n",
       " 0 & 0 & 0 & 1  \\\\\n",
       " 0 & 0 & 1 & 0  \\\\\n",
       " \\end{bmatrix}\n",
       "$$"
      ],
      "text/plain": [
       "<IPython.core.display.Latex object>"
      ]
     },
     "execution_count": 4,
     "metadata": {},
     "output_type": "execute_result"
    }
   ],
   "source": [
    "# transpilamos\n",
    "t_circuit_CNOT = transpile(circuit_CNOT, backend = U_simulator)\n",
    "\n",
    "# Ejecutamos la simulación con 1000 shots \n",
    "result_CNOT = U_simulator.run(t_circuit_CNOT, shots = 1000).result()\n",
    "matrix_CNOT = result_CNOT.get_unitary()\n",
    "\n",
    "array_to_latex(matrix_CNOT, prefix=\"\\\\text{CNOT = }\\n\")"
   ]
  },
  {
   "cell_type": "markdown",
   "id": "7d48b8e4",
   "metadata": {},
   "source": [
    "<a id='sec_Notebooks_Circ_multiqubit_1.2'></a>\n",
    "### Con el control arriba"
   ]
  },
  {
   "cell_type": "code",
   "execution_count": 5,
   "id": "4b779f52",
   "metadata": {},
   "outputs": [
    {
     "name": "stderr",
     "output_type": "stream",
     "text": [
      "/home/dcb/Programs/miniconda/miniconda3/envs/qiskit_qibo_penny_2/lib/python3.11/site-packages/qiskit/visualization/circuit/matplotlib.py:266: FutureWarning: The default matplotlib drawer scheme will be changed to \"iqp\" in a following release. To silence this warning, specify the current default explicitly as style=\"clifford\", or the new default as style=\"iqp\".\n",
      "  self._style, def_font_ratio = load_style(self._style)\n"
     ]
    },
    {
     "data": {
      "image/png": "[encoded data removed]",
      "text/plain": [
       "<Figure size 221.914x200.667 with 1 Axes>"
      ]
     },
     "execution_count": 5,
     "metadata": {},
     "output_type": "execute_result"
    }
   ],
   "source": [
    "# Circuito\n",
    "circuit_CNOT_2 = QuantumCircuit(quantum_reg_2_qubits)#, classic_reg_2_bits)\n",
    "# Añadimos la CNOT\n",
    "circuit_CNOT_2.cx(0,1) #(control, target)\n",
    "circuit_CNOT_2.draw('mpl')"
   ]
  },
  {
   "cell_type": "code",
   "execution_count": 6,
   "id": "e0950e65",
   "metadata": {
    "scrolled": false
   },
   "outputs": [
    {
     "data": {
      "text/latex": [
       "$$\n",
       "\\text{CNOT = }\n",
       "\n",
       "\\begin{bmatrix}\n",
       "1 & 0 & 0 & 0  \\\\\n",
       " 0 & 0 & 0 & 1  \\\\\n",
       " 0 & 0 & 1 & 0  \\\\\n",
       " 0 & 1 & 0 & 0  \\\\\n",
       " \\end{bmatrix}\n",
       "$$"
      ],
      "text/plain": [
       "<IPython.core.display.Latex object>"
      ]
     },
     "execution_count": 6,
     "metadata": {},
     "output_type": "execute_result"
    }
   ],
   "source": [
    "# transpilamos\n",
    "t_circuit_CNOT_2 = transpile(circuit_CNOT_2, backend = U_simulator)\n",
    "\n",
    "# Ejecutamos la simulación con 1000 shots \n",
    "result_CNOT_2 = U_simulator.run(t_circuit_CNOT_2, shots = 1000).result()\n",
    "matrix_CNOT_2 = result_CNOT_2.get_unitary()\n",
    "\n",
    "array_to_latex(matrix_CNOT_2, prefix=\"\\\\text{CNOT = }\\n\")"
   ]
  },
  {
   "cell_type": "markdown",
   "id": "fbb3cd29",
   "metadata": {},
   "source": [
    "<a id='sec_Notebooks_Circ_multiqubit_1.3'></a>\n",
    "### CNOT en acción. Ejemplos"
   ]
  },
  {
   "cell_type": "markdown",
   "id": "6c683652",
   "metadata": {},
   "source": [
    "Definimos los registros"
   ]
  },
  {
   "cell_type": "code",
   "execution_count": 7,
   "id": "ae02005b",
   "metadata": {},
   "outputs": [],
   "source": [
    "# Registros\n",
    "quantum_reg_2_qubits = QuantumRegister(2) \n",
    "\n",
    "# Registros\n",
    "classic_reg_2_bits = ClassicalRegister(2) "
   ]
  },
  {
   "cell_type": "code",
   "execution_count": 8,
   "id": "3ee8521c",
   "metadata": {},
   "outputs": [
    {
     "data": {
      "image/png": "[encoded data removed]",
      "text/plain": [
       "<Figure size 472.949x284.278 with 1 Axes>"
      ]
     },
     "execution_count": 8,
     "metadata": {},
     "output_type": "execute_result"
    }
   ],
   "source": [
    "circuit_CNOT_3 = QuantumCircuit(quantum_reg_2_qubits, classic_reg_2_bits)\n",
    "\n",
    "#################################\n",
    "# Jugar a comentar y descomentar:\n",
    "circuit_CNOT_3.x(0)\n",
    "#circuit_CNOT_3.x(1)\n",
    "#################################\n",
    "\n",
    "circuit_CNOT_3.cx(0,1)\n",
    "circuit_CNOT_3.measure(quantum_reg_2_qubits, classic_reg_2_bits)\n",
    "circuit_CNOT_3.draw('mpl')"
   ]
  },
  {
   "cell_type": "code",
   "execution_count": 9,
   "id": "3427cdd2",
   "metadata": {
    "scrolled": true
   },
   "outputs": [
    {
     "data": {
      "text/plain": [
       "{'11': 1000}"
      ]
     },
     "execution_count": 9,
     "metadata": {},
     "output_type": "execute_result"
    }
   ],
   "source": [
    "# transpilamos\n",
    "t_circuit_CNOT_3 = transpile(circuit_CNOT_3, backend = simulador)\n",
    "\n",
    "# Ejecutamos la simulación con 1000 shots \n",
    "result_CNOT_3 = simulador.run(t_circuit_CNOT_3, shots = 1000).result()\n",
    "\n",
    "counts_CNOT_3 = result_CNOT_3.get_counts()\n",
    "counts_CNOT_3"
   ]
  },
  {
   "cell_type": "markdown",
   "id": "8cc10a77",
   "metadata": {},
   "source": [
    "<a id='sec_Notebooks_Circ_multiqubit_2'></a>\n",
    "## Entrelazamiento: Crear estados entrelazados con la CNOT y la $H$   "
   ]
  },
  {
   "cell_type": "markdown",
   "id": "7a99a994",
   "metadata": {},
   "source": [
    "Cuando aplicamos una puerta $H$ sobre un qúbit ponemos este qúbit en una superposisción de $| 0 \\rangle$ y $| 1 \\rangle$:\n",
    "$$\n",
    "H | 0 \\rangle = \\frac{1}{2} \\left( | 0 \\rangle + | 1 \\rangle \\right) \n",
    "$$\n",
    "\n",
    "Si ahora pasamos este estado como **controlador** de una puerta CNOT, podemos generar un estado entrelazado. Veamos"
   ]
  },
  {
   "cell_type": "code",
   "execution_count": 10,
   "id": "163a7a2b",
   "metadata": {},
   "outputs": [
    {
     "data": {
      "image/png": "[encoded data removed]",
      "text/plain": [
       "<Figure size 472.949x284.278 with 1 Axes>"
      ]
     },
     "execution_count": 10,
     "metadata": {},
     "output_type": "execute_result"
    }
   ],
   "source": [
    "circuit_CNOT_H = QuantumCircuit(quantum_reg_2_qubits, classic_reg_2_bits)\n",
    "circuit_CNOT_H.h(0)\n",
    "circuit_CNOT_H.cx(0,1)\n",
    "circuit_CNOT_H.measure(quantum_reg_2_qubits, classic_reg_2_bits)\n",
    "circuit_CNOT_H.draw('mpl')"
   ]
  },
  {
   "cell_type": "code",
   "execution_count": 11,
   "id": "94397e23",
   "metadata": {},
   "outputs": [
    {
     "data": {
      "text/plain": [
       "{'00': 518, '11': 482}"
      ]
     },
     "execution_count": 11,
     "metadata": {},
     "output_type": "execute_result"
    }
   ],
   "source": [
    "# transpilamos\n",
    "t_circuit_CNOT_H = transpile(circuit_CNOT_H, backend = simulador)\n",
    "\n",
    "# Ejecutamos la simulación con 1000 shots \n",
    "result_CNOT_H = simulador.run(t_circuit_CNOT_H, shots = 1000).result()\n",
    "counts_CNOT_H = result_CNOT_H.get_counts()\n",
    "counts_CNOT_H"
   ]
  },
  {
   "cell_type": "code",
   "execution_count": 12,
   "id": "3139fe0a",
   "metadata": {},
   "outputs": [
    {
     "data": {
      "image/png": "[encoded data removed]",
      "text/plain": [
       "<Figure size 700x500 with 1 Axes>"
      ]
     },
     "execution_count": 12,
     "metadata": {},
     "output_type": "execute_result"
    }
   ],
   "source": [
    "Fig = plot_histogram(counts_CNOT_H)\n",
    "#Fig.savefig('Fig_circuit_CNOT_H_hist')\n",
    "Fig"
   ]
  },
  {
   "cell_type": "markdown",
   "id": "b58a6ee5",
   "metadata": {},
   "source": [
    "Podemos genera más estados entrelazados:"
   ]
  },
  {
   "cell_type": "code",
   "execution_count": 13,
   "id": "e8d6e213",
   "metadata": {},
   "outputs": [
    {
     "name": "stderr",
     "output_type": "stream",
     "text": [
      "/home/dcb/Programs/miniconda/miniconda3/envs/qiskit_qibo_penny_2/lib/python3.11/site-packages/qiskit/visualization/circuit/matplotlib.py:266: FutureWarning: The default matplotlib drawer scheme will be changed to \"iqp\" in a following release. To silence this warning, specify the current default explicitly as style=\"clifford\", or the new default as style=\"iqp\".\n",
      "  self._style, def_font_ratio = load_style(self._style)\n"
     ]
    },
    {
     "data": {
      "image/png": "[encoded data removed]",
      "text/plain": [
       "<Figure size 472.949x284.278 with 1 Axes>"
      ]
     },
     "execution_count": 13,
     "metadata": {},
     "output_type": "execute_result"
    }
   ],
   "source": [
    "circuit_CNOT_H = QuantumCircuit(quantum_reg_2_qubits, classic_reg_2_bits)\n",
    "circuit_CNOT_H.h(0)\n",
    "circuit_CNOT_H.x(1)\n",
    "circuit_CNOT_H.cx(0,1)\n",
    "circuit_CNOT_H.measure(quantum_reg_2_qubits, classic_reg_2_bits)\n",
    "circuit_CNOT_H.draw('mpl')"
   ]
  },
  {
   "cell_type": "code",
   "execution_count": 14,
   "id": "7c956fe3",
   "metadata": {},
   "outputs": [
    {
     "data": {
      "text/plain": [
       "{'01': 506, '10': 494}"
      ]
     },
     "execution_count": 14,
     "metadata": {},
     "output_type": "execute_result"
    }
   ],
   "source": [
    "# transpilamos\n",
    "t_circuit_CNOT_H = transpile(circuit_CNOT_H, backend = simulador)\n",
    "\n",
    "# Ejecutamos la simulación con 1000 shots \n",
    "result_CNOT_H = simulador.run(t_circuit_CNOT_H, shots = 1000).result()\n",
    "counts_CNOT_H = result_CNOT_H.get_counts()\n",
    "counts_CNOT_H"
   ]
  },
  {
   "cell_type": "markdown",
   "id": "11904327",
   "metadata": {},
   "source": [
    "<a id='sec_Notebooks_Circ_multiqubit_3'></a>\n",
    "## Puerta Swap   "
   ]
  },
  {
   "cell_type": "code",
   "execution_count": 15,
   "id": "ceeeef1b",
   "metadata": {},
   "outputs": [
    {
     "data": {
      "image/png": "[encoded data removed]",
      "text/plain": [
       "<Figure size 472.949x284.278 with 1 Axes>"
      ]
     },
     "execution_count": 15,
     "metadata": {},
     "output_type": "execute_result"
    }
   ],
   "source": [
    "circuit_SWAP = QuantumCircuit(quantum_reg_2_qubits, classic_reg_2_bits)\n",
    "circuit_SWAP.x(1)\n",
    "circuit_SWAP.swap(0,1)\n",
    "circuit_SWAP.measure(quantum_reg_2_qubits, classic_reg_2_bits)\n",
    "circuit_SWAP.draw('mpl')"
   ]
  },
  {
   "cell_type": "code",
   "execution_count": 16,
   "id": "116171b0",
   "metadata": {},
   "outputs": [
    {
     "data": {
      "text/plain": [
       "{'01': 1000}"
      ]
     },
     "execution_count": 16,
     "metadata": {},
     "output_type": "execute_result"
    }
   ],
   "source": [
    "# transpilamos\n",
    "t_circuit_SWAP = transpile(circuit_SWAP, backend = simulador)\n",
    "\n",
    "# Ejecutamos la simulación con 1000 shots \n",
    "result_SWAP = simulador.run(t_circuit_SWAP, shots = 1000).result()\n",
    "counts_SWAP = result_SWAP.get_counts()\n",
    "counts_SWAP"
   ]
  },
  {
   "cell_type": "markdown",
   "id": "704a83ae",
   "metadata": {},
   "source": [
    "Vemos que se han invertido los estados"
   ]
  },
  {
   "cell_type": "markdown",
   "id": "e95e775b",
   "metadata": {},
   "source": [
    "<a id='sec_Notebooks_Circ_multiqubit_4'></a>\n",
    "## Puerta CSWAP   "
   ]
  },
  {
   "cell_type": "markdown",
   "id": "625f38c9",
   "metadata": {},
   "source": [
    "En este ejemplo también vemos que no es necesario que haya los mismos qúbits en registro cuántico que en el clásico. Además, si queremos podemos medir solo unos cuantos qúbit, no todo"
   ]
  },
  {
   "cell_type": "code",
   "execution_count": 17,
   "id": "22236597",
   "metadata": {},
   "outputs": [],
   "source": [
    "# Registros\n",
    "quantum_reg_3_qubits = QuantumRegister(3) \n",
    "\n",
    "# Registros\n",
    "classic_reg_2_bits = ClassicalRegister(2) "
   ]
  },
  {
   "cell_type": "code",
   "execution_count": 18,
   "id": "ba2df7c4",
   "metadata": {},
   "outputs": [
    {
     "data": {
      "image/png": "[encoded data removed]",
      "text/plain": [
       "<Figure size 491.18x367.889 with 1 Axes>"
      ]
     },
     "execution_count": 18,
     "metadata": {},
     "output_type": "execute_result"
    }
   ],
   "source": [
    "circuit_CSWAP = QuantumCircuit(quantum_reg_3_qubits, classic_reg_2_bits)\n",
    "\n",
    "#################################\n",
    "# Jugar a comentar y descomentar:\n",
    "circuit_CSWAP.x(0)\n",
    "#################################\n",
    "\n",
    "circuit_CSWAP.x(1)\n",
    "circuit_CSWAP.cswap(0,1,2)\n",
    "circuit_CSWAP.measure(quantum_reg_3_qubits[1:], classic_reg_2_bits)\n",
    "circuit_CSWAP.draw('mpl')"
   ]
  },
  {
   "cell_type": "code",
   "execution_count": 19,
   "id": "7a539484",
   "metadata": {},
   "outputs": [
    {
     "data": {
      "text/plain": [
       "{'10': 1000}"
      ]
     },
     "execution_count": 19,
     "metadata": {},
     "output_type": "execute_result"
    }
   ],
   "source": [
    "# transpilamos\n",
    "t_circuit_CSWAP = transpile(circuit_CSWAP, backend = simulador)\n",
    "\n",
    "# Ejecutamos la simulación con 1000 shots \n",
    "result_CSWAP = simulador.run(t_circuit_CSWAP, shots = 1000).result()\n",
    "counts_CSWAP = result_CSWAP.get_counts()\n",
    "counts_CSWAP"
   ]
  },
  {
   "cell_type": "markdown",
   "id": "25ba60cf",
   "metadata": {},
   "source": [
    "<a id='sec_Notebooks_Circ_multiqubit_5'></a>\n",
    "## CCNOT o Toffoli   "
   ]
  },
  {
   "cell_type": "code",
   "execution_count": 20,
   "id": "7abe752c",
   "metadata": {},
   "outputs": [],
   "source": [
    "# Registros\n",
    "quantum_reg_3_qubits = QuantumRegister(3) \n",
    "\n",
    "# Registros\n",
    "classic_reg_3_bits = ClassicalRegister(3) "
   ]
  },
  {
   "cell_type": "code",
   "execution_count": 21,
   "id": "4be8daf5",
   "metadata": {
    "scrolled": true
   },
   "outputs": [
    {
     "name": "stderr",
     "output_type": "stream",
     "text": [
      "/tmp/ipykernel_1550307/2537261642.py:9: DeprecationWarning: The method ``qiskit.circuit.quantumcircuit.QuantumCircuit.toffoli()`` is deprecated as of qiskit 0.45.0. It will be removed no earlier than 3 months after the release date. Use QuantumCircuit.ccx as direct replacement.\n",
      "  circuit_tof.toffoli(0,1,2)\n"
     ]
    },
    {
     "data": {
      "image/png": "[encoded data removed]",
      "text/plain": [
       "<Figure size 575.195x367.889 with 1 Axes>"
      ]
     },
     "execution_count": 21,
     "metadata": {},
     "output_type": "execute_result"
    }
   ],
   "source": [
    "circuit_tof = QuantumCircuit(quantum_reg_3_qubits, classic_reg_3_bits)\n",
    "\n",
    "#################################\n",
    "# Jugar a comentar y descomentar una o varias lias:\n",
    "circuit_tof.x(0)\n",
    "circuit_tof.x(1)\n",
    "#################################\n",
    "\n",
    "circuit_tof.toffoli(0,1,2)\n",
    "circuit_tof.measure(quantum_reg_3_qubits, classic_reg_3_bits)\n",
    "circuit_tof.draw('mpl')"
   ]
  },
  {
   "cell_type": "code",
   "execution_count": 22,
   "id": "952a5b26",
   "metadata": {
    "scrolled": true
   },
   "outputs": [
    {
     "data": {
      "text/plain": [
       "{'111': 1000}"
      ]
     },
     "execution_count": 22,
     "metadata": {},
     "output_type": "execute_result"
    }
   ],
   "source": [
    "# transpilamos\n",
    "t_circuit_tof = transpile(circuit_tof, backend = simulador)\n",
    "\n",
    "# Ejecutamos la simulación con 1000 shots \n",
    "result_tof = simulador.run(t_circuit_tof, shots = 1000).result()\n",
    "counts_tof = result_tof.get_counts()\n",
    "counts_tof"
   ]
  },
  {
   "cell_type": "markdown",
   "id": "d325715f",
   "metadata": {},
   "source": [
    "<a id='sec_Notebooks_Circ_multiqubit_6'></a>\n",
    "## Puerta MCX (multicontrolada X)  "
   ]
  },
  {
   "cell_type": "code",
   "execution_count": 23,
   "id": "e74e5bb4",
   "metadata": {},
   "outputs": [],
   "source": [
    "# Registros\n",
    "control_reg = QuantumRegister(4) \n",
    "target_qubit = QuantumRegister(1)\n",
    "\n",
    "# Registros\n",
    "classic_reg_1_bits = ClassicalRegister(1) "
   ]
  },
  {
   "cell_type": "code",
   "execution_count": 24,
   "id": "6393aaed",
   "metadata": {},
   "outputs": [
    {
     "data": {
      "image/png": "[encoded data removed]",
      "text/plain": [
       "<Figure size 574.993x535.111 with 1 Axes>"
      ]
     },
     "execution_count": 24,
     "metadata": {},
     "output_type": "execute_result"
    }
   ],
   "source": [
    "circuit_mcx = QuantumCircuit(control_reg, target_qubit, classic_reg_1_bits)\n",
    "\n",
    "#################################\n",
    "# Jugar a comentar y descomentar una o varias lias:\n",
    "# Inicializacion\n",
    "\n",
    "#circuit_mcx.x(control_reg[0])\n",
    "circuit_mcx.x(control_reg[1])\n",
    "#circuit_mcx.x(control_reg[2])\n",
    "circuit_mcx.x(control_reg[3])\n",
    "#################################\n",
    "\n",
    "\n",
    "circuit_mcx.barrier()\n",
    "\n",
    "\n",
    "#################################\n",
    "# Jugar a comentar y descomentar una o varias lias:\n",
    "# Respetar que en un mismo qubit debe de haber o \n",
    "# ninguna X o una antes y otra despues de la mcx\n",
    "\n",
    "circuit_mcx.x(control_reg[0])\n",
    "#circuit_mcx.x(control_reg[1])\n",
    "circuit_mcx.x(control_reg[2])\n",
    "#circuit_mcx.x(control_reg[3])\n",
    "#################################\n",
    "\n",
    "\n",
    "circuit_mcx.mcx(control_reg, target_qubit)\n",
    "\n",
    "\n",
    "#################################\n",
    "# Jugar a comentar y descomentar una o varias lias:\n",
    "# Respetar que en un mismo qubit debe de haber o \n",
    "# ninguna X o una antes y otra despues de la mcx\n",
    "\n",
    "circuit_mcx.x(control_reg[0])\n",
    "#circuit_mcx.x(control_reg[1])\n",
    "circuit_mcx.x(control_reg[2])\n",
    "#circuit_mcx.x(control_reg[3])\n",
    "#################################\n",
    "\n",
    "circuit_mcx.measure(target_qubit, classic_reg_1_bits)\n",
    "circuit_mcx.draw('mpl')"
   ]
  },
  {
   "cell_type": "code",
   "execution_count": 25,
   "id": "4a4e03d2",
   "metadata": {},
   "outputs": [
    {
     "data": {
      "text/plain": [
       "{'1': 1000}"
      ]
     },
     "execution_count": 25,
     "metadata": {},
     "output_type": "execute_result"
    }
   ],
   "source": [
    "# transpilamos\n",
    "t_circuit_mcx = transpile(circuit_mcx, backend = simulador)\n",
    "\n",
    "# Ejecutamos la simulación con 1000 shots \n",
    "result_mcx = simulador.run(t_circuit_mcx, shots = 1000).result()\n",
    "counts_mcx = result_mcx.get_counts()\n",
    "counts_mcx"
   ]
  },
  {
   "cell_type": "code",
   "execution_count": 26,
   "id": "3f23b5ce",
   "metadata": {},
   "outputs": [
    {
     "data": {
      "text/html": [
       "<h3>Version Information</h3><table><tr><th>Software</th><th>Version</th></tr><tr><td><code>qiskit</code></td><td>0.45.2</td></tr><tr><td><code>qiskit_ibm_provider</code></td><td>0.8.0</td></tr><tr><td><code>qiskit_aer</code></td><td>0.13.2</td></tr><tr><td><code>qiskit_ibm_runtime</code></td><td>0.20.0</td></tr><tr><th colspan='2'>System information</th></tr><tr><td>Python version</td><td>3.11.7</td></tr><tr><td>Python compiler</td><td>GCC 11.2.0</td></tr><tr><td>Python build</td><td>main, Dec 15 2023 18:12:31</td></tr><tr><td>OS</td><td>Linux</td></tr><tr><td>CPUs</td><td>12</td></tr><tr><td>Memory (Gb)</td><td>62.61029815673828</td></tr><tr><td colspan='2'>Fri Jul 19 16:23:15 2024 CEST</td></tr></table>"
      ],
      "text/plain": [
       "<IPython.core.display.HTML object>"
      ]
     },
     "metadata": {},
     "output_type": "display_data"
    }
   ],
   "source": [
    "import qiskit.tools.jupyter\n",
    "%qiskit_version_table"
   ]
  }
 ],
 "metadata": {
  "kernelspec": {
   "display_name": "Python 3 (ipykernel)",
   "language": "python",
   "name": "python3"
  },
  "language_info": {
   "codemirror_mode": {
    "name": "ipython",
    "version": 3
   },
   "file_extension": ".py",
   "mimetype": "text/x-python",
   "name": "python",
   "nbconvert_exporter": "python",
   "pygments_lexer": "ipython3",
   "version": "3.11.6"
  },
  "nbTranslate": {
   "displayLangs": [
    "*"
   ],
   "hotkey": "alt-t",
   "langInMainMenu": true,
   "sourceLang": "es",
   "targetLang": "en",
   "useGoogleTranslate": true
  },
  "toc": {
   "base_numbering": 1,
   "nav_menu": {},
   "number_sections": false,
   "sideBar": true,
   "skip_h1_title": true,
   "title_cell": "Table of Contents",
   "title_sidebar": "Contents",
   "toc_cell": false,
   "toc_position": {
    "height": "calc(100% - 180px)",
    "left": "10px",
    "top": "150px",
    "width": "303.639px"
   },
   "toc_section_display": true,
   "toc_window_display": false
  }
 },
 "nbformat": 4,
 "nbformat_minor": 5
}
