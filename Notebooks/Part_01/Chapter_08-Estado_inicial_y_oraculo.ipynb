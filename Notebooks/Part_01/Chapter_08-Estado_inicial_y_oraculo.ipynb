{
 "cells": [
  {
   "cell_type": "markdown",
   "id": "671e9859",
   "metadata": {},
   "source": [
    "<a id='sec_Notebooks_oraculos'></a> \n",
    "# Oráculos (funciones digitales)\n"
   ]
  },
  {
   "cell_type": "markdown",
   "id": "a0ddddb4",
   "metadata": {},
   "source": [
    "- **[1 - Construcción de funciones binarias. Los min-términos](#sec_Notebooks_oraculos_1)**\n",
    "- **[2 - Función binaria lineal](#sec_Notebooks_oraculos_2)**"
   ]
  },
  {
   "cell_type": "code",
   "execution_count": 1,
   "id": "d8f371db",
   "metadata": {},
   "outputs": [
    {
     "name": "stdout",
     "output_type": "stream",
     "text": [
      "NOT in colab\n"
     ]
    }
   ],
   "source": [
    "# No olvidar que en \"Google colab\" hay que instalar qiskit\n",
    "\n",
    "########################\n",
    "# Instala versión 0.45.2\n",
    "########################\n",
    "# Importante, poner qiskit-aer en la misma linea de \"pip install\" para que coja la versión adecuada\n",
    "try:\n",
    "    import google.colab\n",
    "    print(\"In colab, let's install things...\")\n",
    "    #\n",
    "    !pip install qiskit[visualization]==0.45.2 qiskit-aer qiskit-ibm-runtime ipywidgets\n",
    "except ImportError:\n",
    "    print(\"NOT in colab\")"
   ]
  },
  {
   "cell_type": "code",
   "execution_count": 2,
   "id": "d70beec7",
   "metadata": {},
   "outputs": [],
   "source": [
    "from qiskit import QuantumRegister, QuantumCircuit, ClassicalRegister\n",
    "from qiskit import transpile\n",
    "from qiskit.circuit.library import MCXGate\n",
    "import numpy as np\n",
    "from qiskit_aer import AerSimulator"
   ]
  },
  {
   "cell_type": "code",
   "execution_count": 3,
   "id": "7b2e5c4e",
   "metadata": {},
   "outputs": [],
   "source": [
    "# Importamos el simulador. Con \"method\" le especificamos el método de simulación\n",
    "simulador = AerSimulator(method = 'statevector')"
   ]
  },
  {
   "cell_type": "markdown",
   "id": "d84021dc",
   "metadata": {},
   "source": [
    "<a id='sec_Notebooks_oraculos_1'></a>\n",
    "##  Construcción de funciones binarias. Los min-términos "
   ]
  },
  {
   "cell_type": "markdown",
   "id": "61697ee2",
   "metadata": {},
   "source": [
    "Consideremos la siguiente tabla de verdad para una función $f: \\{0, 1\\}^3 \\rightarrow \\{0, 1\\}$ concreta.\n",
    "<br>\n",
    "\n",
    "|$$x_2$$|$$x_1$$|$$x_0$$|$$f(x)$$|\n",
    "|---|---|---|---|\n",
    "|0|0|0|0|\n",
    "|0|0|1|1|\n",
    "|0|1|0|0|\n",
    "|0|1|1|0|\n",
    "|1|0|0|0|\n",
    "|1|0|1|1|\n",
    "|1|1|0|0|\n",
    "|1|1|1|1|"
   ]
  },
  {
   "cell_type": "markdown",
   "id": "996f9fd0",
   "metadata": {},
   "source": [
    "La idea es considerar exclusivamente los términos que tienen como salida la variable 1, que denominaremos <b>min-términos</b>. \n",
    "\n",
    "Cada min-término llevará asociada una puerta condicionada diferente. Su composición define la función $f$\n",
    "\n",
    "Para el caso de la tabla de verdad anterior, el circuito correspondiente vendrá dado por:"
   ]
  },
  {
   "cell_type": "code",
   "execution_count": 4,
   "id": "be87b5d6",
   "metadata": {},
   "outputs": [
    {
     "name": "stderr",
     "output_type": "stream",
     "text": [
      "/home/david/Programs/miniconda/miniconda3/envs/qiskit_env_0.45.1/lib/python3.11/site-packages/qiskit/visualization/circuit/matplotlib.py:266: FutureWarning: The default matplotlib drawer scheme will be changed to \"iqp\" in a following release. To silence this warning, specify the current default explicitly as style=\"clifford\", or the new default as style=\"iqp\".\n",
      "  self._style, def_font_ratio = load_style(self._style)\n"
     ]
    },
    {
     "data": {
      "image/png": "[encoded data removed]",
      "text/plain": [
       "<Figure size 389.338x451.5 with 1 Axes>"
      ]
     },
     "execution_count": 4,
     "metadata": {},
     "output_type": "execute_result"
    }
   ],
   "source": [
    "qr = QuantumRegister(4)\n",
    "cr = ClassicalRegister(4)\n",
    "\n",
    "qc = QuantumCircuit(qr, cr, name='q')\n",
    "\n",
    "qc.append(MCXGate(3, ctrl_state=1), qr)\n",
    "qc.append(MCXGate(3, ctrl_state=5), qr)\n",
    "qc.append(MCXGate(3, ctrl_state=7), qr)\n",
    "\n",
    "qc.draw(output='mpl')"
   ]
  },
  {
   "cell_type": "markdown",
   "id": "d5b9203f",
   "metadata": {},
   "source": [
    "donde hemos hecho uso de la puerta multicontrolada [MCXGate](https://qiskit.org/documentation/stubs/qiskit.circuit.library.MCXGate.html?highlight=mcxgate#qiskit.circuit.library.MCXGate) de qiskit"
   ]
  },
  {
   "cell_type": "markdown",
   "id": "604ee3e1",
   "metadata": {},
   "source": [
    "Vamos a implementar una función $f:\\{0,1\\}^n\\to \\{0,1\\}^m$, con $n=m=4$, dada por la siguiente *tabla de verdad* \n",
    "<br>\n",
    "\n",
    "|$$x$$|$$f(x)$$|$$x$$|$$f(x)$$|\n",
    "|---|---|---|---|\n",
    "|0000|1111|1000|0101|\n",
    "|0001|1011|1001|0100|\n",
    "|0010|0011|1010|0000|\n",
    "|0011|1000|1011|1110|\n",
    "|0100|0101|1100|1111|\n",
    "|0101|0100|1101|1011|\n",
    "|0110|0000|1110|0011|\n",
    "|0111|1110|1111|1000|\n",
    "\n",
    "<br>"
   ]
  },
  {
   "cell_type": "markdown",
   "id": "19f108ea",
   "metadata": {},
   "source": [
    "<div class=\"alert alert-block alert-success\">\n",
    "<p style=\"color: DarkGreen;\">\n",
    "<b>Ejercicio</b>: \n",
    "<br>        \n",
    "Completa la el código que genera un circuito que implementa la siguiente función digital\n",
    "<br> \n",
    "</p>\n",
    "<details><summary> >> <i>Solución</i> </summary>\n",
    "    if output_bit =='1':\n",
    "        qc.append(MCXGate(len(input_str), ctrl_state=ctrl_state),qr_input[:]+[qr_output[j]])\n",
    "</details>\n",
    "</div>"
   ]
  },
  {
   "cell_type": "code",
   "execution_count": 13,
   "id": "26ef1f45",
   "metadata": {
    "tags": [
     "skip_execution"
    ]
   },
   "outputs": [],
   "source": [
    "def oracle(f_outputs): \n",
    "    \n",
    "    two_power_n = len(f_outputs)   # 2**n\n",
    "    \n",
    "    n = int(np.log2(two_power_n))  # dimension del registro de entrada |x> \n",
    "    m = len(f_outputs[0])          # dimension del registro de salida |f(x)>\n",
    "    \n",
    "    assert two_power_n == 2**n\n",
    "    \n",
    "    # generamos todos los posibles inputs en binario, completando con ceros hasta tener strings de n bits\n",
    "    inputs = [format(i, 'b').zfill(n) for i in range(two_power_n)]\n",
    "    print(inputs)\n",
    "    \n",
    "    qr_input = QuantumRegister(n, name='input')\n",
    "    qr_output = QuantumRegister(m, name='output')\n",
    "    qc = QuantumCircuit(qr_input, qr_output)\n",
    "\n",
    "\n",
    "    # Hacemos un bucle sobre los inputs\n",
    "    #for i,input_str in enumerate(inputs):\n",
    "    for i in range(len(inputs)):\n",
    "        input_str = inputs[i]\n",
    "        ctrl_state= int(input_str[::],2)\n",
    "        print(\"Input : \", i, input_str ,ctrl_state)\n",
    "        \n",
    "        # Para cada input, i, hacemos un bucle sobre cada bit del output     \n",
    "        #for j,output_bit in enumerate(f_outputs[i]):\n",
    "        for j in range(len(f_outputs[i])):\n",
    "            output_bit = f_outputs[i][j]\n",
    "            print(j, output_bit)\n",
    "            \n",
    "            pass ## Elimina esto al añadir la solución\n",
    "###\n",
    "#\n",
    "#        Tu solución aquí\n",
    "#\n",
    "#        Pista: Busca los 1 en la salida y aplica una puerta controlada por el estado de entrada que aplique este uno\n",
    "#\n",
    "####\n",
    "    return qc"
   ]
  },
  {
   "cell_type": "code",
   "execution_count": 14,
   "id": "123e69b3",
   "metadata": {
    "tags": [
     "skip_execution"
    ]
   },
   "outputs": [
    {
     "name": "stdout",
     "output_type": "stream",
     "text": [
      "['0000', '0001', '0010', '0011', '0100', '0101', '0110', '0111', '1000', '1001', '1010', '1011', '1100', '1101', '1110', '1111']\n",
      "Input :  0 0000 0\n",
      "0 1\n",
      "1 1\n",
      "2 1\n",
      "3 1\n",
      "Input :  1 0001 1\n",
      "0 1\n",
      "1 0\n",
      "2 1\n",
      "3 1\n",
      "Input :  2 0010 2\n",
      "0 0\n",
      "1 0\n",
      "2 1\n",
      "3 1\n",
      "Input :  3 0011 3\n",
      "0 1\n",
      "1 0\n",
      "2 0\n",
      "3 0\n",
      "Input :  4 0100 4\n",
      "0 0\n",
      "1 1\n",
      "2 0\n",
      "3 1\n",
      "Input :  5 0101 5\n",
      "0 0\n",
      "1 1\n",
      "2 0\n",
      "3 0\n",
      "Input :  6 0110 6\n",
      "0 0\n",
      "1 0\n",
      "2 0\n",
      "3 0\n",
      "Input :  7 0111 7\n",
      "0 1\n",
      "1 1\n",
      "2 1\n",
      "3 0\n",
      "Input :  8 1000 8\n",
      "0 0\n",
      "1 1\n",
      "2 0\n",
      "3 1\n",
      "Input :  9 1001 9\n",
      "0 0\n",
      "1 1\n",
      "2 0\n",
      "3 0\n",
      "Input :  10 1010 10\n",
      "0 0\n",
      "1 0\n",
      "2 0\n",
      "3 0\n",
      "Input :  11 1011 11\n",
      "0 1\n",
      "1 1\n",
      "2 1\n",
      "3 0\n",
      "Input :  12 1100 12\n",
      "0 1\n",
      "1 1\n",
      "2 1\n",
      "3 1\n",
      "Input :  13 1101 13\n",
      "0 1\n",
      "1 0\n",
      "2 1\n",
      "3 1\n",
      "Input :  14 1110 14\n",
      "0 0\n",
      "1 0\n",
      "2 1\n",
      "3 1\n",
      "Input :  15 1111 15\n",
      "0 1\n",
      "1 0\n",
      "2 0\n",
      "3 0\n"
     ]
    },
    {
     "data": {
      "text/html": [
       "<pre style=\"word-wrap: normal;white-space: pre;background: #fff0;line-height: 1.1;font-family: &quot;Courier New&quot;,Courier,monospace\">                                                                           »\n",
       " input_0: ──o────o────o────o────■────■────■────o────o────■────o────o────■──»\n",
       "            │    │    │    │    │    │    │    │    │    │    │    │    │  »\n",
       " input_1: ──o────o────o────o────o────o────o────■────■────■────o────o────o──»\n",
       "            │    │    │    │    │    │    │    │    │    │    │    │    │  »\n",
       " input_2: ──o────o────o────o────o────o────o────o────o────o────■────■────■──»\n",
       "            │    │    │    │    │    │    │    │    │    │    │    │    │  »\n",
       " input_3: ──o────o────o────o────o────o────o────o────o────o────o────o────o──»\n",
       "          ┌─┴─┐  │    │    │  ┌─┴─┐  │    │    │    │  ┌─┴─┐  │    │    │  »\n",
       "output_0: ┤ X ├──┼────┼────┼──┤ X ├──┼────┼────┼────┼──┤ X ├──┼────┼────┼──»\n",
       "          └───┘┌─┴─┐  │    │  └───┘  │    │    │    │  └───┘┌─┴─┐  │  ┌─┴─┐»\n",
       "output_1: ─────┤ X ├──┼────┼─────────┼────┼────┼────┼───────┤ X ├──┼──┤ X ├»\n",
       "               └───┘┌─┴─┐  │       ┌─┴─┐  │  ┌─┴─┐  │       └───┘  │  └───┘»\n",
       "output_2: ──────────┤ X ├──┼───────┤ X ├──┼──┤ X ├──┼──────────────┼───────»\n",
       "                    └───┘┌─┴─┐     └───┘┌─┴─┐└───┘┌─┴─┐          ┌─┴─┐     »\n",
       "output_3: ───────────────┤ X ├──────────┤ X ├─────┤ X ├──────────┤ X ├─────»\n",
       "                         └───┘          └───┘     └───┘          └───┘     »\n",
       "«                                                                           »\n",
       "« input_0: ──■────■────■────o────o────■────■────■────■────o────o────o────o──»\n",
       "«            │    │    │    │    │    │    │    │    │    │    │    │    │  »\n",
       "« input_1: ──■────■────■────o────o────o────■────■────■────o────o────o────o──»\n",
       "«            │    │    │    │    │    │    │    │    │    │    │    │    │  »\n",
       "« input_2: ──■────■────■────o────o────o────o────o────o────■────■────■────■──»\n",
       "«            │    │    │    │    │    │    │    │    │    │    │    │    │  »\n",
       "« input_3: ──o────o────o────■────■────■────■────■────■────■────■────■────■──»\n",
       "«          ┌─┴─┐  │    │    │    │    │  ┌─┴─┐  │    │  ┌─┴─┐  │    │    │  »\n",
       "«output_0: ┤ X ├──┼────┼────┼────┼────┼──┤ X ├──┼────┼──┤ X ├──┼────┼────┼──»\n",
       "«          └───┘┌─┴─┐  │  ┌─┴─┐  │  ┌─┴─┐└───┘┌─┴─┐  │  └───┘┌─┴─┐  │    │  »\n",
       "«output_1: ─────┤ X ├──┼──┤ X ├──┼──┤ X ├─────┤ X ├──┼───────┤ X ├──┼────┼──»\n",
       "«               └───┘┌─┴─┐└───┘  │  └───┘     └───┘┌─┴─┐     └───┘┌─┴─┐  │  »\n",
       "«output_2: ──────────┤ X ├───────┼─────────────────┤ X ├──────────┤ X ├──┼──»\n",
       "«                    └───┘     ┌─┴─┐               └───┘          └───┘┌─┴─┐»\n",
       "«output_3: ────────────────────┤ X ├───────────────────────────────────┤ X ├»\n",
       "«                              └───┘                                   └───┘»\n",
       "«                                        \n",
       "« input_0: ──■────■────■────o────o────■──\n",
       "«            │    │    │    │    │    │  \n",
       "« input_1: ──o────o────o────■────■────■──\n",
       "«            │    │    │    │    │    │  \n",
       "« input_2: ──■────■────■────■────■────■──\n",
       "«            │    │    │    │    │    │  \n",
       "« input_3: ──■────■────■────■────■────■──\n",
       "«          ┌─┴─┐  │    │    │    │  ┌─┴─┐\n",
       "«output_0: ┤ X ├──┼────┼────┼────┼──┤ X ├\n",
       "«          └───┘  │    │    │    │  └───┘\n",
       "«output_1: ───────┼────┼────┼────┼───────\n",
       "«               ┌─┴─┐  │  ┌─┴─┐  │       \n",
       "«output_2: ─────┤ X ├──┼──┤ X ├──┼───────\n",
       "«               └───┘┌─┴─┐└───┘┌─┴─┐     \n",
       "«output_3: ──────────┤ X ├─────┤ X ├─────\n",
       "«                    └───┘     └───┘     </pre>"
      ],
      "text/plain": [
       "                                                                           »\n",
       " input_0: ──o────o────o────o────■────■────■────o────o────■────o────o────■──»\n",
       "            │    │    │    │    │    │    │    │    │    │    │    │    │  »\n",
       " input_1: ──o────o────o────o────o────o────o────■────■────■────o────o────o──»\n",
       "            │    │    │    │    │    │    │    │    │    │    │    │    │  »\n",
       " input_2: ──o────o────o────o────o────o────o────o────o────o────■────■────■──»\n",
       "            │    │    │    │    │    │    │    │    │    │    │    │    │  »\n",
       " input_3: ──o────o────o────o────o────o────o────o────o────o────o────o────o──»\n",
       "          ┌─┴─┐  │    │    │  ┌─┴─┐  │    │    │    │  ┌─┴─┐  │    │    │  »\n",
       "output_0: ┤ X ├──┼────┼────┼──┤ X ├──┼────┼────┼────┼──┤ X ├──┼────┼────┼──»\n",
       "          └───┘┌─┴─┐  │    │  └───┘  │    │    │    │  └───┘┌─┴─┐  │  ┌─┴─┐»\n",
       "output_1: ─────┤ X ├──┼────┼─────────┼────┼────┼────┼───────┤ X ├──┼──┤ X ├»\n",
       "               └───┘┌─┴─┐  │       ┌─┴─┐  │  ┌─┴─┐  │       └───┘  │  └───┘»\n",
       "output_2: ──────────┤ X ├──┼───────┤ X ├──┼──┤ X ├──┼──────────────┼───────»\n",
       "                    └───┘┌─┴─┐     └───┘┌─┴─┐└───┘┌─┴─┐          ┌─┴─┐     »\n",
       "output_3: ───────────────┤ X ├──────────┤ X ├─────┤ X ├──────────┤ X ├─────»\n",
       "                         └───┘          └───┘     └───┘          └───┘     »\n",
       "«                                                                           »\n",
       "« input_0: ──■────■────■────o────o────■────■────■────■────o────o────o────o──»\n",
       "«            │    │    │    │    │    │    │    │    │    │    │    │    │  »\n",
       "« input_1: ──■────■────■────o────o────o────■────■────■────o────o────o────o──»\n",
       "«            │    │    │    │    │    │    │    │    │    │    │    │    │  »\n",
       "« input_2: ──■────■────■────o────o────o────o────o────o────■────■────■────■──»\n",
       "«            │    │    │    │    │    │    │    │    │    │    │    │    │  »\n",
       "« input_3: ──o────o────o────■────■────■────■────■────■────■────■────■────■──»\n",
       "«          ┌─┴─┐  │    │    │    │    │  ┌─┴─┐  │    │  ┌─┴─┐  │    │    │  »\n",
       "«output_0: ┤ X ├──┼────┼────┼────┼────┼──┤ X ├──┼────┼──┤ X ├──┼────┼────┼──»\n",
       "«          └───┘┌─┴─┐  │  ┌─┴─┐  │  ┌─┴─┐└───┘┌─┴─┐  │  └───┘┌─┴─┐  │    │  »\n",
       "«output_1: ─────┤ X ├──┼──┤ X ├──┼──┤ X ├─────┤ X ├──┼───────┤ X ├──┼────┼──»\n",
       "«               └───┘┌─┴─┐└───┘  │  └───┘     └───┘┌─┴─┐     └───┘┌─┴─┐  │  »\n",
       "«output_2: ──────────┤ X ├───────┼─────────────────┤ X ├──────────┤ X ├──┼──»\n",
       "«                    └───┘     ┌─┴─┐               └───┘          └───┘┌─┴─┐»\n",
       "«output_3: ────────────────────┤ X ├───────────────────────────────────┤ X ├»\n",
       "«                              └───┘                                   └───┘»\n",
       "«                                        \n",
       "« input_0: ──■────■────■────o────o────■──\n",
       "«            │    │    │    │    │    │  \n",
       "« input_1: ──o────o────o────■────■────■──\n",
       "«            │    │    │    │    │    │  \n",
       "« input_2: ──■────■────■────■────■────■──\n",
       "«            │    │    │    │    │    │  \n",
       "« input_3: ──■────■────■────■────■────■──\n",
       "«          ┌─┴─┐  │    │    │    │  ┌─┴─┐\n",
       "«output_0: ┤ X ├──┼────┼────┼────┼──┤ X ├\n",
       "«          └───┘  │    │    │    │  └───┘\n",
       "«output_1: ───────┼────┼────┼────┼───────\n",
       "«               ┌─┴─┐  │  ┌─┴─┐  │       \n",
       "«output_2: ─────┤ X ├──┼──┤ X ├──┼───────\n",
       "«               └───┘┌─┴─┐└───┘┌─┴─┐     \n",
       "«output_3: ──────────┤ X ├─────┤ X ├─────\n",
       "«                    └───┘     └───┘     "
      ]
     },
     "execution_count": 14,
     "metadata": {},
     "output_type": "execute_result"
    }
   ],
   "source": [
    "f_outputs = ['1111', '1011', '0011', '1000', '0101', '0100', \n",
    "               '0000', '1110', '0101', '0100', '0000', '1110', \n",
    "               '1111', '1011', '0011', '1000']\n",
    "\n",
    "# f_outputs= ['000', '001', '010', '011', '100', '101', '110', '111']\n",
    "    \n",
    "   \n",
    "oracle(f_outputs).draw()"
   ]
  },
  {
   "cell_type": "markdown",
   "id": "75e02211",
   "metadata": {},
   "source": [
    "<div class=\"alert alert-block alert-success\">\n",
    "<p style=\"color: DarkGreen;\">\n",
    "<b>Ejercicio</b>: \n",
    "<br>        \n",
    "Escribe una función $f:S^n\\to S$  que  produzca aleatoriamente $f(x) = \\pm 1$ de forma <i>equilibrada</i> (es decir, tantos $f(x)= +1$ como $f(x)= -1$). \n",
    "<br> \n",
    "</p>\n",
    "<details><summary> >> <i>Solución</i> </summary>\n",
    "\n",
    "Ver por ejemplo la solución del qiskit textbook:https://qiskit.org/textbook/ch-algorithms/deutsch-jozsa.html   sección 4.4 \n",
    "    \n",
    "</details>\n",
    "</div>\n"
   ]
  },
  {
   "cell_type": "markdown",
   "id": "fe996846",
   "metadata": {},
   "source": [
    "<a id='sec_Notebooks_oraculos_2'></a>\n",
    "## Función binaria lineal\n",
    " "
   ]
  },
  {
   "cell_type": "markdown",
   "id": "02795e77",
   "metadata": {},
   "source": [
    "Dados dos n-tuplas binarias $x=(x_{n-1},\\ldots,x_0)$ y $a=(a_{n-1},\\ldots,a_0)$ definimos la **función lineal**\n",
    "<br>\n",
    "        \n",
    "\\begin{equation}\n",
    "f(x;a) = a \\cdot x = a_{n-1} x_{n-1} \\oplus a_{n-2} x_{n-2} \\oplus \\cdots \\oplus a_{0} x_{0}\\; ,\n",
    "\\end{equation}\n",
    "\n",
    "<br>\n",
    "donde  $\\oplus$ es la suma módulo 2."
   ]
  },
  {
   "cell_type": "markdown",
   "id": "47240ea3",
   "metadata": {},
   "source": [
    "Por ejemplo, el circuito que implementa esta función cuando $a=11010$ es el siguiente\n",
    "\n",
    "<br>\n",
    "<br>\n",
    "\n",
    "<figure><center>\n",
    "<img src=\"Figuras/Fig_InitialOracle_linear_function.png\" align=center alt=\"\" width='400px'/>\n",
    "</center></figure>"
   ]
  },
  {
   "cell_type": "markdown",
   "id": "b59a1337",
   "metadata": {},
   "source": [
    "<div class=\"alert alert-block alert-success\">\n",
    "<p style=\"color: DarkGreen;\">\n",
    "<b>Ejercicio</b>: \n",
    "<br>        \n",
    "Completa el siguiente código que genera el circuito asociado a la función binaria lineal $f(x;a)$. \n",
    "<br> \n",
    "</p>\n",
    "<details><summary> >> <i>Solución</i> </summary>\n",
    "\n",
    "    # for i, aq in enumerate(reversed(a)):\n",
    "    for i in range(len(a)):\n",
    "        aq = a[len(a)-1 -i]    \n",
    "        if aq == '1':\n",
    "             qc.cx(qr_in[i],qr_out) \n",
    "    \n",
    "</details>\n",
    "</div>"
   ]
  },
  {
   "cell_type": "code",
   "execution_count": 45,
   "id": "73ccae06",
   "metadata": {
    "tags": [
     "skip_execution"
    ]
   },
   "outputs": [],
   "source": [
    "def linear_circuit(x,a):\n",
    "       \n",
    "    assert(len(x)==len(a))\n",
    "\n",
    "    # Inicialización de los registros\n",
    "    qr_in = QuantumRegister(len(a), name='qr_in')\n",
    "    qr_out = QuantumRegister(1, name='qr_out')\n",
    "    cr = ClassicalRegister(1, name='cr')  \n",
    "    qc = QuantumCircuit(qr_in, qr_out, cr, name='q_linear')\n",
    "    \n",
    "    'inicializamo el estado x '\n",
    "    # Recorremos la cadena x y vamos aplicando puertas X donde haya un 1 para inicializar el circuito\n",
    "    #for i, xq in enumerate(reversed(x)):  # ojo con la ordenación de qiskit, por eso está reversed()\n",
    "    for i in range(len(x)):\n",
    "        xq = x[len(x)-1 -i] # Recorremos x al reves porque la ordenación de qiskit es al reves      \n",
    "        print(i, xq)\n",
    "        if xq == '1':\n",
    "             qc.x(qr_in[i]) \n",
    "\n",
    "    qc.barrier()\n",
    "\n",
    "    'codificamos la función lineal x.a '\n",
    "###\n",
    "#\n",
    "#        Tu solución aquí\n",
    "#\n",
    "#\n",
    "####\n",
    "            \n",
    "    qc.barrier()\n",
    "    qc.measure(qr_out[0],cr[0])\n",
    "    \n",
    "    return qc "
   ]
  },
  {
   "cell_type": "markdown",
   "id": "eea9fc58",
   "metadata": {},
   "source": [
    "Veamos un ejemplo"
   ]
  },
  {
   "cell_type": "code",
   "execution_count": 46,
   "id": "512ebfac",
   "metadata": {
    "tags": [
     "skip_execution"
    ]
   },
   "outputs": [
    {
     "name": "stdout",
     "output_type": "stream",
     "text": [
      "0 1\n",
      "1 0\n",
      "2 1\n",
      "3 1\n"
     ]
    },
    {
     "data": {
      "image/png": "[encoded data removed]",
      "text/plain": [
       "<Figure size 510.006x535.111 with 1 Axes>"
      ]
     },
     "execution_count": 46,
     "metadata": {},
     "output_type": "execute_result"
    }
   ],
   "source": [
    "a = '1011'\n",
    "x = '1101'\n",
    "\n",
    "circuit = linear_circuit(x,a)\n",
    "circuit.draw('mpl')"
   ]
  },
  {
   "cell_type": "markdown",
   "id": "0f2be722",
   "metadata": {},
   "source": [
    "La función $a\\cdot x = (1 + 0 + 0 + 1)mod(2) = 0$. Vamos a ver si este resultado es el hallado"
   ]
  },
  {
   "cell_type": "code",
   "execution_count": 47,
   "id": "7971e571",
   "metadata": {
    "tags": [
     "skip_execution"
    ]
   },
   "outputs": [
    {
     "data": {
      "text/plain": [
       "{'0': 1000}"
      ]
     },
     "execution_count": 47,
     "metadata": {},
     "output_type": "execute_result"
    }
   ],
   "source": [
    "# transpilamos\n",
    "t_circuit = transpile(circuit, backend = simulador)\n",
    "\n",
    "# Ejecutamos la simulación con 1000 shots \n",
    "result = simulador.run(t_circuit, shots = 1000).result()\n",
    "counts = result.get_counts()\n",
    "counts"
   ]
  },
  {
   "cell_type": "code",
   "execution_count": 48,
   "id": "b85a11d0",
   "metadata": {},
   "outputs": [
    {
     "data": {
      "text/html": [
       "<h3>Version Information</h3><table><tr><th>Software</th><th>Version</th></tr><tr><td><code>qiskit</code></td><td>0.45.1</td></tr><tr><td><code>qiskit_aer</code></td><td>0.13.1</td></tr><tr><td><code>qiskit_ibm_provider</code></td><td>0.7.3</td></tr><tr><th colspan='2'>System information</th></tr><tr><td>Python version</td><td>3.11.6</td></tr><tr><td>Python compiler</td><td>GCC 12.3.0</td></tr><tr><td>Python build</td><td>main, Oct  3 2023 10:40:35</td></tr><tr><td>OS</td><td>Linux</td></tr><tr><td>CPUs</td><td>6</td></tr><tr><td>Memory (Gb)</td><td>15.200374603271484</td></tr><tr><td colspan='2'>Fri Oct 04 20:59:41 2024 CEST</td></tr></table>"
      ],
      "text/plain": [
       "<IPython.core.display.HTML object>"
      ]
     },
     "metadata": {},
     "output_type": "display_data"
    }
   ],
   "source": [
    "import qiskit.tools.jupyter\n",
    "%qiskit_version_table"
   ]
  }
 ],
 "metadata": {
  "celltoolbar": "Tags",
  "kernelspec": {
   "display_name": "Python 3 (ipykernel)",
   "language": "python",
   "name": "python3"
  },
  "language_info": {
   "codemirror_mode": {
    "name": "ipython",
    "version": 3
   },
   "file_extension": ".py",
   "mimetype": "text/x-python",
   "name": "python",
   "nbconvert_exporter": "python",
   "pygments_lexer": "ipython3",
   "version": "3.11.5"
  },
  "nbTranslate": {
   "displayLangs": [
    "*"
   ],
   "hotkey": "alt-t",
   "langInMainMenu": true,
   "sourceLang": "es",
   "targetLang": "en",
   "useGoogleTranslate": true
  },
  "toc": {
   "base_numbering": 1,
   "nav_menu": {},
   "number_sections": false,
   "sideBar": true,
   "skip_h1_title": true,
   "title_cell": "Table of Contents",
   "title_sidebar": "Contents",
   "toc_cell": false,
   "toc_position": {
    "height": "calc(100% - 180px)",
    "left": "10px",
    "top": "150px",
    "width": "303.639px"
   },
   "toc_section_display": true,
   "toc_window_display": false
  }
 },
 "nbformat": 4,
 "nbformat_minor": 5
}
